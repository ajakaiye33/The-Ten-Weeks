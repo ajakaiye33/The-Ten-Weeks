{
 "cells": [
  {
   "cell_type": "markdown",
   "metadata": {},
   "source": [
    "# Monday : Creating and Instantiating a Class"
   ]
  },
  {
   "cell_type": "markdown",
   "metadata": {},
   "source": [
    "## What is an object?\n",
    "- classes are blueprints from which objects are created\n",
    "- From such a class different objects could be made\n",
    "\n",
    "## OOP Stages\n",
    "- Two stages are involve:\n",
    "    - `class definition`: like function definition, this stage is where you write the blueprint to be used when called\n",
    "    - `Instantiation`: This is the process of creating an object from the class definition. After an object is instantiated,it is known as `instance`\n",
    "\n",
    "## Creating A Class\n",
    "- The `class` key word is used like `def` in functions when a class is created\n",
    "- within the class, we can also establish `attributes` and `methods`"
   ]
  },
  {
   "cell_type": "code",
   "execution_count": 1,
   "metadata": {},
   "outputs": [],
   "source": [
    "# creating your first class\n",
    "class Car():\n",
    "    pass # simply using as a placeholder "
   ]
  },
  {
   "cell_type": "markdown",
   "metadata": {},
   "source": [
    "## Creating an Instance\n",
    "- Instance is a version of a class which is created by assigning essentially the name of a class followed by parentheses to a variable(object name)"
   ]
  },
  {
   "cell_type": "code",
   "execution_count": 2,
   "metadata": {},
   "outputs": [
    {
     "name": "stdout",
     "output_type": "stream",
     "text": [
      "<__main__.Car object at 0x10e7dc6d8>\n"
     ]
    }
   ],
   "source": [
    "# Instantiating an object from a class\n",
    "class Car(): # parent are optional here\n",
    "    pass\n",
    "ford = Car() # crreates an instance of the Car class and stores into the variable ford\n",
    "print(ford)"
   ]
  },
  {
   "cell_type": "markdown",
   "metadata": {},
   "source": [
    "## Creating Multiple Instances\n",
    "- different instances can be created from a class but each class should be assigned to a different variable"
   ]
  },
  {
   "cell_type": "code",
   "execution_count": 3,
   "metadata": {},
   "outputs": [
    {
     "name": "stdout",
     "output_type": "stream",
     "text": [
      "-9223372036571145142\n",
      "283630677\n"
     ]
    }
   ],
   "source": [
    "# instantiating multiple objects from the same class\n",
    "class Car():\n",
    "    pass\n",
    "ford = Car()\n",
    "subaru = Car() # creates another object from the car class\n",
    "print(hash(ford))\n",
    "print(hash(subaru)) # hash output a numerical representation of the location in memory for the variable"
   ]
  },
  {
   "cell_type": "code",
   "execution_count": 4,
   "metadata": {},
   "outputs": [
    {
     "name": "stdout",
     "output_type": "stream",
     "text": [
      "<__main__.Animal object at 0x10e7dc6d8>\n",
      "<__main__.Animal object at 0x10e7dc5c0>\n"
     ]
    }
   ],
   "source": [
    "# exercise\n",
    "class Animal():\n",
    "    pass\n",
    "lion = Animal()\n",
    "tiger = Animal()\n",
    "print(lion)\n",
    "print(tiger)"
   ]
  },
  {
   "cell_type": "code",
   "execution_count": 6,
   "metadata": {},
   "outputs": [
    {
     "name": "stdout",
     "output_type": "stream",
     "text": [
      "<__main__.Bus object at 0x10f8ec208>\n"
     ]
    }
   ],
   "source": [
    "class Bus:\n",
    "    pass\n",
    "schoo_bus = Bus()\n",
    "print(schoo_bus)"
   ]
  },
  {
   "cell_type": "markdown",
   "metadata": {},
   "source": [
    "# Tuesday: Attributes\n",
    "- attributes are essentially variables defined within the class. It is a source of information for an object\n"
   ]
  },
  {
   "cell_type": "markdown",
   "metadata": {},
   "source": [
    "### Declaring and accessing attributes\n",
    "- similar to variables, attributes are declared with a name and value but unlike variable they are declared within a class. To have access to the attribute an instance has to be created"
   ]
  },
  {
   "cell_type": "code",
   "execution_count": 1,
   "metadata": {},
   "outputs": [
    {
     "name": "stdout",
     "output_type": "stream",
     "text": [
      "red\n"
     ]
    }
   ],
   "source": [
    "# How to define a class attribute\n",
    "class Car():\n",
    "    sound = 'beep' # all car object will have this sound attribute and its value\n",
    "    color = 'red' # all car objects will have this color attribute and its value\n",
    "ford = Car()\n",
    "print(ford.color) # known as 'dot syntax'"
   ]
  },
  {
   "cell_type": "markdown",
   "metadata": {},
   "source": [
    "### Changing an Instance Attributes\n",
    "- an attribute may be change with the aid of the dot syntax"
   ]
  },
  {
   "cell_type": "code",
   "execution_count": 2,
   "metadata": {},
   "outputs": [
    {
     "name": "stdout",
     "output_type": "stream",
     "text": [
      "beep\n",
      "honk\n"
     ]
    }
   ],
   "source": [
    "# changing the value of an attribute\n",
    "class Car():\n",
    "    sound = 'beep'\n",
    "    color = 'red'\n",
    "ford = Car()\n",
    "print(ford.sound) # will outpu 'beep'\n",
    "ford.sound = 'honk' # from now on the value of fords sound is honk, this doesn't affect other instances\n",
    "print(ford.sound)"
   ]
  },
  {
   "cell_type": "markdown",
   "metadata": {},
   "source": [
    "### Using The __init__() Method\n",
    "- with the special init method,which is prefix and suffix with double underscores ensure personalized properties of instances"
   ]
  },
  {
   "cell_type": "code",
   "execution_count": 3,
   "metadata": {},
   "outputs": [
    {
     "name": "stdout",
     "output_type": "stream",
     "text": [
      "blue\n"
     ]
    }
   ],
   "source": [
    "# Using the init method to give instances personalized attributes upon creation\n",
    "class Car():\n",
    "    def __init__(self,color):\n",
    "        self.color = color # sets the attributes color to the value passed in\n",
    "ford = Car('blue') # instantiating a car class with the color blue\n",
    "print(ford.color)"
   ]
  },
  {
   "cell_type": "markdown",
   "metadata": {},
   "source": [
    "### The 'Self' Keyword\n",
    "- The `self` key word is a reference to the current instance of the class and is used to access variable and methods associated with that instance\n"
   ]
  },
  {
   "cell_type": "markdown",
   "metadata": {},
   "source": [
    "### Instantiating Multiple Objects with __init__()"
   ]
  },
  {
   "cell_type": "code",
   "execution_count": 4,
   "metadata": {},
   "outputs": [
    {
     "name": "stdout",
     "output_type": "stream",
     "text": [
      "blue 2016\n",
      "red 2018\n"
     ]
    }
   ],
   "source": [
    "# defining different values for multiple instances \n",
    "class Car():\n",
    "    def __init__(self, color,year):\n",
    "        self.color = color # set the attribute color to the value passed \n",
    "        self.year = year\n",
    "ford = Car('blue', 2016) # create a car object with the color blue and year 2016\n",
    "subaru = Car('red', 2018) # create a car object with the color red and year 2018\n",
    "print(ford.color, ford.year)\n",
    "print(subaru.color, subaru.year)"
   ]
  },
  {
   "cell_type": "markdown",
   "metadata": {},
   "source": [
    "### Global Attributes Vs Instance Attributes\n",
    "- when an attribute is declared withing the init method, it is `instance attribute`and can be accessed by the but when declared outside the init method it is called `global attributes`"
   ]
  },
  {
   "cell_type": "code",
   "execution_count": 5,
   "metadata": {},
   "outputs": [
    {
     "name": "stdout",
     "output_type": "stream",
     "text": [
      "beep\n",
      "beep blue\n"
     ]
    }
   ],
   "source": [
    "# using and accessing global class attributes\n",
    "class Car():\n",
    "    sound = 'beep' # global attribute, accessing through the class itself\n",
    "    def __init__(self, color):\n",
    "        self.color = 'blue' # instance specific attributes, not accessible through the class itself\n",
    "print(Car.sound)\n",
    "# print(Car.color) won't work as color is only available to instances of the Car class, not the class itself\n",
    "ford = Car('blue')\n",
    "print(ford.sound, ford.color) # color will work as this is an instance\n",
    "        "
   ]
  },
  {
   "cell_type": "code",
   "execution_count": 10,
   "metadata": {},
   "outputs": [
    {
     "name": "stdout",
     "output_type": "stream",
     "text": [
      "Sammi\n",
      "Husky\n",
      "Canine\n",
      "My first neigbour dog name is Casey and it is of the Chocolate lab bread and a species of Canine\n"
     ]
    }
   ],
   "source": [
    "# excercises\n",
    "class Dog:\n",
    "    species = 'Canine'\n",
    "    def __init__(self,name, breed):\n",
    "        self.name = name\n",
    "        self.breed = breed\n",
    "dog1 = Dog('Sammi','Husky')\n",
    "print(dog1.name)\n",
    "print(dog1.breed)\n",
    "print(dog1.species)\n",
    "dog2 = Dog('Casey', 'Chocolate lab')\n",
    "print(f'My first neigbour dog name is {dog2.name} and it is of the {dog2.breed} bread and a species of {dog1.species}')\n",
    "#print()\n",
    "#print(dog2.species)"
   ]
  },
  {
   "cell_type": "code",
   "execution_count": 15,
   "metadata": {},
   "outputs": [
    {
     "name": "stdout",
     "output_type": "stream",
     "text": [
      "what your name?Harry\n",
      "Harry\n"
     ]
    }
   ],
   "source": [
    "class Person:\n",
    "    def __init__(self, get_name):\n",
    "        self.get_name = input('what your name?')\n",
    "person1 = Person('get_name')\n",
    "print(person1.get_name)\n",
    "    "
   ]
  },
  {
   "cell_type": "markdown",
   "metadata": {},
   "source": [
    "# Wednesday:Methods\n",
    "- methods represent the action or the verb of the construct. Its basically functions within classes\n"
   ]
  },
  {
   "cell_type": "markdown",
   "metadata": {},
   "source": [
    "### Defining & Calling A Method\n",
    "- Methods are basically functions but defined within the class indentation block. \n",
    "- For method that would be accessed through instances, they must be defined with the key word `self` otherwise they may only be accessed through the class"
   ]
  },
  {
   "cell_type": "code",
   "execution_count": 2,
   "metadata": {},
   "outputs": [
    {
     "name": "stdout",
     "output_type": "stream",
     "text": [
      "bark\n"
     ]
    }
   ],
   "source": [
    "# defining and calling our firdt class method\n",
    "class Dog():\n",
    "    def makeSound(self):\n",
    "        print('bark')\n",
    "sam = Dog()\n",
    "sam.makeSound()"
   ]
  },
  {
   "cell_type": "markdown",
   "metadata": {},
   "source": [
    "### Accessing class attributes in methods\n",
    "- Method can access the attributes declared above with the self key word"
   ]
  },
  {
   "cell_type": "code",
   "execution_count": 3,
   "metadata": {},
   "outputs": [
    {
     "name": "stdout",
     "output_type": "stream",
     "text": [
      "bark\n"
     ]
    }
   ],
   "source": [
    "# using the self keyword to acces attributes within class methods\n",
    "class Dog():\n",
    "    sound = 'bark'\n",
    "    def makeSound(self):\n",
    "        print(self.sound) # self required to acces attribute defined in the class\n",
    "sam = Dog()\n",
    "sam.makeSound()"
   ]
  },
  {
   "cell_type": "markdown",
   "metadata": {},
   "source": [
    "### Method Scope\n",
    "- This is when an item of a method is only accessible through the class itself and not the instance of the class.\n",
    "- Its also called `static method`. They aren't accessible by instances of the class"
   ]
  },
  {
   "cell_type": "code",
   "execution_count": 4,
   "metadata": {},
   "outputs": [
    {
     "name": "stdout",
     "output_type": "stream",
     "text": [
      "I am a dog\n",
      "bark\n"
     ]
    }
   ],
   "source": [
    "# understanding which methods are accessible via the class itself and class instance\n",
    "class Dog():\n",
    "    sound = 'bark'\n",
    "    def makeSound(self):\n",
    "        print(self.sound)\n",
    "    def printInfo():\n",
    "        print('I am a dog')\n",
    "Dog.printInfo() # able to run printInfo method becasue it does not include self parameter\n",
    "# Dog.makeSound() would produce an error becasue self is in reference to instance only\n",
    "sam = Dog()\n",
    "sam.makeSound() # able to access because self can access the instance of sam\n",
    "# sam.printinfo() will produce error because instance of sam cannot access printinfo method without the self key word"
   ]
  },
  {
   "cell_type": "markdown",
   "metadata": {},
   "source": [
    "### Passing Arguments into methods\n",
    "- functions within a class i.e method may pass argument however the parameter need not be prefixed with self as they aren't attribute but temporary variable available to the method"
   ]
  },
  {
   "cell_type": "code",
   "execution_count": 5,
   "metadata": {},
   "outputs": [
    {
     "name": "stdout",
     "output_type": "stream",
     "text": [
      "6\n"
     ]
    }
   ],
   "source": [
    "# writing methods that accept parameters\n",
    "class Dog():\n",
    "    def showAge(self, age):\n",
    "        print(age) # does not need self as age is referencing the parameter and not an sttribute\n",
    "sam = Dog()\n",
    "sam.showAge(6) # passing the integer 6 as an argument to the showage method"
   ]
  },
  {
   "cell_type": "markdown",
   "metadata": {},
   "source": [
    "### Using Setters and Getters\n",
    "- Basically encouraging the use of method to change(`setters`) and access(`getter`) class attributes rather than directly"
   ]
  },
  {
   "cell_type": "code",
   "execution_count": 6,
   "metadata": {},
   "outputs": [
    {
     "name": "stdout",
     "output_type": "stream",
     "text": [
      "Sammi\n"
     ]
    }
   ],
   "source": [
    "# using methods to set oor return attribute values, proper programming practice\n",
    "class Dog():\n",
    "    name = '' # for testing purpose\n",
    "    def setName(self, new_name):\n",
    "        self.name = new_name # declares the new value for the name attribute (changes it accordingly)\n",
    "    def getName(self):\n",
    "        return self.name # return the value of the name attribute\n",
    "sam = Dog()\n",
    "sam.setName('Sammi')\n",
    "print(sam.getName()) # prints the return value of self.name"
   ]
  },
  {
   "cell_type": "markdown",
   "metadata": {},
   "source": [
    "### Incrementing attributes with Methods\n",
    "- As a best practice use method should you intend to decrement or increment  class attributes\n"
   ]
  },
  {
   "cell_type": "code",
   "execution_count": 7,
   "metadata": {},
   "outputs": [
    {
     "name": "stdout",
     "output_type": "stream",
     "text": [
      "6\n"
     ]
    }
   ],
   "source": [
    "# Incrementing/decrementing attribute values with methods, best programming practice\n",
    "class Dog():\n",
    "    age = 5\n",
    "    def happyBirthday(self):\n",
    "        self.age += 1\n",
    "sam = Dog()\n",
    "sam.happyBirthday() # call method to increment value by one\n",
    "print(sam.age) # You are advised to use getters in this instance instead of directl accessing"
   ]
  },
  {
   "cell_type": "markdown",
   "metadata": {},
   "source": [
    "### Method Calling Methods\n",
    "- if you must call a method from another method you must use the self key word"
   ]
  },
  {
   "cell_type": "code",
   "execution_count": 8,
   "metadata": {},
   "outputs": [
    {
     "name": "stdout",
     "output_type": "stream",
     "text": [
      "Puppy\n"
     ]
    }
   ],
   "source": [
    "# calling a class method from another method\n",
    "class Dog():\n",
    "    age = 6\n",
    "    def getAge(self):\n",
    "        return self.age\n",
    "    def printInfo(self):\n",
    "        if self.getAge() < 10: # need self to call other method for an instance\n",
    "            print('Puppy')\n",
    "sam = Dog()\n",
    "sam.printInfo()"
   ]
  },
  {
   "cell_type": "markdown",
   "metadata": {},
   "source": [
    "### Magic Methods\n",
    "- Magic methods are critical in python\n",
    "- They are methods prefix and suffix with two underscore e.g __str__ magic method for printing\n",
    "- They are equally at play when we use the various operators (+, -, /,*,==)\n"
   ]
  },
  {
   "cell_type": "code",
   "execution_count": 9,
   "metadata": {},
   "outputs": [
    {
     "name": "stdout",
     "output_type": "stream",
     "text": [
      "This is a dog class\n"
     ]
    }
   ],
   "source": [
    "# using magic method\n",
    "class Dog():\n",
    "    def __str__(self):\n",
    "        return 'This is a dog class'\n",
    "sam = Dog()\n",
    "print(sam)"
   ]
  },
  {
   "cell_type": "code",
   "execution_count": 12,
   "metadata": {},
   "outputs": [
    {
     "name": "stdout",
     "output_type": "stream",
     "text": [
      "feline\n"
     ]
    }
   ],
   "source": [
    "# exercise\n",
    "class Animal:\n",
    "    def __init__(self):\n",
    "        species = ''\n",
    "    def getSpecies(self):\n",
    "        return self.species\n",
    "    def setSpaecies(self, thespecies):\n",
    "        self.species = thespecies\n",
    "lion = Animal()\n",
    "lion.setSpaecies('feline')\n",
    "print(lion.getSpecies())"
   ]
  },
  {
   "cell_type": "code",
   "execution_count": 25,
   "metadata": {},
   "outputs": [
    {
     "name": "stdout",
     "output_type": "stream",
     "text": [
      "what is your age?64\n"
     ]
    },
    {
     "data": {
      "text/plain": [
       "'Jaiye you are 64 years old'"
      ]
     },
     "execution_count": 25,
     "metadata": {},
     "output_type": "execute_result"
    }
   ],
   "source": [
    "class Person:\n",
    "    def __init__(self, name,age):\n",
    "        self.name = name\n",
    "        self.age = 0\n",
    "    def getAge(self):\n",
    "        self.age = int(input('what is your age?'))\n",
    "        return self.age\n",
    "    def setAge(self,new_age):\n",
    "        self.age = new_age\n",
    "        \n",
    "    def printInfo(self):\n",
    "        return f'{self.name} you are {self.age} years old'\n",
    "        \n",
    "pone = Person('Jaiye',0)\n",
    "pone.getAge()\n",
    "#pone.setAge(70)\n",
    "pone.printInfo()"
   ]
  },
  {
   "cell_type": "markdown",
   "metadata": {},
   "source": [
    "# Thursday: Inheritance"
   ]
  },
  {
   "cell_type": "markdown",
   "metadata": {},
   "source": [
    "### What is Inheritance\n",
    "- It emphasizes code re-usability in programming especially where a class has similar attributes and methods with a class you intend to create, rather than repeat yourself you we `inheritance`\n",
    "- when a commonality is observed it is encourage to create a `superclass` and the classes that would inherit methods and attributes from the super class are called `subclasses`\n",
    "\n",
    "### Inheriting A class\n",
    "-To inherit a class, we need to put the name of the class we are inheriting between the parentheses after the name of the subclass\n"
   ]
  },
  {
   "cell_type": "code",
   "execution_count": 1,
   "metadata": {},
   "outputs": [
    {
     "name": "stdout",
     "output_type": "stream",
     "text": [
      "roar\n"
     ]
    }
   ],
   "source": [
    "# inheriting a class and accessing the inherited method\n",
    "class Animal():\n",
    "    def makeSound(self):\n",
    "        print('roar')\n",
    "class Dog(Animal): # inheriting Animal class\n",
    "    species = 'Canine'\n",
    "sam = Dog()\n",
    "sam.makeSound() # accessible through inheritance\n",
    "lion = Animal()\n",
    "# lion.species # not accessible as inheritance doesn't work backwards"
   ]
  },
  {
   "cell_type": "markdown",
   "metadata": {},
   "source": [
    "### Using the Super() Method\n",
    "- The `super` key word is used to initialize the values in the superclass"
   ]
  },
  {
   "cell_type": "code",
   "execution_count": 3,
   "metadata": {},
   "outputs": [
    {
     "name": "stdout",
     "output_type": "stream",
     "text": [
      "Canine\n"
     ]
    }
   ],
   "source": [
    "# using the super() method to declare inherited attributes\n",
    "class Animal():\n",
    "    def __init__(self, species):\n",
    "        self.species = species\n",
    "class Dog(Animal):\n",
    "    def __init__(self, species, name):\n",
    "        self.name = name\n",
    "        super().__init__(species) # using super to declare the species attributes defined in the Animal\n",
    "sam = Dog('Canine', 'Sammi')\n",
    "print(sam.species)"
   ]
  },
  {
   "cell_type": "markdown",
   "metadata": {},
   "source": [
    "### Method Overriding\n",
    "- This is where you wish a subclass could perform different actions other than the once inherited from the superclass\n"
   ]
  },
  {
   "cell_type": "code",
   "execution_count": 5,
   "metadata": {},
   "outputs": [
    {
     "name": "stdout",
     "output_type": "stream",
     "text": [
      "bark\n",
      "roar\n"
     ]
    }
   ],
   "source": [
    "# overriding methods ddefined in the superclass\n",
    "class Animal():\n",
    "    def makeSound(self):\n",
    "        print('roar')\n",
    "class Dog(Animal):\n",
    "    def makeSound(self):\n",
    "        print('bark')\n",
    "sam, lion = Dog(), Animal() # declaring multiple variable on a single line\n",
    "sam.makeSound() # overriding will call the makeSound methos in Dog\n",
    "lion.makeSound() # No overriding occures as Animal does not inherit anything"
   ]
  },
  {
   "cell_type": "markdown",
   "metadata": {},
   "source": [
    "### Inheriting Multiple Classes\n",
    "- Rather than using the super method, the class name is called directly and passed in the self parameter with the attributes"
   ]
  },
  {
   "cell_type": "code",
   "execution_count": 7,
   "metadata": {},
   "outputs": [
    {
     "name": "stdout",
     "output_type": "stream",
     "text": [
      "9.8 Ford\n"
     ]
    }
   ],
   "source": [
    "# How to inherit multiple classes\n",
    "class Physics():\n",
    "    gravity = 9.8\n",
    "class Automobile():\n",
    "    def __init__(self,make,model, year):\n",
    "        self.make, self.model, self.year = make, model, year\n",
    "class Ford(Physics, Automobile): # able to access Physics and Autmobile attributes methods\n",
    "    def __init__(self, model, year):\n",
    "        Automobile.__init__(self, 'Ford', model, year) # super doesn't work with multiple\n",
    "truck = Ford('F-150', 2018)\n",
    "print(truck.gravity, truck.make) # output both attributes\n",
    "    "
   ]
  },
  {
   "cell_type": "code",
   "execution_count": 1,
   "metadata": {},
   "outputs": [],
   "source": [
    "# # exercises\n",
    "# class Characters():\n",
    "#     def __init__(self, name,team, height, weight):\n",
    "#         self.name = name\n",
    "#         self.height = height\n",
    "#         self.weight = weight\n",
    "#         self.team = 'bad'\n",
    "        \n",
    "#     def sayHello(self):\n",
    "#         print('Hello my name is Max and I am on the good guys')\n",
    "# class Goodplayer(Character):\n",
    "#     super().__init__(self, name, team, height, weight)\n",
    "# class Badplayer(Character):\n",
    "#         super().__init__(self, name, team, height, weight)\n"
   ]
  },
  {
   "cell_type": "markdown",
   "metadata": {},
   "source": [
    "# Friday \n"
   ]
  },
  {
   "cell_type": "markdown",
   "metadata": {},
   "source": [
    "## Friday Project: Creating Blackjack"
   ]
  },
  {
   "cell_type": "markdown",
   "metadata": {},
   "source": [
    "### preliminary Design\n",
    "\n",
    "- Game Attributes\n",
    "    - deck: holds all 52 cards to be used within the game\n",
    "    - suites: used to create deck, tuple of all four suits\n",
    "    - values : used to create deck, tuple of all card values\n",
    "- Game Methods\n",
    "    - makeDeck : creates new 52 card deck when called\n",
    "    - pullCard : pops random card from deck and returns it\n",
    "- Player Attributes\n",
    "    - hand: stores cards within player's hand\n",
    "    - name : string variable that stores name of the player or dealer\n",
    "- Player Methods\n",
    "    - calcHand : returns the calculated total of points in hand\n",
    "    - shoHand : print out player's hand in a nicely formatted statement\n",
    "    - addCard : takes ina card and adds it to the player's hand\n",
    "    \n",
    "\n"
   ]
  },
  {
   "cell_type": "code",
   "execution_count": 11,
   "metadata": {},
   "outputs": [
    {
     "name": "stdout",
     "output_type": "stream",
     "text": [
      "\n",
      "harr\n",
      "==================\n",
      "7 of Diamond\n",
      "Total = 22\n",
      "10 of Clubs\n",
      "Total = 22\n",
      "4 of Spades\n",
      "Total = 22\n",
      "A of Clubs\n",
      "Total = 22\n",
      "\n",
      "Dealer\n",
      "==================\n",
      "- of -\n",
      "K of Spades\n",
      "Total = 10\n",
      "9 of Diamond\n",
      "Total = 10\n",
      "You lose!\n"
     ]
    }
   ],
   "source": [
    "# importing necessary functions\n",
    "from random import randint # allow us to get a random number\n",
    "from IPython.display import clear_output\n",
    "\n",
    "# create the blackjack class, which will hold all game methods and attributes\n",
    "class Blackjack():\n",
    "    def __init__(self):\n",
    "        self.deck = [] # set to an empty list\n",
    "        self.suits = ('Spades', 'Hearts', 'Diamond','Clubs')\n",
    "        self.values = (2, 3, 4, 5, 6, 7, 8, 9, 10, 'J','Q','K','A')\n",
    "        \n",
    "    #create a method that creates a deck of 52 cards should be tuple with a value and suit\n",
    "    def makeDeck(self):\n",
    "        for suit in self.suits:\n",
    "            for value in self.values:\n",
    "                self.deck.append((value, suit)) # ex: (7, 'Hearts')\n",
    "                \n",
    "    # method to pop a card from deck using a random index value\n",
    "    def pullCard(self):\n",
    "        return self.deck.pop(randint(0, len(self.deck) - 1))\n",
    "    \n",
    "    # create a class for the dealer and player objects\n",
    "class Player():\n",
    "    def __init__(self, name):\n",
    "        self.name = name\n",
    "        self.hand = []\n",
    "        \n",
    "    # take in a tuple and append it to the hand\n",
    "    def addCard(self, card):\n",
    "        self.hand.append(card)\n",
    "\n",
    "    # if not dealer's turn then only show one of his cards, otherwise show all\n",
    "    def showHand(self, dealer_start=True):\n",
    "        print(f'\\n{self.name}')\n",
    "        print('==================')\n",
    "        \n",
    "        for i in range(len(self.hand)):\n",
    "            if self.name == 'Dealer' and i == 0 and dealer_start:\n",
    "                print('- of -') # hide first card\n",
    "            else:\n",
    "                card = self.hand[i]\n",
    "                print(f'{card[0]} of {card[1]}')\n",
    "                print(f'Total = {self.calcHand(dealer_start)}')\n",
    "                \n",
    "    # if not dealer's turn then only give back total of second card\n",
    "    def calcHand(self, dealer_start=True):\n",
    "        total = 0\n",
    "        aces = 0 # calculate aces afterwards\n",
    "        card_values = {1:1, 2:2, 3:3, 4:4, 5:5, 6:6, 7:7, 8:8, 9:9, 10:10, 'J':10, 'Q':10, 'K':10, 'A':11}\n",
    "        \n",
    "        if self.name == 'Dealer' and dealer_start:\n",
    "            card = self.hand[1]\n",
    "            return card_values[card[0]]\n",
    "        for card in self.hand:\n",
    "            if card[0] == 'A':\n",
    "                aces += 1\n",
    "            else:\n",
    "                total += card_values[card[0]]\n",
    "        \n",
    "        \n",
    "        for i in range(aces):\n",
    "            if total + 11 > 21:\n",
    "                total += 1\n",
    "            else:\n",
    "                total += 11\n",
    "        \n",
    "        return total\n",
    "                \n",
    "game = Blackjack()\n",
    "game.makeDeck()\n",
    "\n",
    "name = input('what is your name? ')\n",
    "player = Player(name)\n",
    "dealer = Player('Dealer')\n",
    "\n",
    "# add two cards to the dealer and player hand\n",
    "for i in range(2):\n",
    "    player.addCard(game.pullCard())\n",
    "    dealer.addCard(game.pullCard())\n",
    "    \n",
    "    # show both hands using method\n",
    "player.showHand()\n",
    "dealer.showHand()\n",
    "\n",
    "player_bust = False # variable to keep track of player going over 21\n",
    "\n",
    "while input('Would you like to stay or hit?').lower() != 'stay':\n",
    "    clear_output()\n",
    "    \n",
    "    # pull card and put into player's hand\n",
    "    player.addCard(game.pullCard())\n",
    "    \n",
    "    # show both hands using method\n",
    "    player.showHand()\n",
    "    dealer.showHand()\n",
    "    \n",
    "    # check if over 21\n",
    "    if player.calcHand() > 21:\n",
    "        player_bust = True # player busted, keep track for later\n",
    "        print('You lose!') # remove after running correctly\n",
    "        break # break out of the player's loop\n",
    "    # Handling the dealer's turn, only run if player didn't bust\n",
    "    dealer_bust = False\n",
    "    \n",
    "    if not player_bust:\n",
    "        while dealer.calcHand(False) < 17: # pass False to calculate all cards\n",
    "            #pull card and put into players's hand\n",
    "            dealer.addCard(game.pullCard())\n",
    "            # check if over 21\n",
    "            if dealer.calcHand(False) > 21: # pass False to calculate all cards\n",
    "                dealer_bust = True\n",
    "                \n",
    "                print('You win!') # remove after running correctly\n",
    "                break # break out of the dealer's loop\n",
    "    clear_output()\n",
    "    \n",
    "    # show both hands using method\n",
    "    player.showHand()\n",
    "    dealer.showHand(False) # pass False to claculate and show all cards, even when there are 2\n",
    "    \n",
    "    # calculate a winner\n",
    "    if player_bust:\n",
    "        print('You busted, better luck nesxt time!')\n",
    "    elif dealer_bust:\n",
    "        print('The dealer busted, you win!')\n",
    "    elif dealer.calcHand(False) > player.calcHand():\n",
    "        print('Dealer has higher cards, you lose!')\n",
    "    elif dealer.calcHand(False) < player.calcHand():\n",
    "        print('You beat the dealer! Congrats!')\n",
    "    else:\n",
    "        print('You pushed, no one wins')\n",
    "        \n",
    "        \n",
    "    \n",
    "    #print(f'Player Hand: {player.hand} \\nDealer Hand: {dealer.hand}')\n",
    "#print(player.name, dealer.name)\n",
    "#print(game.pullCard(), len(game.deck)) # remove this line after it prints out correctly\n"
   ]
  },
  {
   "cell_type": "code",
   "execution_count": null,
   "metadata": {},
   "outputs": [],
   "source": []
  }
 ],
 "metadata": {
  "kernelspec": {
   "display_name": "Python 3",
   "language": "python",
   "name": "python3"
  },
  "language_info": {
   "codemirror_mode": {
    "name": "ipython",
    "version": 3
   },
   "file_extension": ".py",
   "mimetype": "text/x-python",
   "name": "python",
   "nbconvert_exporter": "python",
   "pygments_lexer": "ipython3",
   "version": "3.6.8"
  }
 },
 "nbformat": 4,
 "nbformat_minor": 2
}
