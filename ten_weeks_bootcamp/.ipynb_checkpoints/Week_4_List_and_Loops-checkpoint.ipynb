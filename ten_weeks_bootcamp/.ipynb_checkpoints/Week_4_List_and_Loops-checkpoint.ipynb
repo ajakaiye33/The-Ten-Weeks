{
 "cells": [
  {
   "cell_type": "markdown",
   "metadata": {},
   "source": [
    "# Monday\n",
    "### List"
   ]
  },
  {
   "cell_type": "markdown",
   "metadata": {},
   "source": [
    "### Objectives:\n",
    "- Understanding list data types\n",
    "- How and why to use for loops\n",
    "- How and why to use while loops\n",
    "- Understanding how to work with lists\n",
    "- Create the Hangman Game"
   ]
  },
  {
   "cell_type": "markdown",
   "metadata": {},
   "source": [
    "### What are Lists\n",
    "- Is a data structure in python that is a mutable, ordered sequence of elements\n",
    "- They are very popular data types which in other language they are often referred to as `arrays'\n",
    "- List as far as python is concern is amongst data collection\n",
    "- `[]` it's mutable because the items within it can be changed and it's ordered and sequential because the elements within it are organize according to index numbers"
   ]
  },
  {
   "cell_type": "markdown",
   "metadata": {},
   "source": [
    "### Declaring a List of Number\n",
    "- Its declared like other variable however in the case of a list a variable is may be used to refers to a bunch of thing/values within a list `[]` which could range from numbers, strings and others and which are separated with a coma"
   ]
  },
  {
   "cell_type": "code",
   "execution_count": 2,
   "metadata": {},
   "outputs": [
    {
     "name": "stdout",
     "output_type": "stream",
     "text": [
      "[5, 10, 15.2, 20]\n"
     ]
    }
   ],
   "source": [
    "## dealcaring a list of number\n",
    "nums = [5,10, 15.2, 20]\n",
    "print(nums)\n"
   ]
  },
  {
   "cell_type": "markdown",
   "metadata": {},
   "source": [
    "### Accessing Elements within a List\n",
    "- To locate element within a list you use the index and in python counting starts from `0` not `1`"
   ]
  },
  {
   "cell_type": "code",
   "execution_count": 3,
   "metadata": {},
   "outputs": [
    {
     "name": "stdout",
     "output_type": "stream",
     "text": [
      "10\n",
      "15.2\n"
     ]
    }
   ],
   "source": [
    "#accessing elements within a list\n",
    "print(nums[1])\n",
    "num = nums[2] # saves index value 2 into num\n",
    "print(num)"
   ]
  },
  {
   "cell_type": "markdown",
   "metadata": {},
   "source": [
    "### Declaring a list of mixed data type"
   ]
  },
  {
   "cell_type": "code",
   "execution_count": 7,
   "metadata": {},
   "outputs": [
    {
     "name": "stdout",
     "output_type": "stream",
     "text": [
      "[4.3, 'word', True]\n",
      "[5, 'book', [34, 'hello'], True]\n",
      "[34, 'hello']\n"
     ]
    }
   ],
   "source": [
    "# declaring a list with missed types\n",
    "num = 4.3\n",
    "data = [num, \"word\", True] # typical of a data collection\n",
    "print(data)\n",
    "\n",
    "## List with a list\n",
    "data = [5, \"book\", [34,\"hello\"], True] #it can hold any type\n",
    "print(data)\n",
    "print(data[2])"
   ]
  },
  {
   "cell_type": "markdown",
   "metadata": {},
   "source": [
    "### Accessing List within a list\n",
    "- this done with two `[][]` instead of one"
   ]
  },
  {
   "cell_type": "code",
   "execution_count": 8,
   "metadata": {},
   "outputs": [
    {
     "name": "stdout",
     "output_type": "stream",
     "text": [
      "34\n",
      "hello\n"
     ]
    }
   ],
   "source": [
    "# using double bracket notation to acces list within list\n",
    "print(data[2][0])\n",
    "inner_list = data[2]\n",
    "print(inner_list[1])"
   ]
  },
  {
   "cell_type": "markdown",
   "metadata": {},
   "source": [
    "### Changing values in a List\n",
    "- the index of the list is used in this aspect\n"
   ]
  },
  {
   "cell_type": "code",
   "execution_count": 11,
   "metadata": {},
   "outputs": [
    {
     "name": "stdout",
     "output_type": "stream",
     "text": [
      "[5, 10, 15, 20]\n",
      "[100, 10, 15, 20]\n",
      "4549563528\n",
      "a:[5, 10]\t b: [5, 10]\n",
      " Location a[0] : 4494722608\t Location b[0]:4494722608\n",
      "a: [20, 10]\t b: [20, 10]\n"
     ]
    }
   ],
   "source": [
    "#changing values in a list through index \n",
    "data = [5, 10, 15,20]\n",
    "print(data)\n",
    "data[0] = 100\n",
    "print(data)\n",
    "\n",
    "## Variable storage\n",
    "# use the id() function\n",
    "a = [5,10]\n",
    "print(id(a))\n",
    "\n",
    "## understanding how lists are stored\n",
    "a = [5, 10]\n",
    "b = a\n",
    "print(f'a:{a}\\t b: {b}')\n",
    "print(f\" Location a[0] : {id(a[0])}\\t Location b[0]:{id(b[0])}\")\n",
    "a[0] = 20\n",
    "print(f\"a: {a}\\t b: {b}\")\n",
    "\n"
   ]
  },
  {
   "cell_type": "markdown",
   "metadata": {},
   "source": [
    "### Copying a List\n",
    "- This can be done without altering the original list\n"
   ]
  },
  {
   "cell_type": "code",
   "execution_count": 12,
   "metadata": {},
   "outputs": [
    {
     "name": "stdout",
     "output_type": "stream",
     "text": [
      "data: [50, 10, 15, 20]\t data_copy: [5, 10, 15, 20]\n"
     ]
    }
   ],
   "source": [
    "# using the [:] to copy a list\n",
    "data = [5, 10, 15,20]\n",
    "data_copy = data[:] # the method .copy() can also be used to copy\n",
    "data[0] = 50\n",
    "print(f\"data: {data}\\t data_copy: {data_copy}\")"
   ]
  },
  {
   "cell_type": "code",
   "execution_count": 23,
   "metadata": {},
   "outputs": [
    {
     "name": "stdout",
     "output_type": "stream",
     "text": [
      "I like playing: Volleyball\n",
      "I like playing: soccer\n",
      "I like playing: chess\n",
      "the first letter of John is: J\t the first letter of Abraham is: A\n"
     ]
    }
   ],
   "source": [
    "#exercises\n",
    "sports = ['Volleyball', 'soccer','chess']\n",
    "print(f'I like playing: {sports[0]}')\n",
    "print(f'I like playing: {sports[1]}')\n",
    "print(f'I like playing: {sports[2]}')\n",
    "\n",
    "#exercise first letter\n",
    "names = ['John', 'Abraham', 'Sam','Kelly']\n",
    "print(f'the first letter of {names[0]} is: {names[0][0]}\\t the first letter of {names[1]} is: {names[1][0]}')"
   ]
  },
  {
   "cell_type": "code",
   "execution_count": null,
   "metadata": {},
   "outputs": [],
   "source": []
  }
 ],
 "metadata": {
  "kernelspec": {
   "display_name": "Python 3",
   "language": "python",
   "name": "python3"
  },
  "language_info": {
   "codemirror_mode": {
    "name": "ipython",
    "version": 3
   },
   "file_extension": ".py",
   "mimetype": "text/x-python",
   "name": "python",
   "nbconvert_exporter": "python",
   "pygments_lexer": "ipython3",
   "version": "3.6.8"
  }
 },
 "nbformat": 4,
 "nbformat_minor": 2
}
