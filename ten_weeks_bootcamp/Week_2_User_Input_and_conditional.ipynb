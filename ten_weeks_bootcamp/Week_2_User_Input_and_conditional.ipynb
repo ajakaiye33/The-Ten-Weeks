{
 "cells": [
  {
   "cell_type": "markdown",
   "metadata": {},
   "source": [
    "# Monday"
   ]
  },
  {
   "cell_type": "markdown",
   "metadata": {},
   "source": [
    "## User Input and Type Converting\n",
    "- User input and types conversion are critical tools in introducing interactions with users into softwares\n",
    "### Accepting User Input\n",
    "- `input()`: This input functions act somewhat like the print, aside printing statements it also seeks to get instant feedback from the user\n"
   ]
  },
  {
   "cell_type": "code",
   "execution_count": 3,
   "metadata": {},
   "outputs": [
    {
     "name": "stdout",
     "output_type": "stream",
     "text": [
      "what is your nameJack\n",
      "Jack\n"
     ]
    }
   ],
   "source": [
    "#Accepting and outputting user input\n",
    "#print(input('what is your name'))"
   ]
  },
  {
   "cell_type": "markdown",
   "metadata": {},
   "source": [
    "### Storing User Input\n",
    "- to do anything meaningful with the input function there must be a way to store responses and feedback from users\n"
   ]
  },
  {
   "cell_type": "code",
   "execution_count": 5,
   "metadata": {},
   "outputs": [
    {
     "name": "stdout",
     "output_type": "stream",
     "text": [
      "What is your name?Jack\n",
      "Hello Jack!\n"
     ]
    }
   ],
   "source": [
    "#saving what the user inputs\n",
    "ans =  input('What is your name?')\n",
    "print('Hello {}!'.format(ans))"
   ]
  },
  {
   "cell_type": "markdown",
   "metadata": {},
   "source": [
    "### What is type converting\n",
    "- ability to change data type also come handing with handling user input interaction as all response from user are `strings` which may not be useful especially if you wish to carry out mathematical operations with such responses in the software\n",
    "### Checking the type\n"
   ]
  },
  {
   "cell_type": "code",
   "execution_count": 6,
   "metadata": {},
   "outputs": [
    {
     "name": "stdout",
     "output_type": "stream",
     "text": [
      "<class 'int'>\n"
     ]
    }
   ],
   "source": [
    "# How to check the data type of a variable\n",
    "num = 5\n",
    "print(type(num))"
   ]
  },
  {
   "cell_type": "markdown",
   "metadata": {},
   "source": [
    "### Converting Data Types\n",
    "- This is possible in python by simply using the respective function to coerce the type of a variable from `strings` to `integer`using `int()`"
   ]
  },
  {
   "cell_type": "code",
   "execution_count": 7,
   "metadata": {},
   "outputs": [
    {
     "name": "stdout",
     "output_type": "stream",
     "text": [
      "<class 'int'>\n"
     ]
    }
   ],
   "source": [
    "# converting a variablr from one data type to another\n",
    "num = '9'\n",
    "num = int(num)\n",
    "print(type(num))"
   ]
  },
  {
   "cell_type": "code",
   "execution_count": null,
   "metadata": {},
   "outputs": [],
   "source": []
  }
 ],
 "metadata": {
  "kernelspec": {
   "display_name": "Python 3",
   "language": "python",
   "name": "python3"
  },
  "language_info": {
   "codemirror_mode": {
    "name": "ipython",
    "version": 3
   },
   "file_extension": ".py",
   "mimetype": "text/x-python",
   "name": "python",
   "nbconvert_exporter": "python",
   "pygments_lexer": "ipython3",
   "version": "3.6.8"
  }
 },
 "nbformat": 4,
 "nbformat_minor": 2
}
