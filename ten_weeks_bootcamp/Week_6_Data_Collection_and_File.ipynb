{
 "cells": [
  {
   "cell_type": "markdown",
   "metadata": {},
   "source": [
    "# Monday"
   ]
  },
  {
   "cell_type": "markdown",
   "metadata": {},
   "source": [
    "## Dictionaries"
   ]
  },
  {
   "cell_type": "markdown",
   "metadata": {},
   "source": [
    "### What are dictionary?\n",
    "- It is an unordered collection of data stored in key-value pairs\n",
    "- Very useful for working with large data, mapped data, CSV file, API,sending and receiving data"
   ]
  },
  {
   "cell_type": "markdown",
   "metadata": {},
   "source": [
    "### Declaring A Dictionary\n",
    "- `{}` a dictionary is created by using open and closed curly bracket. The key-value pairs is defined within the curly bracket\n",
    "- keys can be defined with only string and numbers\n",
    "-  colon separate the key from the value\n",
    "- values can be any data or even another dictionary\n",
    "- `dict()`: we can also declare dictionary with dict()"
   ]
  },
  {
   "cell_type": "code",
   "execution_count": 2,
   "metadata": {},
   "outputs": [
    {
     "name": "stdout",
     "output_type": "stream",
     "text": [
      "{'name': 'Morty', 'age': 26}\n"
     ]
    }
   ],
   "source": [
    "# declaring a dictionary variable\n",
    "empty = {} # empty dictionary\n",
    "person = {'name':\"John Smith\"} # dictionary with one key/value pair\n",
    "\n",
    "customer = {\n",
    "        \"name\":\"Morty\",\n",
    "        \"age\":26\n",
    "}             # dictionary with two key/value pair\n",
    "print(customer)"
   ]
  },
  {
   "cell_type": "markdown",
   "metadata": {},
   "source": [
    "### Accessing Dictionary Information\n",
    "- data stored within a dictionary is accessed with the key of the respective values\n",
    "- just state the name of the dictionary followed by a bracket and inside the bracket goes the key of the value you wish to retrieve"
   ]
  },
  {
   "cell_type": "code",
   "execution_count": 3,
   "metadata": {},
   "outputs": [
    {
     "name": "stdout",
     "output_type": "stream",
     "text": [
      "John\n"
     ]
    }
   ],
   "source": [
    "# Accessing dictionary information through keys\n",
    "person = {\"name\":\"John\"}\n",
    "print(person['name']) # access information through the key"
   ]
  },
  {
   "cell_type": "markdown",
   "metadata": {},
   "source": [
    "### Using the Get Method\n",
    "- Another way of retrieving data from a dictionary is the get() method. However unlike the bracket method the get()method won't display error if the key you seek doesn't exist"
   ]
  },
  {
   "cell_type": "code",
   "execution_count": 5,
   "metadata": {},
   "outputs": [
    {
     "name": "stdout",
     "output_type": "stream",
     "text": [
      "John\n",
      "Age is not available\n"
     ]
    }
   ],
   "source": [
    "# using the get method to access dictionary information\n",
    "person = {'name':'John'}\n",
    "print(person.get('name')) # retrieves value of the name key as before\n",
    "print(person.get('age', 'Age is not available')) # get is a secure way to retrieve information"
   ]
  },
  {
   "cell_type": "markdown",
   "metadata": {},
   "source": [
    "### Dictionary with lists\n"
   ]
  },
  {
   "cell_type": "code",
   "execution_count": 8,
   "metadata": {},
   "outputs": [
    {
     "name": "stdout",
     "output_type": "stream",
     "text": [
      "baseball\n",
      "baseball\n",
      "football\n",
      "hockey\n",
      "soccer\n"
     ]
    }
   ],
   "source": [
    "# storing a list within a dictionary and accessing it\n",
    "data = {'sports': ['baseball', 'football', 'hockey', 'soccer']}\n",
    "print(data['sports'][0]) # will first access the key then the index\n",
    "for i in data['sports']:\n",
    "    print(i)"
   ]
  },
  {
   "cell_type": "code",
   "execution_count": 9,
   "metadata": {},
   "outputs": [
    {
     "ename": "ValueError",
     "evalue": "dictionary update sequence element #0 has length 8; 2 is required",
     "output_type": "error",
     "traceback": [
      "\u001b[0;31m---------------------------------------------------------------------------\u001b[0m",
      "\u001b[0;31mValueError\u001b[0m                                Traceback (most recent call last)",
      "\u001b[0;32m<ipython-input-9-a792a58b8ae6>\u001b[0m in \u001b[0;36m<module>\u001b[0;34m\u001b[0m\n\u001b[1;32m      1\u001b[0m \u001b[0;31m# improperly storing a list within a dictionary\u001b[0m\u001b[0;34m\u001b[0m\u001b[0;34m\u001b[0m\u001b[0;34m\u001b[0m\u001b[0m\n\u001b[1;32m      2\u001b[0m \u001b[0msports\u001b[0m \u001b[0;34m=\u001b[0m \u001b[0;34m[\u001b[0m\u001b[0;34m'baseball'\u001b[0m\u001b[0;34m,\u001b[0m \u001b[0;34m'football'\u001b[0m\u001b[0;34m,\u001b[0m\u001b[0;34m'hockey'\u001b[0m\u001b[0;34m,\u001b[0m \u001b[0;34m'soccer'\u001b[0m\u001b[0;34m]\u001b[0m\u001b[0;34m\u001b[0m\u001b[0;34m\u001b[0m\u001b[0m\n\u001b[0;32m----> 3\u001b[0;31m \u001b[0msports_dict\u001b[0m \u001b[0;34m=\u001b[0m \u001b[0mdict\u001b[0m\u001b[0;34m(\u001b[0m\u001b[0msports\u001b[0m\u001b[0;34m)\u001b[0m \u001b[0;31m# will produce error, no key\u001b[0m\u001b[0;34m\u001b[0m\u001b[0;34m\u001b[0m\u001b[0m\n\u001b[0m",
      "\u001b[0;31mValueError\u001b[0m: dictionary update sequence element #0 has length 8; 2 is required"
     ]
    }
   ],
   "source": [
    "# improperly storing a list within a dictionary\n",
    "sports = ['baseball', 'football','hockey', 'soccer']\n",
    "sports_dict = dict(sports) # will produce error, no key"
   ]
  },
  {
   "cell_type": "code",
   "execution_count": 10,
   "metadata": {},
   "outputs": [
    {
     "name": "stdout",
     "output_type": "stream",
     "text": [
      "{'sports': ['baseball', 'football', 'hockey', 'soccer']}\n"
     ]
    }
   ],
   "source": [
    "sports_dict = dict({'sports':sports})\n",
    "print(sports_dict)"
   ]
  },
  {
   "cell_type": "markdown",
   "metadata": {},
   "source": [
    "### List with Dictionaries\n",
    "- when a list is storing a dictionary you need to access that dictionary by the index first. Then you would have access to the dictionary which can be access with the key/value pairs"
   ]
  },
  {
   "cell_type": "code",
   "execution_count": 11,
   "metadata": {},
   "outputs": [
    {
     "name": "stdout",
     "output_type": "stream",
     "text": [
      "{'name': 'Kirsten'}\n",
      "Kirsten\n"
     ]
    }
   ],
   "source": [
    "# storing a dictionary within a list\n",
    "data = ['John', 'Denis',{'name':'Kirsten'}]\n",
    "print(data[2]) # the dictionary is in index 2\n",
    "print(data[2]['name']) # first access the index, then the key"
   ]
  },
  {
   "cell_type": "markdown",
   "metadata": {},
   "source": [
    "### Dictionaries with Dictionaries\n",
    "- You can use a dictionary as a key to store another dictionary as value\n"
   ]
  },
  {
   "cell_type": "code",
   "execution_count": 13,
   "metadata": {},
   "outputs": [
    {
     "name": "stdout",
     "output_type": "stream",
     "text": [
      "{'2018': 108, '2017': 93}\n",
      "108\n"
     ]
    }
   ],
   "source": [
    "# storing a dictionary withing a dictionary and accessing it\n",
    "data = {\n",
    "    'team': 'Boston Red Sox',\n",
    "    'wins': {'2018':108, '2017':93}\n",
    "}\n",
    "print(data['wins']) # will output the dictionary within the wins key\n",
    "print(data['wins']['2018']) # first access the wins key and then the next key"
   ]
  },
  {
   "cell_type": "code",
   "execution_count": 22,
   "metadata": {},
   "outputs": [
    {
     "name": "stdout",
     "output_type": "stream",
     "text": [
      "whats your name garry aloba\n",
      "whats your age? 23\n",
      "{'name': 'Garry Aloba', 'age': '23'}\n"
     ]
    }
   ],
   "source": [
    "# exercise\n",
    "# Ask the user for their name and age and then create a dictionary with those key value pairs.output the dictionary once created\n",
    "customer_details = {}\n",
    "user_name = input('whats your name ').title()\n",
    "user_age = input('whats your age? ')\n",
    "customer_details['name'] = user_name\n",
    "customer_details['age'] = user_age\n",
    "print(customer_details)\n",
    "\n",
    "\n"
   ]
  },
  {
   "cell_type": "code",
   "execution_count": 23,
   "metadata": {},
   "outputs": [
    {
     "name": "stdout",
     "output_type": "stream",
     "text": [
      "cheese\n",
      "sausage\n",
      "peppers\n"
     ]
    }
   ],
   "source": [
    "# exercise2\n",
    "#Accessing Ingredient\n",
    "pizza = {\n",
    "    'ingredients': ['cheese', 'sausage','peppers']\n",
    "}\n",
    "for i in pizza['ingredients']:\n",
    "    print(i)"
   ]
  },
  {
   "cell_type": "code",
   "execution_count": null,
   "metadata": {},
   "outputs": [],
   "source": []
  }
 ],
 "metadata": {
  "kernelspec": {
   "display_name": "Python 3",
   "language": "python",
   "name": "python3"
  },
  "language_info": {
   "codemirror_mode": {
    "name": "ipython",
    "version": 3
   },
   "file_extension": ".py",
   "mimetype": "text/x-python",
   "name": "python",
   "nbconvert_exporter": "python",
   "pygments_lexer": "ipython3",
   "version": "3.6.8"
  }
 },
 "nbformat": 4,
 "nbformat_minor": 2
}
