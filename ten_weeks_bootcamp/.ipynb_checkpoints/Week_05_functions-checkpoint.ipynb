{
 "cells": [
  {
   "cell_type": "markdown",
   "metadata": {},
   "source": [
    "# Monday"
   ]
  },
  {
   "cell_type": "markdown",
   "metadata": {},
   "source": [
    "## Functions"
   ]
  },
  {
   "cell_type": "markdown",
   "metadata": {},
   "source": [
    "### Creating and Calling Function\n",
    "- Function helps store code that can only run when called\n",
    "- Function brings efficiency into the programming process as function are written to handle one single task which can be used repeatedly sunsequently as needed .\n",
    "\n",
    "### Function syntax\n",
    "- Begins with the key word `def` followed by the `name` of the function, followed by a `parentheses` which may include `parameters` which then followed by a `colon`\n"
   ]
  },
  {
   "cell_type": "code",
   "execution_count": 1,
   "metadata": {},
   "outputs": [
    {
     "name": "stdout",
     "output_type": "stream",
     "text": [
      "Name: John Smith\n",
      "Age:45\n",
      "Name: John Smith\n",
      "Age:45\n"
     ]
    }
   ],
   "source": [
    "# writing your first function\n",
    "def printInfo(): # defines what the function does when called\n",
    "    print('Name: John Smith')\n",
    "    print('Age:45')\n",
    "printInfo() #calls the function to run\n",
    "printInfo() # calls the function again\n",
    "    "
   ]
  },
  {
   "cell_type": "markdown",
   "metadata": {},
   "source": [
    "### Function stages\n",
    "- `function definition`: This is where you define the name of the function,any parameters it is suppose to do in the block of code associated\n",
    "- `function call` : calling the function runs the block of code within the function\n",
    "\n",
    "### UDF Vs Built-in\n",
    "- `Built-in` function are included in python.That is came with the language because they perform essential duties.e.g range, print, len e.t.c\n",
    "- `User define functions` This is the function created by users of python language like the above function\n"
   ]
  },
  {
   "cell_type": "code",
   "execution_count": 3,
   "metadata": {},
   "outputs": [
    {
     "name": "stdout",
     "output_type": "stream",
     "text": [
      "15\n"
     ]
    }
   ],
   "source": [
    "# performing a calculation ina function\n",
    "def calc():\n",
    "    x,y = 5, 10\n",
    "    print(x + y)\n",
    "calc() # will run the block of code within calc and output 15"
   ]
  },
  {
   "cell_type": "code",
   "execution_count": 5,
   "metadata": {},
   "outputs": [
    {
     "name": "stdout",
     "output_type": "stream",
     "text": [
      "Harry\n"
     ]
    }
   ],
   "source": [
    "#exercises\n",
    "def myName():\n",
    "    print('Harry')\n",
    "myName()"
   ]
  },
  {
   "cell_type": "markdown",
   "metadata": {},
   "source": [
    "# Tuesday\n"
   ]
  },
  {
   "cell_type": "markdown",
   "metadata": {},
   "source": [
    "## Parameters\n",
    "- `Parameters` are temporary variable used at the function definition state\n",
    "- with a parameter, a function at the point of function calls must be supplied with the `arguement` which is the same, in context with the parameter. without the arguement at the point of function call, it would output error\n",
    "- parameter make our code more modular and compact\n",
    "\n",
    "### Passing a single parameter\n"
   ]
  },
  {
   "cell_type": "code",
   "execution_count": 2,
   "metadata": {},
   "outputs": [
    {
     "name": "stdout",
     "output_type": "stream",
     "text": [
      "Your name is : John Smith\n",
      "Your name is : Amanda\n"
     ]
    }
   ],
   "source": [
    "# passing a single parameter into a function \n",
    "def printName(full_name):\n",
    "    print(f'Your name is : {full_name}')\n",
    "printName('John Smith')\n",
    "printName('Amanda')"
   ]
  },
  {
   "cell_type": "markdown",
   "metadata": {},
   "source": [
    "### Multiple Parameters"
   ]
  },
  {
   "cell_type": "code",
   "execution_count": 3,
   "metadata": {},
   "outputs": [
    {
     "name": "stdout",
     "output_type": "stream",
     "text": [
      "5 + 8 = 13\n",
      "3.5 + 5.5 = 9.0\n"
     ]
    }
   ],
   "source": [
    "# passing multiple parameters into a function \n",
    "def addNums(num1, num2):\n",
    "    result = num1 + num2\n",
    "    print(f'{num1} + {num2} = {result}')\n",
    "addNums(5,8)\n",
    "addNums(3.5, 5.5)"
   ]
  },
  {
   "cell_type": "markdown",
   "metadata": {},
   "source": [
    "### Passing a list\n"
   ]
  },
  {
   "cell_type": "code",
   "execution_count": 4,
   "metadata": {},
   "outputs": [
    {
     "name": "stdout",
     "output_type": "stream",
     "text": [
      "4\n",
      "16\n",
      "25\n",
      "100\n",
      "1\n",
      "9\n",
      "36\n"
     ]
    }
   ],
   "source": [
    "numbers1 = [2,4,5,10]\n",
    "numbers2 = [1,3,6]\n",
    "def squares(nums):\n",
    "    for num in nums:\n",
    "        print(num**2)\n",
    "squares(numbers1)\n",
    "squares(numbers2)"
   ]
  },
  {
   "cell_type": "markdown",
   "metadata": {},
   "source": [
    "### Default Parameters\n",
    "- when a value is more or less constant in your code you may want to set it as default at the function definition stage so that you need not bother about it at the function call stage\n",
    "- deafault parameter must be placed in terms of position after non-default variable(parameters) at the point of function definition"
   ]
  },
  {
   "cell_type": "code",
   "execution_count": 5,
   "metadata": {},
   "outputs": [
    {
     "name": "stdout",
     "output_type": "stream",
     "text": [
      "Area: 12.56\n"
     ]
    }
   ],
   "source": [
    "# setting default parameters values\n",
    "def calArea(r, pi=3.14):\n",
    "    area = pi * (r**2)\n",
    "    print(f'Area: {area}')\n",
    "calArea(2)"
   ]
  },
  {
   "cell_type": "markdown",
   "metadata": {},
   "source": [
    "### Making parameters optional\n",
    "- There are time in your code where you want to make a parameter optional for example middle name of a canditate. in this case the parameter(variable) is assigned an empty string"
   ]
  },
  {
   "cell_type": "code",
   "execution_count": 10,
   "metadata": {},
   "outputs": [
    {
     "name": "stdout",
     "output_type": "stream",
     "text": [
      "John Smith\n",
      "John Smith Paul\n"
     ]
    }
   ],
   "source": [
    "#setting default parameter values\n",
    "def printName(first, last, middle=\"\"):\n",
    "    if middle:\n",
    "        print(f'{first} {last} {middle}')\n",
    "    else:\n",
    "        print(f'{first} {last}')\n",
    "printName('John','Smith')\n",
    "printName('John', 'Smith', 'Paul')"
   ]
  },
  {
   "cell_type": "markdown",
   "metadata": {},
   "source": [
    "### Named Parameter assignment\n",
    "-This is often used when you feel the position of a variable might be mistaken at the point of the function call stage"
   ]
  },
  {
   "cell_type": "code",
   "execution_count": 11,
   "metadata": {},
   "outputs": [
    {
     "name": "stdout",
     "output_type": "stream",
     "text": [
      "5\n",
      "2.5\n"
     ]
    }
   ],
   "source": [
    "# explicitly assigning values to parameters by referencing the name\n",
    "def addNums(num1, num2):\n",
    "    print(num1)\n",
    "    print(num2)\n",
    "addNums(5, num2 = 2.5)"
   ]
  },
  {
   "cell_type": "markdown",
   "metadata": {},
   "source": [
    "### * ARGS\n",
    "- `* ARGS` : This unique key word allows and makes it possible to enter more than two or more variable at the same time at the point of function call\n",
    "- the`asterik(*)` is the magic and not the `args` as args could be any variable names\n",
    "- it is often deployed when the programmer is not sure how many arguement to expect"
   ]
  },
  {
   "cell_type": "code",
   "execution_count": 12,
   "metadata": {},
   "outputs": [
    {
     "name": "stdout",
     "output_type": "stream",
     "text": [
      "<class 'tuple'>\n",
      "5\n",
      "True\n",
      "Jess\n"
     ]
    }
   ],
   "source": [
    "# Using args parameters to take in a tuple of arbitrary values\n",
    "def outputData(name, *args):\n",
    "    print(type(args))\n",
    "    for arg in args:\n",
    "        print(arg)\n",
    "        \n",
    "outputData('John Smith', 5, True, 'Jess')"
   ]
  },
  {
   "cell_type": "markdown",
   "metadata": {},
   "source": [
    "### **KWARGS\n",
    "- `**kwargs` is similar to `*args` but kwargs enable us to take in arbitrary number of variable which are automatically placed in an invisible dictionary\n",
    "- The magic is not the variable `kwargs` but the double asteriks `**`"
   ]
  },
  {
   "cell_type": "code",
   "execution_count": 13,
   "metadata": {},
   "outputs": [
    {
     "name": "stdout",
     "output_type": "stream",
     "text": [
      "<class 'dict'>\n",
      "John Smith\n",
      "5\n"
     ]
    }
   ],
   "source": [
    "#using kwargs parameter to take in a dictionary of arbitrary values\n",
    "def outputData(**kwargs):\n",
    "    print(type(kwargs))\n",
    "    print(kwargs['name'])\n",
    "    print(kwargs['num'])\n",
    "outputData(name= 'John Smith', num = 5, b=True)"
   ]
  },
  {
   "cell_type": "code",
   "execution_count": 29,
   "metadata": {},
   "outputs": [
    {
     "name": "stdout",
     "output_type": "stream",
     "text": [
      "let have your word garry\n",
      "False\n"
     ]
    }
   ],
   "source": [
    "# excercises\n",
    "def first_word_caps(*your_word):\n",
    "        your_word = input('let have your word ')\n",
    "        if your_word.title() == your_word:\n",
    "            print(True)\n",
    "        else:\n",
    "            print(False)\n",
    "first_word_caps()\n",
    "        \n",
    "    \n",
    "    "
   ]
  },
  {
   "cell_type": "code",
   "execution_count": 35,
   "metadata": {},
   "outputs": [
    {
     "name": "stdout",
     "output_type": "stream",
     "text": [
      "Cassy Handel\n"
     ]
    }
   ],
   "source": [
    "#exercise\n",
    "def noName(first_name=\"\", last_name=\"\"):\n",
    "    if first_name == \"\" and last_name == \"\":\n",
    "        print('No names entered!')\n",
    "    else:\n",
    "        print(f'{first_name} {last_name}')\n",
    "noName('Cassy', 'Handel')\n"
   ]
  },
  {
   "cell_type": "markdown",
   "metadata": {},
   "source": [
    "# Wednesday"
   ]
  },
  {
   "cell_type": "markdown",
   "metadata": {},
   "source": [
    "## Return Statement\n",
    "- Returning something from a function makes it possible to be used as an input for another function\n",
    "- Single piece of data and a collection can be return from a function"
   ]
  },
  {
   "cell_type": "code",
   "execution_count": 2,
   "metadata": {},
   "outputs": [
    {
     "name": "stdout",
     "output_type": "stream",
     "text": [
      "10.0\n",
      "20\n"
     ]
    }
   ],
   "source": [
    "# using return keyword to return the sum of two number\n",
    "def addNums(num1,num2):\n",
    "    return num1 + num2\n",
    "num = addNums(5.5,4.5) #saves returned value into num\n",
    "print(num)\n",
    "print(addNums(10,10)) # doesn't save return value"
   ]
  },
  {
   "cell_type": "markdown",
   "metadata": {},
   "source": [
    "### Ternary Operator\n",
    "- A python shorthand branching statement used to assign values into variable"
   ]
  },
  {
   "cell_type": "code",
   "execution_count": 3,
   "metadata": {},
   "outputs": [
    {
     "name": "stdout",
     "output_type": "stream",
     "text": [
      "True\n"
     ]
    }
   ],
   "source": [
    "# using return keyword to return the sun of two numbers\n",
    "def searchList(aList, el):\n",
    "    return True if el in aList else False\n",
    "result = searchList(['one', 2, 'three'], 2) # result = True\n",
    "print(result)"
   ]
  },
  {
   "cell_type": "code",
   "execution_count": 5,
   "metadata": {},
   "outputs": [
    {
     "name": "stdout",
     "output_type": "stream",
     "text": [
      "Lilian Cassidy\n"
     ]
    }
   ],
   "source": [
    "#exercises\n",
    "def fullName(frst,lst):\n",
    "    return f'{frst} {lst}'\n",
    "full_names = fullName('Lilian', 'Cassidy')\n",
    "print(full_names)\n",
    "    "
   ]
  },
  {
   "cell_type": "code",
   "execution_count": 9,
   "metadata": {},
   "outputs": [
    {
     "name": "stdout",
     "output_type": "stream",
     "text": [
      "whats your first name? garry\n",
      "whats your last name? james\n",
      " Welcome Garry James\n"
     ]
    }
   ],
   "source": [
    "#exercise\n",
    "def question_staff():\n",
    "    frstN = input('whats your first name? ')\n",
    "    lstN = input( 'whats your last name? ')\n",
    "    return f' Welcome {frstN.title()} {lstN.title()}'\n",
    "joined_name = question_staff()\n",
    "print(joined_name)"
   ]
  },
  {
   "cell_type": "markdown",
   "metadata": {},
   "source": [
    "# Thursday"
   ]
  },
  {
   "cell_type": "markdown",
   "metadata": {},
   "source": [
    "## Scope\n",
    "- accessibility of variable declared with a program is  critical\n",
    "### Types of scope\n",
    " 1. Global scope: when variable is accessible to an entire file or program. You are encourage to use less of global scope\n",
    " 2. Function scope: when th variable declared is accessible only with that function. A variable declared within a function can not be accessed from outside the function\n",
    " 3. Class scope"
   ]
  },
  {
   "cell_type": "markdown",
   "metadata": {},
   "source": [
    "### Global scope Access\n",
    "- variable declared on a global level may not be available/accessible with a function"
   ]
  },
  {
   "cell_type": "code",
   "execution_count": 1,
   "metadata": {},
   "outputs": [
    {
     "ename": "UnboundLocalError",
     "evalue": "local variable 'number' referenced before assignment",
     "output_type": "error",
     "traceback": [
      "\u001b[0;31m---------------------------------------------------------------------------\u001b[0m",
      "\u001b[0;31mUnboundLocalError\u001b[0m                         Traceback (most recent call last)",
      "\u001b[0;32m<ipython-input-1-2de8a1655588>\u001b[0m in \u001b[0;36m<module>\u001b[0;34m\u001b[0m\n\u001b[1;32m      3\u001b[0m \u001b[0;32mdef\u001b[0m \u001b[0mscopeTest\u001b[0m\u001b[0;34m(\u001b[0m\u001b[0;34m)\u001b[0m\u001b[0;34m:\u001b[0m\u001b[0;34m\u001b[0m\u001b[0;34m\u001b[0m\u001b[0m\n\u001b[1;32m      4\u001b[0m     \u001b[0mnumber\u001b[0m \u001b[0;34m+=\u001b[0m \u001b[0;36m1\u001b[0m\u001b[0;34m\u001b[0m\u001b[0;34m\u001b[0m\u001b[0m\n\u001b[0;32m----> 5\u001b[0;31m \u001b[0mscopeTest\u001b[0m\u001b[0;34m(\u001b[0m\u001b[0;34m)\u001b[0m\u001b[0;34m\u001b[0m\u001b[0;34m\u001b[0m\u001b[0m\n\u001b[0m",
      "\u001b[0;32m<ipython-input-1-2de8a1655588>\u001b[0m in \u001b[0;36mscopeTest\u001b[0;34m()\u001b[0m\n\u001b[1;32m      2\u001b[0m \u001b[0mnumber\u001b[0m \u001b[0;34m=\u001b[0m \u001b[0;36m5\u001b[0m\u001b[0;34m\u001b[0m\u001b[0;34m\u001b[0m\u001b[0m\n\u001b[1;32m      3\u001b[0m \u001b[0;32mdef\u001b[0m \u001b[0mscopeTest\u001b[0m\u001b[0;34m(\u001b[0m\u001b[0;34m)\u001b[0m\u001b[0;34m:\u001b[0m\u001b[0;34m\u001b[0m\u001b[0;34m\u001b[0m\u001b[0m\n\u001b[0;32m----> 4\u001b[0;31m     \u001b[0mnumber\u001b[0m \u001b[0;34m+=\u001b[0m \u001b[0;36m1\u001b[0m\u001b[0;34m\u001b[0m\u001b[0;34m\u001b[0m\u001b[0m\n\u001b[0m\u001b[1;32m      5\u001b[0m \u001b[0mscopeTest\u001b[0m\u001b[0;34m(\u001b[0m\u001b[0;34m)\u001b[0m\u001b[0;34m\u001b[0m\u001b[0;34m\u001b[0m\u001b[0m\n",
      "\u001b[0;31mUnboundLocalError\u001b[0m: local variable 'number' referenced before assignment"
     ]
    }
   ],
   "source": [
    "#where global can be accessed \n",
    "number = 5\n",
    "def scopeTest():\n",
    "    number += 1\n",
    "scopeTest()"
   ]
  },
  {
   "cell_type": "markdown",
   "metadata": {},
   "source": [
    "### Handling function scope\n",
    "- when dealing with function scope, generally you wouldn't want to accessed it outside the function however the best approach is to return such a function\n"
   ]
  },
  {
   "cell_type": "code",
   "execution_count": 4,
   "metadata": {},
   "outputs": [
    {
     "name": "stdout",
     "output_type": "stream",
     "text": [
      "function\n"
     ]
    }
   ],
   "source": [
    "#accessing variables defined in a function\n",
    "def scopeTest():\n",
    "    word = 'function'\n",
    "    return word\n",
    "value = scopeTest()\n",
    "print(value)"
   ]
  },
  {
   "cell_type": "markdown",
   "metadata": {},
   "source": [
    "### In-place Algorithm\n",
    "- when the global scope variable is a list that want to be change in a function. This may perform differently\n"
   ]
  },
  {
   "cell_type": "code",
   "execution_count": 6,
   "metadata": {},
   "outputs": [
    {
     "name": "stdout",
     "output_type": "stream",
     "text": [
      "Before altering : ['Baseball', 'football', 'hockey', 'basketball']\n",
      "After Altering: ['soccer', 'football', 'hockey', 'basketball']\n"
     ]
    }
   ],
   "source": [
    "# changing list iteam value by index\n",
    "\n",
    "sports = ['Baseball', 'football','hockey','basketball']\n",
    "def change(aList):\n",
    "    aList[0] = 'soccer'\n",
    "print(f'Before altering : {sports}')\n",
    "change(sports)\n",
    "print(f'After Altering: {sports}')"
   ]
  },
  {
   "cell_type": "markdown",
   "metadata": {},
   "source": [
    "# Friday"
   ]
  },
  {
   "cell_type": "markdown",
   "metadata": {},
   "source": [
    "## Friday Project: Creating a shopping cart"
   ]
  },
  {
   "cell_type": "code",
   "execution_count": 7,
   "metadata": {},
   "outputs": [
    {
     "name": "stdout",
     "output_type": "stream",
     "text": [
      "Your cart is empty\n"
     ]
    }
   ],
   "source": [
    "# import necessary functions\n",
    "from IPython.display import clear_output\n",
    "#global list variable\n",
    "cart = []\n",
    "\n",
    "\n",
    "# create function to add items to cart\n",
    "def addItem(item):\n",
    "    clear_output()\n",
    "    cart.append(item)\n",
    "    print(f'{item} has been added')\n",
    "\n",
    "# create function to remove items from cart\n",
    "def removeItem(item):\n",
    "    clear_output()\n",
    "    try:\n",
    "        cart.remove(item)\n",
    "        print(f'{item} has been removed')\n",
    "    except:\n",
    "        print('Sorry we could not remove that item')\n",
    "\n",
    "#create a function to show items in cart\n",
    "def showCart():\n",
    "    clear_output()\n",
    "    if cart:\n",
    "        print('Here is your cart:')\n",
    "        for i, item in enumerate(cart):\n",
    "            print(f'- {i}. {item}')\n",
    "    else:\n",
    "        print('Your cart is empty')\n",
    "\n",
    "#create function to clear items from cart\n",
    "def clearCart():\n",
    "    clear_output()\n",
    "    cart.clear()\n",
    "    print('Your cart is empty')\n",
    "    \n",
    "# create main function that loops until the user quits\n",
    "def main():\n",
    "    done = False\n",
    "    \n",
    "    while not done:\n",
    "        ans = input('quit/add/remove/show/clear:').lower()\n",
    "        \n",
    "        #base case\n",
    "        if ans == 'quit':\n",
    "            print('Thanks for using our program.')\n",
    "            showCart()\n",
    "            done = True\n",
    "        elif ans == 'add':\n",
    "            item = input('What would you like to add?').title()\n",
    "            addItem(item)\n",
    "        elif ans == 'remove':\n",
    "            showCart()\n",
    "            item = input('What item would you like to remove?').title()\n",
    "            removeItem(item)\n",
    "        elif ans == 'show':\n",
    "            showCart()\n",
    "        elif ans == 'clear':\n",
    "            clearCart()\n",
    "        else:\n",
    "            print('Sorry that was not an option')\n",
    "            \n",
    "main() # run the program\n",
    "\n",
    "\n",
    "        \n"
   ]
  },
  {
   "cell_type": "code",
   "execution_count": null,
   "metadata": {},
   "outputs": [],
   "source": []
  }
 ],
 "metadata": {
  "kernelspec": {
   "display_name": "Python 3",
   "language": "python",
   "name": "python3"
  },
  "language_info": {
   "codemirror_mode": {
    "name": "ipython",
    "version": 3
   },
   "file_extension": ".py",
   "mimetype": "text/x-python",
   "name": "python",
   "nbconvert_exporter": "python",
   "pygments_lexer": "ipython3",
   "version": "3.6.8"
  }
 },
 "nbformat": 4,
 "nbformat_minor": 2
}
