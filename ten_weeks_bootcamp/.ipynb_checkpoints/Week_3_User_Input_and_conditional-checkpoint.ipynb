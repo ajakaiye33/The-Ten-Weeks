{
 "cells": [
  {
   "cell_type": "markdown",
   "metadata": {},
   "source": [
    "# Monday"
   ]
  },
  {
   "cell_type": "markdown",
   "metadata": {},
   "source": [
    "## User Input and Type Converting\n",
    "- User input and types conversion are critical tools in introducing interactions with users into softwares\n",
    "### Accepting User Input\n",
    "- `input()`: This input functions act somewhat like the print, aside printing statements it also seeks to get instant feedback from the user\n"
   ]
  },
  {
   "cell_type": "code",
   "execution_count": 2,
   "metadata": {},
   "outputs": [],
   "source": [
    "#Accepting and outputting user input\n",
    "#print(input('what is your name'))"
   ]
  },
  {
   "cell_type": "markdown",
   "metadata": {},
   "source": [
    "### Storing User Input\n",
    "- to do anything meaningful with the input function there must be a way to store responses and feedback from users\n"
   ]
  },
  {
   "cell_type": "code",
   "execution_count": 3,
   "metadata": {},
   "outputs": [
    {
     "name": "stdout",
     "output_type": "stream",
     "text": [
      "What is your name?\n",
      "Hello !\n"
     ]
    }
   ],
   "source": [
    "#saving what the user inputs\n",
    "ans =  input('What is your name?')\n",
    "print('Hello {}!'.format(ans))"
   ]
  },
  {
   "cell_type": "markdown",
   "metadata": {},
   "source": [
    "### What is type converting\n",
    "- ability to change data type also come handing with handling user input interaction as all response from user are `strings` which may not be useful especially if you wish to carry out mathematical operations with such responses in the software\n",
    "### Checking the type\n"
   ]
  },
  {
   "cell_type": "code",
   "execution_count": 4,
   "metadata": {},
   "outputs": [
    {
     "name": "stdout",
     "output_type": "stream",
     "text": [
      "<class 'int'>\n"
     ]
    }
   ],
   "source": [
    "# How to check the data type of a variable\n",
    "num = 5\n",
    "print(type(num))"
   ]
  },
  {
   "cell_type": "markdown",
   "metadata": {},
   "source": [
    "### Converting Data Types\n",
    "- This is possible in python by simply using the respective function to coerce the type of a variable from `strings` to `integer`using `int()` However there is a limit to data type converting."
   ]
  },
  {
   "cell_type": "code",
   "execution_count": 5,
   "metadata": {},
   "outputs": [
    {
     "name": "stdout",
     "output_type": "stream",
     "text": [
      "<class 'int'>\n"
     ]
    }
   ],
   "source": [
    "# converting a variablr from one data type to another\n",
    "num = '9'\n",
    "num = int(num)\n",
    "print(type(num))"
   ]
  },
  {
   "cell_type": "markdown",
   "metadata": {},
   "source": [
    "### Converting User Input\n"
   ]
  },
  {
   "cell_type": "code",
   "execution_count": 8,
   "metadata": {},
   "outputs": [
    {
     "name": "stdout",
     "output_type": "stream",
     "text": [
      "Type a number to add:19\n",
      "<class 'str'>\n",
      "100 + 19 = 119\n"
     ]
    }
   ],
   "source": [
    "# working with user input to perform calculations\n",
    "ans = input('Type a number to add:')\n",
    "print(type(ans))\n",
    "result = 100 + int(ans)\n",
    "print(\"100 + {} = {}\".format(ans, result))"
   ]
  },
  {
   "cell_type": "markdown",
   "metadata": {},
   "source": [
    "### Handling Errors\n",
    "- we should anticipate the likely mistake that may occur with user responses and act accordingly\n",
    "- The above would output error if the response was 'Nine' because mathematical operation can be carried out\n",
    "- `try and except` blocks are use to catch errors. which works by catching errors that may occur, respond to them without necessarily stopping the working of the program"
   ]
  },
  {
   "cell_type": "code",
   "execution_count": 16,
   "metadata": {},
   "outputs": [
    {
     "name": "stdout",
     "output_type": "stream",
     "text": [
      "Type a number to add:ten\n",
      "You did not put in a valid number\n"
     ]
    }
   ],
   "source": [
    "# using the try and except blocks\n",
    "try:\n",
    "    ans = float(input('Type a number to add:'))\n",
    "    print(\"100 + {} = {}\".format(ans,  100 + ans))\n",
    "except:\n",
    "    print(\"You did not put in a valid number\")\n"
   ]
  },
  {
   "cell_type": "markdown",
   "metadata": {},
   "source": [
    "### Code Blocks and Indentation\n",
    "-`Indentation` in python is for aesthetics but functional exercise, it is used to separate blocks of codes and when not properly done, could throw up errors accordingly\n"
   ]
  },
  {
   "cell_type": "code",
   "execution_count": 22,
   "metadata": {},
   "outputs": [
    {
     "name": "stdout",
     "output_type": "stream",
     "text": [
      "Are you are Girl:true\n",
      "<class 'bool'>\n",
      "True\n"
     ]
    }
   ],
   "source": [
    "# exercises\n",
    "# converting response to boolean\n",
    "ans = input('Are you are Girl:')\n",
    "ans = bool(ans.title())\n",
    "print(type(ans))\n",
    "print(ans)\n",
    "\n"
   ]
  },
  {
   "cell_type": "code",
   "execution_count": 23,
   "metadata": {},
   "outputs": [
    {
     "name": "stdout",
     "output_type": "stream",
     "text": [
      "Indicate the first number:10\n",
      "Indicate the second number:20\n",
      "10 + 20 is 30\n"
     ]
    }
   ],
   "source": [
    "#exercise 2\n",
    "#sum of inputs\n",
    "first_num = input(\"Indicate the first number:\")\n",
    "first_num = int(first_num)\n",
    "second_num = input(\"Indicate the second number:\")\n",
    "second_num = int(second_num)\n",
    "summy = first_num + second_num\n",
    "print(\"{} + {} is {}\" .format(first_num, second_num, summy))"
   ]
  },
  {
   "cell_type": "markdown",
   "metadata": {},
   "source": [
    "# Tuesday"
   ]
  },
  {
   "cell_type": "markdown",
   "metadata": {},
   "source": [
    "## If Statements\n",
    "### How They Work\n",
    "- Works like the typical way we make decisions in real world\n",
    "- They are also known as conditional statements because for instance if a condition is satisfy do something or something else or otherwise remain same.\n",
    "### Writing first if statement\n",
    "- `if`: it begins with the key word \"if\" and it is followed by another group of worlds or statement generally known as `condition`. This condition could be `False` or `True` if True then the code block runs otherwise continue running other statements "
   ]
  },
  {
   "cell_type": "code",
   "execution_count": 1,
   "metadata": {},
   "outputs": [
    {
     "name": "stdout",
     "output_type": "stream",
     "text": [
      "x is less than y\n"
     ]
    }
   ],
   "source": [
    "# using an if statement to only run code if the conditiom is met\n",
    "x, y = 5, 10\n",
    "if x < y:\n",
    "    print(\"x is less than y\")"
   ]
  },
  {
   "cell_type": "markdown",
   "metadata": {},
   "source": [
    "### Comparison Operators\n",
    "- some of these operator as as follows:\n",
    "  1. `==` : Equality\n",
    "  2. `!=` : Inequality\n",
    "  3. `>`  : Greater than\n",
    "  4. `<`  : Less than\n",
    "  5. `>=` : Greater or equal\n",
    "  6. `<=` : Less or equal"
   ]
  },
  {
   "cell_type": "markdown",
   "metadata": {},
   "source": [
    "### Checking user input\n"
   ]
  },
  {
   "cell_type": "code",
   "execution_count": 2,
   "metadata": {},
   "outputs": [
    {
     "name": "stdout",
     "output_type": "stream",
     "text": [
      "what is 5 + 5?10\n",
      "You got it right!\n"
     ]
    }
   ],
   "source": [
    "# checking user input\n",
    "ans = int(input(\"what is 5 + 5?\"))\n",
    "if ans == 10:\n",
    "    print(\"You got it right!\")"
   ]
  },
  {
   "cell_type": "markdown",
   "metadata": {},
   "source": [
    "### Logical operators\n",
    "- they are used to combine conditional statement\n",
    "#### logical operator \"and\"\n",
    "- `and` ensure that both side(conditions) are `True`. That is if both condition isn't `True` then it would result in `False`"
   ]
  },
  {
   "cell_type": "code",
   "execution_count": 8,
   "metadata": {},
   "outputs": [
    {
     "name": "stdout",
     "output_type": "stream",
     "text": [
      "Both statements were true\n"
     ]
    }
   ],
   "source": [
    "# using the keyword 'and' in an if statement\n",
    "x,y,z = 5, 10, 5\n",
    "if x < y and x == z:\n",
    "    print('Both statements were true')"
   ]
  },
  {
   "cell_type": "markdown",
   "metadata": {},
   "source": [
    "#### Logical operator \"or\"\n",
    "- `or`:  check whether one or both conditions is `True`. However the \"if block\" won't run if both condition are `False`"
   ]
  },
  {
   "cell_type": "code",
   "execution_count": 9,
   "metadata": {},
   "outputs": [
    {
     "name": "stdout",
     "output_type": "stream",
     "text": [
      "One or both statements were true\n"
     ]
    }
   ],
   "source": [
    "# using the keyword \"or\" in an if statement\n",
    "x,y,z = 5, 10, 5\n",
    "if x < y or x != z:\n",
    "    print(\"One or both statements were true\")"
   ]
  },
  {
   "cell_type": "markdown",
   "metadata": {},
   "source": [
    "#### Logical operator \"not\"\n",
    "- `not`: checks for the opposite of a value"
   ]
  },
  {
   "cell_type": "code",
   "execution_count": 10,
   "metadata": {},
   "outputs": [
    {
     "name": "stdout",
     "output_type": "stream",
     "text": [
      "Flag is False\n"
     ]
    }
   ],
   "source": [
    "# using the keyword \"not\" within an \"if statement\"\n",
    "flag = False\n",
    "if not flag: # same as saying if not true\n",
    "    print(\"Flag is False\")"
   ]
  },
  {
   "cell_type": "markdown",
   "metadata": {},
   "source": [
    "### Membership operators\n",
    "- These are used to test if a sequence appears in an object\n",
    "\n",
    "#### Membership Operator \"in\"\n",
    "- `in` Helps check whether a value is in a collection\n"
   ]
  },
  {
   "cell_type": "code",
   "execution_count": 12,
   "metadata": {},
   "outputs": [
    {
     "name": "stdout",
     "output_type": "stream",
     "text": [
      "Baseball contains the character b\n"
     ]
    }
   ],
   "source": [
    "# using the keyword \"in\" within an \"if statement\"\n",
    "word = \"Baseball\"\n",
    "if \"b\" in word:\n",
    "    print(\"{} contains the character b\".format(word))"
   ]
  },
  {
   "cell_type": "markdown",
   "metadata": {},
   "source": [
    "#### Membership operator \"not in\"\n",
    "- `not in`: Helps checks whether a value is not in a collection"
   ]
  },
  {
   "cell_type": "code",
   "execution_count": 13,
   "metadata": {},
   "outputs": [
    {
     "name": "stdout",
     "output_type": "stream",
     "text": [
      "Baseball does not contain the character x\n"
     ]
    }
   ],
   "source": [
    "# using the keyword \"not in\" within an \"if statement\"\n",
    "word = \"Baseball\"\n",
    "if \"x\" not in word:\n",
    "    print(\"{} does not contain the character x\".format(word))"
   ]
  },
  {
   "cell_type": "code",
   "execution_count": 15,
   "metadata": {},
   "outputs": [
    {
     "name": "stdout",
     "output_type": "stream",
     "text": [
      "What the name of the president wife?esther\n",
      "esther has the character 'es'\n"
     ]
    }
   ],
   "source": [
    "###exercises\n",
    "#checking inclusion\n",
    "check_word = \"es\"\n",
    "ans = input(\"What the name of the president wife?\")\n",
    "if check_word in ans:\n",
    "    print(\"{} has the character 'es'\".format(ans))\n"
   ]
  },
  {
   "cell_type": "code",
   "execution_count": 16,
   "metadata": {},
   "outputs": [
    {
     "name": "stdout",
     "output_type": "stream",
     "text": [
      "what is John doing in the water?swimming\n",
      "swimming ends with ing\n"
     ]
    }
   ],
   "source": [
    "# Checking inclusion;\n",
    "interested_w = \"ing\"\n",
    "ans = input(\"what is John doing in the water?\")\n",
    "if ans[-1:-3] in ans:\n",
    "    print(\"{} ends with {}\".format(ans, interested_w))"
   ]
  },
  {
   "cell_type": "code",
   "execution_count": 18,
   "metadata": {},
   "outputs": [
    {
     "name": "stdout",
     "output_type": "stream",
     "text": [
      "what is your first favourite fruit?Banana\n",
      "what is your second favourite fruit?BANANA\n",
      "banana  is your first favourite fruit  and should be different from  banana your second favourite fruit\n"
     ]
    }
   ],
   "source": [
    "# checking equality\n",
    "fruit_1 = input(\"what is your first favourite fruit?\")\n",
    "fruit_1 = fruit_1.lower()\n",
    "fruit_2 = input(\"what is your second favourite fruit?\")\n",
    "fruit_2 = fruit_2.lower()\n",
    "if fruit_1 == fruit_2:\n",
    "    print(\"{}  is your first favourite fruit  and should be different from  {} your second favourite fruit\".format(fruit_1, fruit_2))"
   ]
  },
  {
   "cell_type": "code",
   "execution_count": 20,
   "metadata": {},
   "outputs": [
    {
     "name": "stdout",
     "output_type": "stream",
     "text": [
      "what is your favourit number?>3\n",
      "Your favourite number squared is 9\n"
     ]
    }
   ],
   "source": [
    "# Returning Exponent\n",
    "favorit_num = int(input(\"what is your favourit number?>\"))\n",
    "if favorit_num < 10:\n",
    "    favorit_num = favorit_num**2\n",
    "    print(\"Your favourite number squared is {}\".format(favorit_num))"
   ]
  },
  {
   "cell_type": "markdown",
   "metadata": {},
   "source": [
    "# Wednesday"
   ]
  },
  {
   "cell_type": "markdown",
   "metadata": {},
   "source": [
    "## Elif Statements\n",
    "### How it works\n",
    "- `elif` statement also called else if statement in other languages. it goes along with the if statement especially when making multiple decision under a condition. Its that statement that is fulfilled when the `if statement` above it is `False'\n",
    "### Writing elif statement\n",
    "- The `elif` key word must be use in order to evoke it"
   ]
  },
  {
   "cell_type": "code",
   "execution_count": 1,
   "metadata": {},
   "outputs": [
    {
     "name": "stdout",
     "output_type": "stream",
     "text": [
      "x is less\n"
     ]
    }
   ],
   "source": [
    "# using the elif conditional statement\n",
    "x,y = 5, 10\n",
    "if x > y:\n",
    "    print('x is greater')\n",
    "elif x < y:\n",
    "    print('x is less')"
   ]
  },
  {
   "cell_type": "markdown",
   "metadata": {},
   "source": [
    "### Checking multiple elif statements\n",
    "- There are occasion where the application warrant writing multiple elif statement to cater for the variety of conditions and decision"
   ]
  },
  {
   "cell_type": "code",
   "execution_count": 2,
   "metadata": {},
   "outputs": [
    {
     "name": "stdout",
     "output_type": "stream",
     "text": [
      "equal\n"
     ]
    }
   ],
   "source": [
    "# checking more than one elif conditional statement\n",
    "x, y = 5, 10\n",
    "if x > y:\n",
    "    print('x is greater')\n",
    "elif (x + 10) < y: # checking if 15 is less than 10\n",
    "    print('x is less')\n",
    "elif (x + 5) == y: # checking if 10 is equal to 10\n",
    "    print('equal')"
   ]
  },
  {
   "cell_type": "markdown",
   "metadata": {},
   "source": [
    "### Conditionals within conditionals\n",
    "- This is where an if statement is within an if statement\n"
   ]
  },
  {
   "cell_type": "code",
   "execution_count": 3,
   "metadata": {},
   "outputs": [
    {
     "name": "stdout",
     "output_type": "stream",
     "text": [
      "x is equal to z\n"
     ]
    }
   ],
   "source": [
    "# writing multiple conditionals within each other-multiple block\n",
    "x,y,z = 5, 10, 5\n",
    "if x > y:\n",
    "    print('greater')\n",
    "elif x <= y:\n",
    "    if x == z:\n",
    "        print('x is equal to z')\n",
    "    elif x != z:\n",
    "        print('x is not equal to z')"
   ]
  },
  {
   "cell_type": "markdown",
   "metadata": {},
   "source": [
    "### if statements Vs elif statement\n",
    "- all elif statements are connected to one original if statement such that if the condition is `True` the all elif statements would be ignored"
   ]
  },
  {
   "cell_type": "code",
   "execution_count": 4,
   "metadata": {},
   "outputs": [
    {
     "name": "stdout",
     "output_type": "stream",
     "text": [
      "x is less\n",
      "x is equal\n"
     ]
    }
   ],
   "source": [
    "# testting output of two if statements in a roe that are both true\n",
    "x,y,z = 5, 10, 5\n",
    "if x < y:\n",
    "    print('x is less')\n",
    "if x == z:\n",
    "    print('x is equal')"
   ]
  },
  {
   "cell_type": "code",
   "execution_count": 5,
   "metadata": {},
   "outputs": [
    {
     "name": "stdout",
     "output_type": "stream",
     "text": [
      "x is less\n"
     ]
    }
   ],
   "source": [
    "# testing output of an if and elif statement that are both true\n",
    "x,y,z = 5, 10, 5\n",
    "if x < y:\n",
    "    print('x is less')\n",
    "elif x == x:\n",
    "    print('x is equal to z')"
   ]
  },
  {
   "cell_type": "code",
   "execution_count": 8,
   "metadata": {},
   "outputs": [
    {
     "name": "stdout",
     "output_type": "stream",
     "text": [
      "guess the magic number?100\n",
      "yeah you guess the magic number right!\n"
     ]
    }
   ],
   "source": [
    "### exercises\n",
    "#High/lower\n",
    "magic_num = 100\n",
    "guess_num = int(input('guess the magic number?'))\n",
    "if guess_num < magic_num:\n",
    "    print('your guess {} is lower than the magic number by {}'.format(guess_num, magic_num - guess_num))\n",
    "elif guess_num > magic_num:\n",
    "    print('your guess {} is higher than the magic number by {} '.format(guess_num, guess_num - magic_num))\n",
    "elif guess_num == magic_num:\n",
    "    print('yeah you guess the magic number right!')\n"
   ]
  },
  {
   "cell_type": "code",
   "execution_count": 9,
   "metadata": {},
   "outputs": [
    {
     "name": "stdout",
     "output_type": "stream",
     "text": [
      "lower\n"
     ]
    }
   ],
   "source": [
    "# fix code error\n",
    "x, y = 5, 10\n",
    "if x > y:\n",
    "    print('greater')\n",
    "elif x < y:\n",
    "    print('lower')"
   ]
  },
  {
   "cell_type": "markdown",
   "metadata": {},
   "source": [
    "# Thursday"
   ]
  },
  {
   "cell_type": "markdown",
   "metadata": {},
   "source": [
    "### Else  Statements\n",
    "- This involves the default decision that could be fall back on in the decision process\n",
    "- Covers all other possible decision not considered in the normal decision"
   ]
  },
  {
   "cell_type": "markdown",
   "metadata": {},
   "source": [
    "#### Writing Else Statement\n",
    "- Like `elif` clause the `else` clause is often connected to an original `if` clause/statement. However it doesn't require a condition but it must be followed by a colon before writing the block of code that may run if all other subsequent condition fails/False"
   ]
  },
  {
   "cell_type": "code",
   "execution_count": 1,
   "metadata": {},
   "outputs": [
    {
     "name": "stdout",
     "output_type": "stream",
     "text": [
      "Hello John!\n"
     ]
    }
   ],
   "source": [
    "# using an else statement\n",
    "name = 'John'\n",
    "if name == 'Jacob':\n",
    "    print('Hello Jocob!')\n",
    "else:\n",
    "    print('Hello {}!'.format(name))"
   ]
  },
  {
   "cell_type": "markdown",
   "metadata": {},
   "source": [
    "#### The Full circle of conditional statement"
   ]
  },
  {
   "cell_type": "code",
   "execution_count": 2,
   "metadata": {},
   "outputs": [
    {
     "name": "stdout",
     "output_type": "stream",
     "text": [
      "Name starts with a J\n"
     ]
    }
   ],
   "source": [
    "# writng a full conditional statement with if, elif and else\n",
    "name = 'John'\n",
    "if name[0] == 'A':\n",
    "    print('Name start with an A')\n",
    "elif name[0] == 'B':\n",
    "    print('Name statrts with B')\n",
    "elif name[0] == 'J':\n",
    "    print('Name starts with a J')\n",
    "else: # cover all other posibilities\n",
    "    print('Name statrs with a {}'.format(name[0]))"
   ]
  },
  {
   "cell_type": "code",
   "execution_count": 3,
   "metadata": {},
   "outputs": [
    {
     "name": "stdout",
     "output_type": "stream",
     "text": [
      "Hello John\n"
     ]
    }
   ],
   "source": [
    "#exercise\n",
    "## fix the errors\n",
    "name = 'John'\n",
    "if name == 'Jack':\n",
    "    print('Hello Jack')\n",
    "else:\n",
    "    print('Hello John')"
   ]
  },
  {
   "cell_type": "code",
   "execution_count": 9,
   "metadata": {},
   "outputs": [
    {
     "name": "stdout",
     "output_type": "stream",
     "text": [
      "what time is it now [military format e.g 12:00 PM = 1200] >1800\n",
      "Good Evening!\n"
     ]
    }
   ],
   "source": [
    "#user input: millitary time\n",
    "whats_time = int(input('what time is it now [military format e.g 12:00 PM = 1200] >'))\n",
    "if whats_time < 1200:\n",
    "    print('Good morning!')\n",
    "elif whats_time < 1200  < 1700:\n",
    "    print('Good Afternoon')\n",
    "else:\n",
    "    print('Good Evening!')"
   ]
  },
  {
   "cell_type": "markdown",
   "metadata": {},
   "source": [
    "# Friday"
   ]
  },
  {
   "cell_type": "markdown",
   "metadata": {},
   "source": [
    "### Friday Project: Creating a Calculator\n",
    "- steps for the layout of the application\n",
    " 1. Ask the user for the calculation they would like to perform\n",
    " 2. Ask the user for the numbers they would like to run the operation on\n",
    " 3. set up try/except clause for mathematical operation\n",
    "     - Convert numbers input to floats\n",
    "     - perform operation and print result\n",
    "     - if an exception is hit, print error"
   ]
  },
  {
   "cell_type": "markdown",
   "metadata": {},
   "source": [
    "#### step #1: Ask User for the calculation to be performed\n",
    "- the user should decide the mathematical operation that would be carried out first"
   ]
  },
  {
   "cell_type": "code",
   "execution_count": 1,
   "metadata": {},
   "outputs": [
    {
     "name": "stdout",
     "output_type": "stream",
     "text": [
      "Would you like to add/subtract/multiply/divid?add\n",
      "You chose add\n"
     ]
    }
   ],
   "source": [
    "# step 1: ask user for calculation to be perfoem\n",
    "operation = input('Would you like to add/subtract/multiply/divid?').lower()\n",
    "print(f'You chose {operation}') # for testing purpose\n"
   ]
  },
  {
   "cell_type": "markdown",
   "metadata": {},
   "source": [
    "#### step #2: Ask for numbers, Alert order matters\n",
    "- Here the user is expected to input numbers interested in carrying the operation on"
   ]
  },
  {
   "cell_type": "code",
   "execution_count": 2,
   "metadata": {},
   "outputs": [
    {
     "name": "stdout",
     "output_type": "stream",
     "text": [
      "what is the first number? 10\n",
      "what is the second number? 2\n",
      "First Number:10\n",
      " Second Number:2\n"
     ]
    }
   ],
   "source": [
    "# step 2: as for numbers, alert order matters for subtracting and dividing\n",
    "if operation == \"subtract\" or operation == \"divide\":\n",
    "    print(f'You chose {operation}')\n",
    "    print('please keep in mind that the order of your number matter.')\n",
    "num1 = input('what is the first number? ')\n",
    "num2 = input('what is the second number? ')\n",
    "print(f'First Number:{num1}') # for testing purpose\n",
    "print(f'Second Number:{num2}') # for testing purpose"
   ]
  },
  {
   "cell_type": "markdown",
   "metadata": {},
   "source": [
    "#### Step #3: Set up try/except for mathematical operation\n",
    "- try/except is being use because we are assuming the user may not enter a proper input"
   ]
  },
  {
   "cell_type": "code",
   "execution_count": 3,
   "metadata": {},
   "outputs": [
    {
     "name": "stdout",
     "output_type": "stream",
     "text": [
      "10.0 + 2.0 = 12.0\n"
     ]
    }
   ],
   "source": [
    "# step 3 : setup try/except for mathematical operation\n",
    "try:\n",
    "    # step 3a immediately try to convert numbers input to float\n",
    "    num1, num2 = float(num1), float(num2)\n",
    "    # step 3b: perform operation and print result\n",
    "    if operation == 'add':\n",
    "        result = num1 + num2\n",
    "        print(f'{num1} + {num2} = {result}')\n",
    "    elif operation == 'subtract':\n",
    "        result = num1 - num2\n",
    "        print(f'{num2} - {num2} = {result}')\n",
    "    elif operation == 'multiply':\n",
    "        result = num1 * num2\n",
    "        print(f'{num1} x {numb2} = {result}')\n",
    "    elif operation == 'divide':\n",
    "        result = num1 / num2\n",
    "        print(f'{num1} / {num} = {result}')\n",
    "    else:\n",
    "        print(f'Sorry, but {operation} is not an option')\n",
    "except:#step3c: print error\n",
    "    print('Erroe: Improper numbers used. Please try again')\n",
    "    \n",
    "    \n",
    "    "
   ]
  },
  {
   "cell_type": "markdown",
   "metadata": {},
   "source": [
    "#### Final output\n",
    "- This may seem simple application but we have been able to demonstrate and practice a key aspect of programing: making decisions especially from users inputs.\n"
   ]
  },
  {
   "cell_type": "code",
   "execution_count": 9,
   "metadata": {},
   "outputs": [
    {
     "name": "stdout",
     "output_type": "stream",
     "text": [
      "Would you like to add/subtract/multiply/divide?divide\n",
      "You chose divide\n",
      "please keep in mind that the order of your number matter.\n",
      "what is the first number? 300\n",
      "what is the second number? 35\n",
      "First Number:300\n",
      "Second Number:35\n",
      "300.0 / 35.0 = 8.571\n"
     ]
    }
   ],
   "source": [
    "# step 1: ask user for calculation to be perfoem\n",
    "operation = input('Would you like to add/subtract/multiply/divide?').lower()\n",
    "#print(f'You chose {operation}') # for testing purpose\n",
    "\n",
    "# step 2: as for numbers, alert order matters for subtracting and dividing\n",
    "if operation == \"subtract\" or operation == \"divide\":\n",
    "    print(f'You chose {operation}')\n",
    "    print('please keep in mind that the order of your number matter.')\n",
    "num1 = input('what is the first number? ')\n",
    "num2 = input('what is the second number? ')\n",
    "print(f'First Number:{num1}') # for testing purpose\n",
    "print(f'Second Number:{num2}') # for testing purpose\n",
    "\n",
    "# step 3 : setup try/except for mathematical operation\n",
    "try:\n",
    "    # step 3a immediately try to convert numbers input to float\n",
    "    num1, num2 = float(num1), float(num2)\n",
    "    # step 3b: perform operation and print result\n",
    "    if operation == 'add':\n",
    "        result = num1 + num2\n",
    "        print(f'{num1} + {num2} = {round(result,3)}') # we round up to 3 decimal places if applicable\n",
    "    elif operation == 'subtract':\n",
    "        result = num1 - num2\n",
    "        print(f'{num2} - {num2} = {round(result, 3)}') # we round up to 3 decimal places if applicable\n",
    "    elif operation == 'multiply':\n",
    "        result = num1 * num2\n",
    "        print(f'{num1} x {numb2} = {round(result, 3)}') # we round up to 3 decimal places if applicable\n",
    "    elif operation == 'divide':\n",
    "        result = num1 / num2\n",
    "        print(f'{num1} / {num2} = {round(result, 3)}')\n",
    "    else:\n",
    "        print(f'Sorry, but {operation} is not an option')\n",
    "except: #step3c: print error\n",
    "    print('Error: Improper numbers used. Please try again')\n",
    "    \n",
    "\n",
    "\n"
   ]
  },
  {
   "cell_type": "code",
   "execution_count": 20,
   "metadata": {},
   "outputs": [
    {
     "name": "stdout",
     "output_type": "stream",
     "text": [
      "What's your age? 31\n",
      "You are an Adult\n"
     ]
    }
   ],
   "source": [
    "# exercise\n",
    "# get the age of user\n",
    "try:\n",
    "    user_age = int(input(\"What's your age? \"))\n",
    "    if user_age <= 0 <= 12:\n",
    "        print('You are a Kid')\n",
    "    elif user_age <= 13 <= 19:\n",
    "        print('You are a Teenager')\n",
    "    elif user_age <= 20 <= 30:\n",
    "        print('You are a young Adult')\n",
    "    elif user_age <= 31 <= 64:\n",
    "        print('You are an Adult')\n",
    "    elif user_age >= 65:\n",
    "        print('You are a Senior')\n",
    "    else:\n",
    "        print('Please enter a valid input. Try again')\n",
    "except:\n",
    "    print('Error Please enter a valid input')"
   ]
  }
 ],
 "metadata": {
  "kernelspec": {
   "display_name": "Python 3",
   "language": "python",
   "name": "python3"
  },
  "language_info": {
   "codemirror_mode": {
    "name": "ipython",
    "version": 3
   },
   "file_extension": ".py",
   "mimetype": "text/x-python",
   "name": "python",
   "nbconvert_exporter": "python",
   "pygments_lexer": "ipython3",
   "version": "3.6.8"
  }
 },
 "nbformat": 4,
 "nbformat_minor": 2
}
