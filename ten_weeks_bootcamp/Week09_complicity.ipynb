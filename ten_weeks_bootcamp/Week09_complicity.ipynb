{
 "cells": [
  {
   "cell_type": "markdown",
   "metadata": {},
   "source": [
    "# Monday"
   ]
  },
  {
   "cell_type": "markdown",
   "metadata": {},
   "source": [
    "## Generators and Iterators"
   ]
  },
  {
   "cell_type": "markdown",
   "metadata": {},
   "source": [
    "### Iterators Vs Iterables\n",
    "- iterators are objects with items which can be iterated upon\n",
    "- iterable aren't iterators they are essentially containers for data like list, tuple, dictionaries\n",
    "- iterator uses the magic methods `iter()` and `next()` to traverse through values\n",
    "\n",
    "### Creating A Basic Iterator\n",
    "- Iterator are created from iterables with the aid of the `iter()` function"
   ]
  },
  {
   "cell_type": "code",
   "execution_count": 4,
   "metadata": {},
   "outputs": [
    {
     "name": "stdout",
     "output_type": "stream",
     "text": [
      "baseball\n",
      "soccer\n",
      "football\n"
     ]
    }
   ],
   "source": [
    "# creating a basic iterator from an iterable\n",
    "sports = ['baseball', 'soccer', 'football', 'hockey', 'basketball']\n",
    "my_iter = iter(sports)\n",
    "print(next(my_iter)) # outputs first item\n",
    "print(next(my_iter)) # outputs second item\n",
    "# for item in my_iter:\n",
    "#     print(item)\n",
    "print(next(my_iter)) # will produce error"
   ]
  },
  {
   "cell_type": "markdown",
   "metadata": {},
   "source": [
    "### Creating Our Own Iterator\n",
    "- This is done with two magic methods `__iter__()` `, __next__()`"
   ]
  },
  {
   "cell_type": "code",
   "execution_count": 5,
   "metadata": {},
   "outputs": [
    {
     "name": "stdout",
     "output_type": "stream",
     "text": [
      "a\n",
      "b\n",
      "c\n",
      "d\n",
      "e\n",
      "f\n",
      "g\n",
      "h\n",
      "i\n",
      "j\n",
      "k\n",
      "l\n",
      "m\n",
      "n\n",
      "o\n",
      "p\n",
      "q\n",
      "r\n",
      "s\n",
      "t\n",
      "u\n",
      "v\n",
      "w\n",
      "x\n",
      "y\n",
      "z\n"
     ]
    }
   ],
   "source": [
    "# creating our own iterator\n",
    "class Alphabet():\n",
    "    def __iter__(self):\n",
    "        self.letters = \"abcdefghijklmnopqrstuvwxyz\"\n",
    "        self.index = 0\n",
    "        return self\n",
    "    def __next__(self):\n",
    "        if self.index <= 25:\n",
    "            char = self.letters[self.index]\n",
    "            self.index += 1\n",
    "            return char\n",
    "        else:\n",
    "            raise StopIteration\n",
    "for char in Alphabet():\n",
    "    print(char)"
   ]
  },
  {
   "cell_type": "markdown",
   "metadata": {},
   "source": [
    "## What Are Generator\n",
    "- Generators are function that yield back information to produce sequence of results rather than a single value "
   ]
  },
  {
   "cell_type": "markdown",
   "metadata": {},
   "source": [
    "### Creating a range Generator\n",
    "- we can use our version of range to explain the concept of generator\n"
   ]
  },
  {
   "cell_type": "code",
   "execution_count": 8,
   "metadata": {},
   "outputs": [
    {
     "name": "stdout",
     "output_type": "stream",
     "text": [
      "Generator Start Value:0\n",
      "For Loop X Value: 0\n",
      "Generator Start Value:1\n",
      "For Loop X Value: 1\n",
      "Generator Start Value:2\n",
      "For Loop X Value: 2\n",
      "Generator Start Value:3\n",
      "For Loop X Value: 3\n",
      "Generator Start Value:4\n",
      "For Loop X Value: 4\n"
     ]
    }
   ],
   "source": [
    "# creating our range generator with start,stop and stem parameters\n",
    "def myRange(stop, start=0, step=1):\n",
    "    while start < stop:\n",
    "        print(f'Generator Start Value:{start}')\n",
    "        yield start\n",
    "        start += step # increment start, otherwise infinite loop\n",
    "for x in myRange(5):\n",
    "    print(f'For Loop X Value: {x}')"
   ]
  },
  {
   "cell_type": "code",
   "execution_count": null,
   "metadata": {},
   "outputs": [],
   "source": [
    "# exercise\n",
    "# class RevIter():\n",
    "#     def __init__(self, fav):\n",
    "#         self.fav = fav\n",
    "#     def __iter__(self):\n",
    "#         self.fav = fav\n",
    "#         self.index = 0\n",
    "#         return self\n",
    "#     def __next__(self):\n",
    "#         if self.index <= 25:\n",
    "#             char = self.letters[self.index]\n",
    "#             self.index += 1\n",
    "#             return char\n",
    "        \n",
    "        \n",
    "        \n",
    "        "
   ]
  }
 ],
 "metadata": {
  "kernelspec": {
   "display_name": "Python 3",
   "language": "python",
   "name": "python3"
  },
  "language_info": {
   "codemirror_mode": {
    "name": "ipython",
    "version": 3
   },
   "file_extension": ".py",
   "mimetype": "text/x-python",
   "name": "python",
   "nbconvert_exporter": "python",
   "pygments_lexer": "ipython3",
   "version": "3.6.8"
  }
 },
 "nbformat": 4,
 "nbformat_minor": 2
}
