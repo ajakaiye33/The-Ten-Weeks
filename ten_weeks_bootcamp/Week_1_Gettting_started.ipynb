{
 "cells": [
  {
   "cell_type": "markdown",
   "metadata": {},
   "source": [
    "# Monday"
   ]
  },
  {
   "cell_type": "markdown",
   "metadata": {},
   "source": [
    "### Why Python; What is Python\n",
    "- Python is **interpreted**, **High level**, and **General Purpose**\n",
    "- It's love because:\n",
    "1. one of the *easier* programming language especially for those encountering programming for the first time\n",
    "2. one of the fastest growing programming language"
   ]
  },
  {
   "cell_type": "markdown",
   "metadata": {},
   "source": [
    "## What await us\n",
    "- Learn the necessary theory and concepts that you would be expected to know as a python developer\n",
    "- And at the end of each week build a real world application\n"
   ]
  },
  {
   "cell_type": "code",
   "execution_count": null,
   "metadata": {},
   "outputs": [],
   "source": []
  }
 ],
 "metadata": {
  "kernelspec": {
   "display_name": "Python 3",
   "language": "python",
   "name": "python3"
  },
  "language_info": {
   "codemirror_mode": {
    "name": "ipython",
    "version": 3
   },
   "file_extension": ".py",
   "mimetype": "text/x-python",
   "name": "python",
   "nbconvert_exporter": "python",
   "pygments_lexer": "ipython3",
   "version": "3.6.8"
  }
 },
 "nbformat": 4,
 "nbformat_minor": 2
}
