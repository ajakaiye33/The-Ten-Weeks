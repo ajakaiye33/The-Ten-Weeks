{
 "cells": [
  {
   "cell_type": "markdown",
   "metadata": {},
   "source": [
    "# Monday"
   ]
  },
  {
   "cell_type": "markdown",
   "metadata": {},
   "source": [
    "## Comments and Basic Data Types\n",
    "- Comments are notes that aren't run as part of code but note that explains the intent of the code or any instruction that the programmer wish to comment about the code\n",
    "- `#` The hash symbol, under jupyter notebook, code cells is used to  make comment to explain\n",
    "- Multiple lines comments are done with three quotation symbols e.g: \n",
    "`\"\"\" \n",
    "This is multi-line comment\n",
    "\"\"\"`\n",
    "### Data Type\n",
    "- **Integers** : This is also called `int`, They are positive and negative whole number"
   ]
  },
  {
   "cell_type": "code",
   "execution_count": 1,
   "metadata": {},
   "outputs": [
    {
     "name": "stdout",
     "output_type": "stream",
     "text": [
      "22\n",
      "10\n"
     ]
    }
   ],
   "source": [
    "print(22)\n",
    "print(10)"
   ]
  },
  {
   "cell_type": "markdown",
   "metadata": {},
   "source": [
    "- **Floats** : `float` is a number with decimal points. e.g"
   ]
  },
  {
   "cell_type": "code",
   "execution_count": 2,
   "metadata": {},
   "outputs": [
    {
     "name": "stdout",
     "output_type": "stream",
     "text": [
      "10.953\n"
     ]
    }
   ],
   "source": [
    "print(10.953)"
   ]
  },
  {
   "cell_type": "markdown",
   "metadata": {},
   "source": [
    "- **Booleans**: This a data type of `TRUE` or `FALSE`. E.g"
   ]
  },
  {
   "cell_type": "code",
   "execution_count": 3,
   "metadata": {},
   "outputs": [
    {
     "name": "stdout",
     "output_type": "stream",
     "text": [
      "True\n",
      "False\n"
     ]
    }
   ],
   "source": [
    "print(True)\n",
    "print(False)"
   ]
  },
  {
   "cell_type": "markdown",
   "metadata": {},
   "source": [
    "- **String**: This data type are essentially sets of  `characters, symbols, numbers, whitespace,empty space between two quotes` the following are strings"
   ]
  },
  {
   "cell_type": "code",
   "execution_count": 4,
   "metadata": {},
   "outputs": [
    {
     "name": "stdout",
     "output_type": "stream",
     "text": [
      "Code is the live blood of 21st Century innovation\n",
      " \n",
      "I Love Coding\n"
     ]
    }
   ],
   "source": [
    "print('Code is the live blood of 21st Century innovation')\n",
    "print(\" \")\n",
    "print('I Love Coding')"
   ]
  },
  {
   "cell_type": "code",
   "execution_count": 5,
   "metadata": {},
   "outputs": [
    {
     "name": "stdout",
     "output_type": "stream",
     "text": [
      "<class 'type'>\n"
     ]
    }
   ],
   "source": [
    "print(type(int))"
   ]
  },
  {
   "cell_type": "code",
   "execution_count": null,
   "metadata": {},
   "outputs": [],
   "source": []
  }
 ],
 "metadata": {
  "kernelspec": {
   "display_name": "Python 3",
   "language": "python",
   "name": "python3"
  },
  "language_info": {
   "codemirror_mode": {
    "name": "ipython",
    "version": 3
   },
   "file_extension": ".py",
   "mimetype": "text/x-python",
   "name": "python",
   "nbconvert_exporter": "python",
   "pygments_lexer": "ipython3",
   "version": "3.6.8"
  }
 },
 "nbformat": 4,
 "nbformat_minor": 2
}
