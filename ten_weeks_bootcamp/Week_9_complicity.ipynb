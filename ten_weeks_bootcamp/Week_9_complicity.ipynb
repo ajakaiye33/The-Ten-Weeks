{
 "cells": [
  {
   "cell_type": "markdown",
   "metadata": {},
   "source": [
    "# Monday"
   ]
  },
  {
   "cell_type": "markdown",
   "metadata": {},
   "source": [
    "## Generators and Iterators"
   ]
  },
  {
   "cell_type": "markdown",
   "metadata": {},
   "source": [
    "### Iterators Vs Iterables\n",
    "- iterators are objects with items which can be iterated upon\n",
    "- iterable aren't iterators they are essentially containers for data like list, tuple, dictionaries\n",
    "- iterator uses the magic methods `iter()` and `next()` to traverse through values\n",
    "\n",
    "### Creating A Basic Iterator\n",
    "- Iterator are created from iterables with the aid of the `iter()` function"
   ]
  },
  {
   "cell_type": "code",
   "execution_count": 4,
   "metadata": {},
   "outputs": [
    {
     "name": "stdout",
     "output_type": "stream",
     "text": [
      "baseball\n",
      "soccer\n",
      "football\n"
     ]
    }
   ],
   "source": [
    "# creating a basic iterator from an iterable\n",
    "sports = ['baseball', 'soccer', 'football', 'hockey', 'basketball']\n",
    "my_iter = iter(sports)\n",
    "print(next(my_iter)) # outputs first item\n",
    "print(next(my_iter)) # outputs second item\n",
    "# for item in my_iter:\n",
    "#     print(item)\n",
    "print(next(my_iter)) # will produce error"
   ]
  },
  {
   "cell_type": "markdown",
   "metadata": {},
   "source": [
    "### Creating Our Own Iterator\n",
    "- This is done with two magic methods `__iter__()` `, __next__()`"
   ]
  },
  {
   "cell_type": "code",
   "execution_count": 5,
   "metadata": {},
   "outputs": [
    {
     "name": "stdout",
     "output_type": "stream",
     "text": [
      "a\n",
      "b\n",
      "c\n",
      "d\n",
      "e\n",
      "f\n",
      "g\n",
      "h\n",
      "i\n",
      "j\n",
      "k\n",
      "l\n",
      "m\n",
      "n\n",
      "o\n",
      "p\n",
      "q\n",
      "r\n",
      "s\n",
      "t\n",
      "u\n",
      "v\n",
      "w\n",
      "x\n",
      "y\n",
      "z\n"
     ]
    }
   ],
   "source": [
    "# creating our own iterator\n",
    "class Alphabet():\n",
    "    def __iter__(self):\n",
    "        self.letters = \"abcdefghijklmnopqrstuvwxyz\"\n",
    "        self.index = 0\n",
    "        return self\n",
    "    def __next__(self):\n",
    "        if self.index <= 25:\n",
    "            char = self.letters[self.index]\n",
    "            self.index += 1\n",
    "            return char\n",
    "        else:\n",
    "            raise StopIteration\n",
    "for char in Alphabet():\n",
    "    print(char)"
   ]
  },
  {
   "cell_type": "markdown",
   "metadata": {},
   "source": [
    "## What Are Generator\n",
    "- Generators are function that yield back information to produce sequence of results rather than a single value "
   ]
  },
  {
   "cell_type": "markdown",
   "metadata": {},
   "source": [
    "### Creating a range Generator\n",
    "- we can use our version of range to explain the concept of generator\n"
   ]
  },
  {
   "cell_type": "code",
   "execution_count": 8,
   "metadata": {},
   "outputs": [
    {
     "name": "stdout",
     "output_type": "stream",
     "text": [
      "Generator Start Value:0\n",
      "For Loop X Value: 0\n",
      "Generator Start Value:1\n",
      "For Loop X Value: 1\n",
      "Generator Start Value:2\n",
      "For Loop X Value: 2\n",
      "Generator Start Value:3\n",
      "For Loop X Value: 3\n",
      "Generator Start Value:4\n",
      "For Loop X Value: 4\n"
     ]
    }
   ],
   "source": [
    "# creating our range generator with start,stop and stem parameters\n",
    "def myRange(stop, start=0, step=1):\n",
    "    while start < stop:\n",
    "        print(f'Generator Start Value:{start}')\n",
    "        yield start\n",
    "        start += step # increment start, otherwise infinite loop\n",
    "for x in myRange(5):\n",
    "    print(f'For Loop X Value: {x}')"
   ]
  },
  {
   "cell_type": "code",
   "execution_count": 1,
   "metadata": {},
   "outputs": [],
   "source": [
    "# exercise\n",
    "# class RevIter():\n",
    "#     def __init__(self, fav):\n",
    "#         self.fav = fav\n",
    "#     def __iter__(self):\n",
    "#         self.fav = fav\n",
    "#         self.index = 0\n",
    "#         return self\n",
    "#     def __next__(self):\n",
    "#         if self.index <= 25:\n",
    "#             char = self.letters[self.index]\n",
    "#             self.index += 1\n",
    "#             return char\n",
    "        \n",
    "        \n",
    "        \n",
    "        "
   ]
  },
  {
   "cell_type": "markdown",
   "metadata": {},
   "source": [
    "# Tuesday"
   ]
  },
  {
   "cell_type": "markdown",
   "metadata": {},
   "source": [
    "### Decorators\n",
    "- Decorators also known as wrappers are functions that give other function extra capabilities without explicitly modifying them\n",
    "- decorators are denoted with `@` symbol then followed by the name of the function"
   ]
  },
  {
   "cell_type": "code",
   "execution_count": 2,
   "metadata": {},
   "outputs": [],
   "source": [
    "# @decorator\n",
    "# def normalFunc():"
   ]
  },
  {
   "cell_type": "markdown",
   "metadata": {},
   "source": [
    "### Higher Order Function\n",
    "- It's a function that operates on other functions either by taking a function as its argument or by returning a function. Decorators are higher-order function because they take in function and return function"
   ]
  },
  {
   "cell_type": "markdown",
   "metadata": {},
   "source": [
    "### Creating and Applying A decorator"
   ]
  },
  {
   "cell_type": "code",
   "execution_count": 3,
   "metadata": {},
   "outputs": [
    {
     "name": "stdout",
     "output_type": "stream",
     "text": [
      "===========\n",
      "John!\n",
      "============\n"
     ]
    }
   ],
   "source": [
    "# creating and applying our own decorator using the @ symbo\n",
    "def decorator(func):\n",
    "    def wrap():\n",
    "        print('===========')\n",
    "        func()\n",
    "        print('============')\n",
    "    return wrap\n",
    "@decorator\n",
    "def printName():\n",
    "    print('John!')\n",
    "printName()"
   ]
  },
  {
   "cell_type": "markdown",
   "metadata": {},
   "source": [
    "### Decorators with Parameters\n",
    "- decorators aside adding extra capabilities, they can also have argument\n"
   ]
  },
  {
   "cell_type": "code",
   "execution_count": 4,
   "metadata": {},
   "outputs": [
    {
     "name": "stdout",
     "output_type": "stream",
     "text": [
      "Hello\n",
      "Hello\n",
      "Hello\n",
      "Hello\n"
     ]
    }
   ],
   "source": [
    "# creating a decorator that takes in parameters\n",
    "def run_times(num):\n",
    "    def wrap(func):\n",
    "        for i in range(num):\n",
    "            func()\n",
    "    return wrap\n",
    "@run_times(4)\n",
    "def sayHello():\n",
    "    print('Hello')"
   ]
  },
  {
   "cell_type": "markdown",
   "metadata": {},
   "source": [
    "## Functions with Decorators and Parameters\n",
    "- if decorator should accept argument then the wrapper function should be made to accept same for it to work\n"
   ]
  },
  {
   "cell_type": "code",
   "execution_count": 5,
   "metadata": {},
   "outputs": [
    {
     "name": "stdout",
     "output_type": "stream",
     "text": [
      "Happy birthday Paul, you are now 44\n"
     ]
    }
   ],
   "source": [
    "# creating a decorator for a function that accept parameters\n",
    "def birthday(func):\n",
    "    def wrap(name, age):\n",
    "        func(name, age + 1)\n",
    "    return wrap\n",
    "@birthday\n",
    "def celebrate(name, age):\n",
    "    print(f'Happy birthday {name}, you are now {age}')\n",
    "celebrate('Paul', 43)"
   ]
  },
  {
   "cell_type": "markdown",
   "metadata": {},
   "source": [
    "### Restricting Function Access\n",
    "- the real essence of decorators\n"
   ]
  },
  {
   "cell_type": "code",
   "execution_count": 8,
   "metadata": {},
   "outputs": [
    {
     "name": "stdout",
     "output_type": "stream",
     "text": [
      "What is the passwordilywpf\n",
      "Access granted, welcome Jess\n"
     ]
    }
   ],
   "source": [
    "# real world scenario, restricting function access\n",
    "def login_required(func):\n",
    "    def wrap(user):\n",
    "        password = input('What is the password')\n",
    "        if password == user['password']:\n",
    "            func(user)\n",
    "        else:\n",
    "            print('Access Denied')\n",
    "    return wrap\n",
    "@login_required\n",
    "def restrictedFunc(user):\n",
    "    print(f\"Access granted, welcome {user['name']}\")\n",
    "user = {'name':'Jess', 'password':'ilywpf'}\n",
    "restrictedFunc(user)"
   ]
  },
  {
   "cell_type": "code",
   "execution_count": 3,
   "metadata": {},
   "outputs": [
    {
     "name": "stdout",
     "output_type": "stream",
     "text": [
      "what the number?50\n",
      "less than 100\n"
     ]
    }
   ],
   "source": [
    "# exercise\n",
    "def less_than_hundred(func):\n",
    "    def wrap():\n",
    "        get_user = int(input('what the number?'))\n",
    "        if get_user < 100:\n",
    "            func()\n",
    "        else:\n",
    "            print('Exeeds 100')\n",
    "    return wrap\n",
    "@less_than_hundred\n",
    "def number():\n",
    "    print('less than 100')\n",
    "number()"
   ]
  },
  {
   "cell_type": "markdown",
   "metadata": {},
   "source": [
    "# Wednesday"
   ]
  },
  {
   "cell_type": "markdown",
   "metadata": {},
   "source": [
    "### Modules\n",
    "- Not all the code of a project is written in a single file. However ideally for an organized project, some codes are written in other files which may include functions, methods class e.t.c\n",
    "- In projects, the codes written in external files are called modules, function and methods are imported into main project from these modules to execute a procedure\n"
   ]
  },
  {
   "cell_type": "markdown",
   "metadata": {},
   "source": [
    "### Importing A Module\n",
    "- working with the math module"
   ]
  },
  {
   "cell_type": "code",
   "execution_count": 4,
   "metadata": {},
   "outputs": [
    {
     "name": "stdout",
     "output_type": "stream",
     "text": [
      "2\n",
      "3\n",
      "3.141592653589793\n"
     ]
    }
   ],
   "source": [
    "# import the entire math module\n",
    "import math\n",
    "print(math.floor(2.5)) # rounds down\n",
    "print(math.ceil(2.5))\n",
    "print(math.pi)"
   ]
  },
  {
   "cell_type": "markdown",
   "metadata": {},
   "source": [
    "### Importing Only Variables And Function\n",
    "- Rather than import the whole module we can import the specific functions and method we need using the key word `from`"
   ]
  },
  {
   "cell_type": "code",
   "execution_count": 6,
   "metadata": {},
   "outputs": [
    {
     "name": "stdout",
     "output_type": "stream",
     "text": [
      "2\n",
      "3.141592653589793\n"
     ]
    }
   ],
   "source": [
    "# importing only variables and functions rather than an entire module, better efficiency\n",
    "from math import floor, pi\n",
    "print(floor(2.5))\n",
    "# print(ceil(2.5)) # will cause error because we only imported floor and pi, not ceil and not all of math\n",
    "print(pi)"
   ]
  },
  {
   "cell_type": "markdown",
   "metadata": {},
   "source": [
    "### Using An Alias\n",
    "- alias can be used with the keyword `as`\n"
   ]
  },
  {
   "cell_type": "code",
   "execution_count": 7,
   "metadata": {},
   "outputs": [
    {
     "name": "stdout",
     "output_type": "stream",
     "text": [
      "2\n"
     ]
    }
   ],
   "source": [
    "# using the 'as' keyword to create an alias for imports\n",
    "from math import floor as f\n",
    "print(f(2.5))"
   ]
  },
  {
   "cell_type": "markdown",
   "metadata": {},
   "source": [
    "###  Creating Our Own Module"
   ]
  },
  {
   "cell_type": "code",
   "execution_count": 8,
   "metadata": {},
   "outputs": [],
   "source": [
    "# # creating our own module in a text editor\n",
    "# # variables to import later\n",
    "# length = 5\n",
    "# width = 10\n",
    "# # functions to import later\n",
    "\n",
    "\n",
    "# def printInfo(name, age):\n",
    "#     print(f\"{name} is {age} years old\")\n"
   ]
  },
  {
   "cell_type": "markdown",
   "metadata": {},
   "source": [
    "### Using Our Module In Jupyter Notebook\n",
    "- In Jupyter Notebook we cant directly use `import` and `from` keyword rather we use `run` command\n"
   ]
  },
  {
   "cell_type": "code",
   "execution_count": 9,
   "metadata": {},
   "outputs": [
    {
     "name": "stdout",
     "output_type": "stream",
     "text": [
      "5 10\n",
      "John Smith is 37 years old\n"
     ]
    }
   ],
   "source": [
    "# using the run command with Jupyter Notebook to access our modules\n",
    "%run test.py\n",
    "print(length, width)\n",
    "printInfo('John Smith', 37) # able to call from the module beacuse we ran the file in jupyter above"
   ]
  },
  {
   "cell_type": "code",
   "execution_count": 12,
   "metadata": {},
   "outputs": [
    {
     "name": "stdout",
     "output_type": "stream",
     "text": [
      "CPU times: user 4 µs, sys: 1 µs, total: 5 µs\n",
      "Wall time: 10 µs\n"
     ]
    },
    {
     "name": "stderr",
     "output_type": "stream",
     "text": [
      "UsageError: Line magic function `%%sleep(5)` not found.\n"
     ]
    }
   ],
   "source": [
    "# Exercise\n",
    "%time\n",
    "%%sleep(5)\n",
    "print('Time module imported')"
   ]
  },
  {
   "cell_type": "code",
   "execution_count": 13,
   "metadata": {},
   "outputs": [
    {
     "data": {
      "text/plain": [
       "450"
      ]
     },
     "execution_count": 13,
     "metadata": {},
     "output_type": "execute_result"
    }
   ],
   "source": [
    "# exercise\n",
    "%run calculating.py\n",
    "calArea(15, 30)"
   ]
  },
  {
   "cell_type": "code",
   "execution_count": null,
   "metadata": {},
   "outputs": [],
   "source": []
  }
 ],
 "metadata": {
  "kernelspec": {
   "display_name": "Python 3",
   "language": "python",
   "name": "python3"
  },
  "language_info": {
   "codemirror_mode": {
    "name": "ipython",
    "version": 3
   },
   "file_extension": ".py",
   "mimetype": "text/x-python",
   "name": "python",
   "nbconvert_exporter": "python",
   "pygments_lexer": "ipython3",
   "version": "3.6.8"
  }
 },
 "nbformat": 4,
 "nbformat_minor": 2
}
