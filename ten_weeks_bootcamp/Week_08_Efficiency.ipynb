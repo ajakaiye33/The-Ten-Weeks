{
 "cells": [
  {
   "cell_type": "markdown",
   "metadata": {},
   "source": [
    "# Monday: List Comprehension\n"
   ]
  },
  {
   "cell_type": "markdown",
   "metadata": {},
   "source": [
    "### List Comprehension\n",
    "- if anytime you wish to iterate through a list of data and append them to an empty list, you would be required to write code than is at least three lines. \n",
    "- With `list comprehension` one is able to iterate and append same to a list in just a a single line of code"
   ]
  },
  {
   "cell_type": "markdown",
   "metadata": {},
   "source": [
    "### List Comprehension Syntax\n",
    "- How list comprehension is written depend on what you wish to solve"
   ]
  },
  {
   "cell_type": "code",
   "execution_count": 1,
   "metadata": {},
   "outputs": [],
   "source": [
    "#result = [transform, iteration, filter]\n",
    "\n",
    "## syntax to populate a list\n",
    "#name_of_list = [item_to_append for item in list]\n",
    "\n",
    "## The sybtax when you want to include if statement\n",
    "#name_of_list = [item_to_append for item in list if condition]\n",
    "\n",
    "## The syntax when you wish to include an else consition\n",
    "#name_of_list = [item_to_append if condition else item_to_append for item in list]"
   ]
  },
  {
   "cell_type": "markdown",
   "metadata": {},
   "source": [
    "### Generating a list of Numbers"
   ]
  },
  {
   "cell_type": "code",
   "execution_count": 2,
   "metadata": {},
   "outputs": [
    {
     "name": "stdout",
     "output_type": "stream",
     "text": [
      "[0, 1, 2, 3, 4, 5, 6, 7, 8, 9, 10, 11, 12, 13, 14, 15, 16, 17, 18, 19, 20, 21, 22, 23, 24, 25, 26, 27, 28, 29, 30, 31, 32, 33, 34, 35, 36, 37, 38, 39, 40, 41, 42, 43, 44, 45, 46, 47, 48, 49, 50, 51, 52, 53, 54, 55, 56, 57, 58, 59, 60, 61, 62, 63, 64, 65, 66, 67, 68, 69, 70, 71, 72, 73, 74, 75, 76, 77, 78, 79, 80, 81, 82, 83, 84, 85, 86, 87, 88, 89, 90, 91, 92, 93, 94, 95, 96, 97, 98, 99]\n"
     ]
    }
   ],
   "source": [
    "# create a list of ten numbers using list comprehension\n",
    "nums = [x for x in range(100)] # generates a list from 0 up to 100\n",
    "print(nums)\n",
    "# another version\n",
    "# nums = []\n",
    "# for x in range(100):\n",
    "#     nums.append(x)"
   ]
  },
  {
   "cell_type": "markdown",
   "metadata": {},
   "source": [
    "### List Comprehension: If Statements"
   ]
  },
  {
   "cell_type": "code",
   "execution_count": 4,
   "metadata": {},
   "outputs": [
    {
     "name": "stdout",
     "output_type": "stream",
     "text": [
      "[0, 2, 4, 6, 8]\n"
     ]
    }
   ],
   "source": [
    "# Using if statement within list comprehension \n",
    "nums = [x for x in range(10) if x % 2 == 0] # generates a list of even numbers up to 10\n",
    "print(nums)\n",
    "#another version\n",
    "# nums = []\n",
    "# for x in range(10):\n",
    "#     if x % 2 == 0:\n",
    "#         nums.append(x) # we succeeded to reduce a four lines code to one line"
   ]
  },
  {
   "cell_type": "markdown",
   "metadata": {},
   "source": [
    "### List Comprehension: If-Else Statements"
   ]
  },
  {
   "cell_type": "code",
   "execution_count": 6,
   "metadata": {},
   "outputs": [
    {
     "name": "stdout",
     "output_type": "stream",
     "text": [
      "['even', 'odd', 'even', 'odd', 'even', 'odd', 'even', 'odd', 'even', 'odd']\n"
     ]
    }
   ],
   "source": [
    "# using if/else statement within list comprehension\n",
    "nums = ['even' if x % 2 == 0 else 'odd' for x in range(10)] # generate a list of even/odd string\n",
    "print(nums)\n",
    "# long version\n",
    "nums = []\n",
    "# for x in range(10):\n",
    "#     if x % 2 == 0:\n",
    "#         nums.append('Even')\n",
    "#     else:\n",
    "#         nums.append('odd') six lines reduce to one line"
   ]
  },
  {
   "cell_type": "markdown",
   "metadata": {},
   "source": [
    "### List comprehension with Variables\n",
    "- List comprehension is great at generating data from other list as well"
   ]
  },
  {
   "cell_type": "code",
   "execution_count": 8,
   "metadata": {},
   "outputs": [
    {
     "name": "stdout",
     "output_type": "stream",
     "text": [
      "[4, 16, 36, 64]\n"
     ]
    }
   ],
   "source": [
    "# creating a list of squared numbers from another list of numbers using list comprehension\n",
    "nums = [2, 4, 6, 8]\n",
    "squared_nums = [num**2 for num in nums] # creates a new list of squared numbers based on nums\n",
    "print(squared_nums)\n",
    "# long version\n",
    "# squared_nums = []\n",
    "# for num in nums:\n",
    "#     squared_nums.append(num**2) reduced three lines to one line"
   ]
  },
  {
   "cell_type": "markdown",
   "metadata": {},
   "source": [
    "### Dictionary Comprehension\n",
    "- The concept of list comprehension is not limited to list. Dictionary can also be used to effect the list comprehension"
   ]
  },
  {
   "cell_type": "code",
   "execution_count": 10,
   "metadata": {},
   "outputs": [
    {
     "name": "stdout",
     "output_type": "stream",
     "text": [
      "{0: 0, 2: 4, 4: 16, 6: 36, 8: 64}\n"
     ]
    }
   ],
   "source": [
    "# creating a dictionary of even numbers and square values using comprehension\n",
    "numbers = [x for x in range(10)]\n",
    "squares = { num: num**2 for num in numbers if num % 2 == 0}\n",
    "print(squares)"
   ]
  },
  {
   "cell_type": "code",
   "execution_count": 12,
   "metadata": {},
   "outputs": [
    {
     "name": "stdout",
     "output_type": "stream",
     "text": [
      "[53.6, 69.80000000000001, 59.0, 89.6]\n"
     ]
    }
   ],
   "source": [
    "degree = [12,21,15,32]\n",
    "fahrenheit = [celsus * (9/5) + 32 for celsus in degree]\n",
    "print(fahrenheit)"
   ]
  },
  {
   "cell_type": "code",
   "execution_count": 14,
   "metadata": {},
   "outputs": [
    {
     "name": "stdout",
     "output_type": "stream",
     "text": [
      "what is your number25\n",
      "[25, 50, 75, 100]\n"
     ]
    }
   ],
   "source": [
    "#exercise\n",
    "the_number = int(input('what is your number'))\n",
    "divisibles = [i for i in range(1,101) if i % the_number == 0]\n",
    "print(divisibles)"
   ]
  },
  {
   "cell_type": "markdown",
   "metadata": {},
   "source": [
    "# Tuesday: Lambda Functions"
   ]
  },
  {
   "cell_type": "markdown",
   "metadata": {},
   "source": [
    "### Lambda Functions\n",
    "- It's very similar to the concept of list comprehension, it's function written in one line. Also called anonymous functions\n",
    "- Lambda function are often simple function as complex function would be messy if written in lambda format"
   ]
  },
  {
   "cell_type": "markdown",
   "metadata": {},
   "source": [
    "### Lambda Function Syntax\n",
    "- `lambda` arguments:expression\n",
    "- always starts with the `lambda` key word followed by arguments then colon and on the right side of the colon comes the expression and what to be return "
   ]
  },
  {
   "cell_type": "code",
   "execution_count": 1,
   "metadata": {},
   "outputs": [],
   "source": [
    "### lambda argument:value_to_return if condition else value_to_return\n",
    "# lambda basicially use ternary operators on the right side of the colon"
   ]
  },
  {
   "cell_type": "markdown",
   "metadata": {},
   "source": [
    "### Using a Lambda\n",
    "- when using lambda without variable, the function should be in parenthesis"
   ]
  },
  {
   "cell_type": "code",
   "execution_count": 2,
   "metadata": {},
   "outputs": [
    {
     "data": {
      "text/plain": [
       "16"
      ]
     },
     "execution_count": 2,
     "metadata": {},
     "output_type": "execute_result"
    }
   ],
   "source": [
    "# using a almda to square a number\n",
    "(lambda x: x**2)(4) # takes in a 4 and returns the number squared"
   ]
  },
  {
   "cell_type": "code",
   "execution_count": 3,
   "metadata": {},
   "outputs": [
    {
     "data": {
      "text/plain": [
       "16"
      ]
     },
     "execution_count": 3,
     "metadata": {},
     "output_type": "execute_result"
    }
   ],
   "source": [
    "# the above lambda function can be written as normal function\n",
    "def square(n):\n",
    "    return n **2\n",
    "square(4)"
   ]
  },
  {
   "cell_type": "markdown",
   "metadata": {},
   "source": [
    "### Passing Multiple Arguments\n"
   ]
  },
  {
   "cell_type": "code",
   "execution_count": 4,
   "metadata": {},
   "outputs": [
    {
     "data": {
      "text/plain": [
       "50"
      ]
     },
     "execution_count": 4,
     "metadata": {},
     "output_type": "execute_result"
    }
   ],
   "source": [
    "# passing multiple arguments into a lambda\n",
    "(lambda x,y: x*y) (10,5)"
   ]
  },
  {
   "cell_type": "code",
   "execution_count": 5,
   "metadata": {},
   "outputs": [
    {
     "data": {
      "text/plain": [
       "50"
      ]
     },
     "execution_count": 5,
     "metadata": {},
     "output_type": "execute_result"
    }
   ],
   "source": [
    "# written in normal function\n",
    "def multi(x,y):\n",
    "    return x * y\n",
    "multi(10,5) # with lambda we saved a couples of lines to get the same results"
   ]
  },
  {
   "cell_type": "markdown",
   "metadata": {},
   "source": [
    "### Saving Lambda Functions\n",
    "- Lambda are called anonymous because they aren't name, they are use just once. but we can save a lambda to a variable and used it subsequently as we choose"
   ]
  },
  {
   "cell_type": "code",
   "execution_count": 6,
   "metadata": {},
   "outputs": [
    {
     "name": "stdout",
     "output_type": "stream",
     "text": [
      "<function <lambda> at 0x1079fd488>\n",
      "50\n"
     ]
    }
   ],
   "source": [
    "# saving a lambda function into a variable\n",
    "square = lambda x,y: x * y\n",
    "print(square)\n",
    "result = square(10,5) # the variable act as the function call and argument can be passed in\n",
    "print(result)"
   ]
  },
  {
   "cell_type": "markdown",
   "metadata": {},
   "source": [
    "### Conditional Statements\n",
    "- to write conditional statement in lambda formate,the `if` and `else` must be present as it must return something\n"
   ]
  },
  {
   "cell_type": "code",
   "execution_count": 7,
   "metadata": {},
   "outputs": [
    {
     "name": "stdout",
     "output_type": "stream",
     "text": [
      "10\n"
     ]
    }
   ],
   "source": [
    "#Using if/else statements within a lambda to return the greater number\n",
    "greater = lambda x,y: x if x > y else y\n",
    "result = greater(10,5)\n",
    "print(result)"
   ]
  },
  {
   "cell_type": "code",
   "execution_count": 8,
   "metadata": {},
   "outputs": [],
   "source": [
    "def greater(x,y):\n",
    "    if x > y:\n",
    "        return x\n",
    "    else:\n",
    "        return y\n",
    "result = greater(10,5) # with lambda we will save al these lines"
   ]
  },
  {
   "cell_type": "markdown",
   "metadata": {},
   "source": [
    "### Returning Lambda"
   ]
  },
  {
   "cell_type": "code",
   "execution_count": 10,
   "metadata": {},
   "outputs": [
    {
     "name": "stdout",
     "output_type": "stream",
     "text": [
      "10\n",
      "15\n"
     ]
    }
   ],
   "source": [
    "# returning a lambda function from another function\n",
    "def my_function(n):\n",
    "    return lambda x: x * n\n",
    "doubler = my_function(2) # return equivalent of lambda x:x*2\n",
    "print(doubler(5))\n",
    "tripler = my_function(3)\n",
    "print(tripler(5))"
   ]
  },
  {
   "cell_type": "code",
   "execution_count": 12,
   "metadata": {},
   "outputs": [
    {
     "data": {
      "text/plain": [
       "False"
      ]
     },
     "execution_count": 12,
     "metadata": {},
     "output_type": "execute_result"
    }
   ],
   "source": [
    "# exercise\n",
    "(lambda x: True if x > 50 else False) (30)"
   ]
  },
  {
   "cell_type": "markdown",
   "metadata": {},
   "source": [
    "# Wednesday: Map, Filter, and Reduce"
   ]
  },
  {
   "cell_type": "markdown",
   "metadata": {},
   "source": [
    "### Map, Filter, and Reduce\n",
    "- When you handle data some functions are critical\n",
    "- `Map`: This helps to iterate data as you modify the data\n",
    "- `Filter`: This helps to filter out unnecessary elements as you iterate the data\n",
    "- `Reduce`: This helps to condense the data"
   ]
  },
  {
   "cell_type": "markdown",
   "metadata": {},
   "source": [
    "### Map Without Lambdas\n",
    "- The map function takes in two arguments:the function to be applied on each element and the iterable data. It returns a map object which is an iterator\n"
   ]
  },
  {
   "cell_type": "code",
   "execution_count": 1,
   "metadata": {},
   "outputs": [
    {
     "name": "stdout",
     "output_type": "stream",
     "text": [
      "<map object at 0x108035860>\n",
      "[54.5, 56.480000000000004, 59.0, 48.56]\n"
     ]
    }
   ],
   "source": [
    "# Using the map function without lambdas\n",
    "def convertDeg(c):\n",
    "    return (9/5) * c + 32\n",
    "temps = [12.5, 13.6, 15, 9.2]\n",
    "converted_temps = map(convertDeg, temps) # returns map object\n",
    "print(converted_temps)\n",
    "converted_temps = list(converted_temps) # type convert map object into list of converted temps\n",
    "print(converted_temps)"
   ]
  },
  {
   "cell_type": "code",
   "execution_count": 3,
   "metadata": {},
   "outputs": [
    {
     "name": "stdout",
     "output_type": "stream",
     "text": [
      "54.5\n",
      "56.480000000000004\n",
      "59.0\n",
      "48.56\n"
     ]
    }
   ],
   "source": [
    "for item in temps:\n",
    "    print(convertDeg(item))"
   ]
  },
  {
   "cell_type": "markdown",
   "metadata": {},
   "source": [
    "### Map With Lambdas\n",
    "- we can write lambda function within the map function, instead of writing a separate named function."
   ]
  },
  {
   "cell_type": "code",
   "execution_count": 6,
   "metadata": {},
   "outputs": [
    {
     "name": "stdout",
     "output_type": "stream",
     "text": [
      "[54.5, 56.480000000000004, 59.0, 48.56]\n"
     ]
    }
   ],
   "source": [
    "# Using a map function with lambda\n",
    "temps = [12.5, 13.6, 15, 9.2]\n",
    "converted_temps = list(map(lambda c:(9/5) * c + 32, temps))  # type convert the map object right away\n",
    "print(converted_temps)"
   ]
  },
  {
   "cell_type": "code",
   "execution_count": 7,
   "metadata": {},
   "outputs": [],
   "source": [
    "# def convertDeg(degrees):\n",
    "#     converted = []\n",
    "#     for degree in degrees:\n",
    "#         result = (9/5) * degree + 32\n",
    "#         converted.append(result)\n",
    "#     return converted\n",
    "# temps = [12.5, 13.6, 15, 9.2]\n",
    "# converted_temps convertDeg(temps)\n",
    "# print(converted_temps) with map and lambda we reduce 8 lines codes to two lines"
   ]
  },
  {
   "cell_type": "markdown",
   "metadata": {},
   "source": [
    "### Filter Without Lambdas\n",
    "- The filter function iterate data collection and remove information/element you don't need\n",
    "- filter function return filter object\n"
   ]
  },
  {
   "cell_type": "code",
   "execution_count": 9,
   "metadata": {},
   "outputs": [
    {
     "name": "stdout",
     "output_type": "stream",
     "text": [
      "<filter object at 0x1080c00f0>\n",
      "[13.6, 15]\n"
     ]
    }
   ],
   "source": [
    "# Usingthe filter function without lambda function filter out temps below 55F\n",
    "def filterTemps(c):\n",
    "    converted = (9/5) * c + 32\n",
    "    return True if converted > 55 else False # Use ternary operator\n",
    "temps = [12.5, 13.6, 15, 9.2]\n",
    "filtered_temp = filter(filterTemps, temps) # returns filter object\n",
    "print(filtered_temp)\n",
    "filtered_temp = list(filtered_temp)\n",
    "print(filtered_temp)"
   ]
  },
  {
   "cell_type": "markdown",
   "metadata": {},
   "source": [
    "### Filter With Lambdas\n"
   ]
  },
  {
   "cell_type": "code",
   "execution_count": 10,
   "metadata": {},
   "outputs": [
    {
     "name": "stdout",
     "output_type": "stream",
     "text": [
      "[12.5, 9.2]\n"
     ]
    }
   ],
   "source": [
    "# using the filter function with lamda function filter out temps below 55F\n",
    "temps = [12.5, 13.6, 15, 9.2]\n",
    "filter_temps = list(filter(lambda c:True if (9/5) * c + 32 < 55 else False, temps))\n",
    "print(filter_temps)"
   ]
  },
  {
   "cell_type": "markdown",
   "metadata": {},
   "source": [
    "### Using Reduce\n",
    "-  unlike map and filter reduce can iterate over two element but return a condense results\n",
    "- The creator of the python language advised against the use of reduce function instead a for loop should be used.\n"
   ]
  },
  {
   "cell_type": "code",
   "execution_count": 12,
   "metadata": {},
   "outputs": [
    {
     "name": "stdout",
     "output_type": "stream",
     "text": [
      "24\n"
     ]
    }
   ],
   "source": [
    "# for information purposes this is how you use the reduce function\n",
    "from functools import reduce\n",
    "nums = [1, 2, 3, 4]\n",
    "result = reduce(lambda a, b : a * b, nums)\n",
    "print(result)"
   ]
  },
  {
   "cell_type": "code",
   "execution_count": 17,
   "metadata": {},
   "outputs": [],
   "source": [
    "# total = 0\n",
    "# for n in nums:\n",
    "#     total = total * n\n",
    "# print(total)"
   ]
  },
  {
   "cell_type": "code",
   "execution_count": 36,
   "metadata": {},
   "outputs": [
    {
     "name": "stdout",
     "output_type": "stream",
     "text": [
      "['RYAN', 'PAUL', 'KEVIN CONNORS']\n"
     ]
    }
   ],
   "source": [
    "# exercise\n",
    "names = ['  ryan', 'PAUL', 'kevin connors     ']\n",
    "clean_name = list(map(lambda x: x.strip().upper(), names))\n",
    "print(clean_name)"
   ]
  },
  {
   "cell_type": "code",
   "execution_count": 34,
   "metadata": {},
   "outputs": [
    {
     "name": "stdout",
     "output_type": "stream",
     "text": [
      "['RYAN', 'PAUL', 'KEVIN CONNORS']\n"
     ]
    }
   ],
   "source": [
    "cleany = []\n",
    "cleany2 = []\n",
    "for name in names:\n",
    "    cleany.append(name.strip())\n",
    "for i in cleany:\n",
    "    cleany2.append(i.upper())\n",
    "print(cleany2)\n",
    "        \n"
   ]
  },
  {
   "cell_type": "code",
   "execution_count": 40,
   "metadata": {},
   "outputs": [
    {
     "name": "stdout",
     "output_type": "stream",
     "text": [
      "['Frank', 'Ripal']\n"
     ]
    }
   ],
   "source": [
    "# exercise\n",
    "#filter out all the name that starts with letter a irrespective of caps\n",
    "namey = ['Amanda', 'Frank','abby', 'Ripal', 'Adam']\n",
    "cleary = list(filter(lambda c:False if c.upper()[0] == 'A' else True, namey))\n",
    "print(cleary)"
   ]
  },
  {
   "cell_type": "markdown",
   "metadata": {},
   "source": [
    "# Thursday: Recursive Function & Memoization"
   ]
  },
  {
   "cell_type": "markdown",
   "metadata": {},
   "source": [
    "### Recursive Function & Memoization\n",
    "- recursive function is a function that calls itself within its block one or more times. Memoization is the means of ensuring efficiency occasioned by massive use of memory space"
   ]
  },
  {
   "cell_type": "markdown",
   "metadata": {},
   "source": [
    "### Understanding Recursive Functions\n",
    "- All recursive function has a base and until the base is reached the sum operation does take effect e.g 5 + 5 * 4 + 5 * 4 * 3 + 5 * 4 * 3 * 2 + 5 * 4 * 3 * 2 * 1, the base is 1\n",
    "- factorial and fibonacci sequence are common example where the concept of recursive function comes to play. It is advice to use recursive function instead of the normal loop for readability and efficiency.\n"
   ]
  },
  {
   "cell_type": "markdown",
   "metadata": {},
   "source": [
    "### Writing a Factorial Function\n",
    "- Factorial are a result of a given number multiplied by all previous numbers until zero is reached"
   ]
  },
  {
   "cell_type": "code",
   "execution_count": 1,
   "metadata": {},
   "outputs": [
    {
     "name": "stdout",
     "output_type": "stream",
     "text": [
      "120\n"
     ]
    }
   ],
   "source": [
    "# writing a factorial using recursive functions\n",
    "def factorial(n):\n",
    "    # set your base\n",
    "    if n <= 1:\n",
    "        return 1\n",
    "    else:\n",
    "        return factorial(n - 1) * n\n",
    "print(factorial(5)) # the result of 5 * 4 * 3 * 2 * 1"
   ]
  },
  {
   "cell_type": "markdown",
   "metadata": {},
   "source": [
    "### The Fibonacci Sequence\n",
    "- This is where each number in the sequence is the sum of the previous two numbers\n",
    "- For recursive, Fibonacci sequence especially when the number is very large, the process tends to be slow and this is where the memoization or 'caching'"
   ]
  },
  {
   "cell_type": "code",
   "execution_count": 2,
   "metadata": {},
   "outputs": [
    {
     "name": "stdout",
     "output_type": "stream",
     "text": [
      "5\n"
     ]
    }
   ],
   "source": [
    "# writing the recursive fibonacci sequence\n",
    "def fib(n):\n",
    "    if n <= 1:\n",
    "        return n\n",
    "    else:\n",
    "        return fib(n - 1) + fib(n - 2)\n",
    "print(fib(5))"
   ]
  },
  {
   "cell_type": "markdown",
   "metadata": {},
   "source": [
    "### Using Memoization\n",
    "- In python the caching system is implemented with the use of dictionary as it is the fasted data collection data type"
   ]
  },
  {
   "cell_type": "code",
   "execution_count": 5,
   "metadata": {},
   "outputs": [
    {
     "name": "stdout",
     "output_type": "stream",
     "text": [
      "12586269025\n"
     ]
    }
   ],
   "source": [
    "# Using memoization with the fibonaci sequence\n",
    "cache = {} #used to cache values to be used later\n",
    "def fib(n):\n",
    "    if n in cache:\n",
    "        return cache[n] # return value stored in dictionary\n",
    "    result = 0\n",
    "    if n <= 1:\n",
    "        result = n\n",
    "    else:\n",
    "        result = fib(n - 1) + fib(n - 2)\n",
    "    cache[n] = result # save result into dictionary with n as the key\n",
    "    return result\n",
    "print(fib(50))"
   ]
  },
  {
   "cell_type": "markdown",
   "metadata": {},
   "source": [
    "### Using @LRU_CACHE\n",
    "- This is known as least Recently Used Cache. it performs like memoization but does it with less code.\n"
   ]
  },
  {
   "cell_type": "code",
   "execution_count": 6,
   "metadata": {},
   "outputs": [
    {
     "name": "stdout",
     "output_type": "stream",
     "text": [
      "12586269025\n"
     ]
    }
   ],
   "source": [
    "# using @lru_cache, python's default moization/caching technique\n",
    "from functools import lru_cache\n",
    "@lru_cache() # pythons built-in memoization \n",
    "def fib(n):\n",
    "    if n <= 1:\n",
    "        return n\n",
    "    else:\n",
    "        return fib(n - 1) + fib(n - 2)\n",
    "print(fib(50))"
   ]
  },
  {
   "cell_type": "markdown",
   "metadata": {},
   "source": [
    "# Friday: Writing a Binary Search"
   ]
  },
  {
   "cell_type": "markdown",
   "metadata": {},
   "source": [
    "### Friday Project: Writing a Binary Search"
   ]
  },
  {
   "cell_type": "code",
   "execution_count": 46,
   "metadata": {},
   "outputs": [
    {
     "name": "stdout",
     "output_type": "stream",
     "text": [
      "[2, 2, 4, 4, 11, 14, 15, 18, 20, 20]\n",
      "False\n"
     ]
    }
   ],
   "source": [
    "# setting up import and generating a list of random numbers to work with\n",
    "import random\n",
    "\n",
    "nums = [random.randint(0,20) for i in range(10)] # create a list of ten numbers between 0 and 20\n",
    "\n",
    "def binarySearch(alist, num):\n",
    "    # step 1: sort the list\n",
    "    alist.sort()\n",
    "    \n",
    "    # step 6: setup a loop to repeat step 2 through 6 until list is empty\n",
    "    while alist:\n",
    "        mid = len(alist) // 2\n",
    "        if alist[mid] == num:\n",
    "            return True\n",
    "        elif alist[mid] > num:\n",
    "            alist = alist[:mid]\n",
    "        elif alist[mid] < num:\n",
    "            alist = alist[mid + 1:]\n",
    "        \n",
    "        \n",
    "        # step 7: return False, if it makes it to this line it means the list was empty and num was not found\n",
    "            return False\n",
    "    \n",
    "#     # step 2: find the middle index\n",
    "#     mid = len(alist) // 2 # two slashes means floor division-round the the nearest whole num\n",
    "\n",
    "#     #step 3: check the value at middle index, if it is equal to num return true\n",
    "#     if alist[mid] == num:\n",
    "#         return True\n",
    "#     # step 4: check if value is greater, if so, cut off left half of lisr using slicing\n",
    "    \n",
    "#     elif alist[mid] > num:\n",
    "#         alist = alist[: mid]\n",
    "        \n",
    "#     # step 5: check if value is less, if so cut off left half of list using slicing\n",
    "#     elif alist[mid] < num:\n",
    "#         alist = alist[mid + 1:]\n",
    "#     print(alist)\n",
    "        \n",
    "print(sorted(nums))\n",
    "\n",
    "print(binarySearch(nums, 3))"
   ]
  },
  {
   "cell_type": "code",
   "execution_count": null,
   "metadata": {},
   "outputs": [],
   "source": []
  },
  {
   "cell_type": "code",
   "execution_count": null,
   "metadata": {},
   "outputs": [],
   "source": []
  }
 ],
 "metadata": {
  "kernelspec": {
   "display_name": "Python 3",
   "language": "python",
   "name": "python3"
  },
  "language_info": {
   "codemirror_mode": {
    "name": "ipython",
    "version": 3
   },
   "file_extension": ".py",
   "mimetype": "text/x-python",
   "name": "python",
   "nbconvert_exporter": "python",
   "pygments_lexer": "ipython3",
   "version": "3.6.8"
  }
 },
 "nbformat": 4,
 "nbformat_minor": 2
}
