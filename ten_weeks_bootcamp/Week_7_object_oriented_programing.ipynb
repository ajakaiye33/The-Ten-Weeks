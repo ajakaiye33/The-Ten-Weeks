{
 "cells": [
  {
   "cell_type": "markdown",
   "metadata": {},
   "source": [
    "# Monday : Creating and Instantiating a Class"
   ]
  },
  {
   "cell_type": "markdown",
   "metadata": {},
   "source": [
    "## What is an object?\n",
    "- classes are blueprints from which objects are created\n",
    "- From such a class different objects could be made\n",
    "\n",
    "## OOP Stages\n",
    "- Two stages are involve:\n",
    "    - `class definition`: like function definition, this stage is where you write the blueprint to be used when called\n",
    "    - `Instantiation`: This is the process of creating an object from the class definition. After an object is instantiated,it is known as `instance`\n",
    "\n",
    "## Creating A Class\n",
    "- The `class` key word is used like `def` in functions when a class is created\n",
    "- within the class, we can also establish `attributes` and `methods`"
   ]
  },
  {
   "cell_type": "code",
   "execution_count": 1,
   "metadata": {},
   "outputs": [],
   "source": [
    "# creating your first class\n",
    "class Car():\n",
    "    pass # simply using as a placeholder "
   ]
  },
  {
   "cell_type": "markdown",
   "metadata": {},
   "source": [
    "## Creating an Instance\n",
    "- Instance is a version of a class which is created by assigning essentially the name of a class followed by parentheses to a variable(object name)"
   ]
  },
  {
   "cell_type": "code",
   "execution_count": 2,
   "metadata": {},
   "outputs": [
    {
     "name": "stdout",
     "output_type": "stream",
     "text": [
      "<__main__.Car object at 0x10e7dc6d8>\n"
     ]
    }
   ],
   "source": [
    "# Instantiating an object from a class\n",
    "class Car(): # parent are optional here\n",
    "    pass\n",
    "ford = Car() # crreates an instance of the Car class and stores into the variable ford\n",
    "print(ford)"
   ]
  },
  {
   "cell_type": "markdown",
   "metadata": {},
   "source": [
    "## Creating Multiple Instances\n",
    "- different instances can be created from a class but each class should be assigned to a different variable"
   ]
  },
  {
   "cell_type": "code",
   "execution_count": 3,
   "metadata": {},
   "outputs": [
    {
     "name": "stdout",
     "output_type": "stream",
     "text": [
      "-9223372036571145142\n",
      "283630677\n"
     ]
    }
   ],
   "source": [
    "# instantiating multiple objects from the same class\n",
    "class Car():\n",
    "    pass\n",
    "ford = Car()\n",
    "subaru = Car() # creates another object from the car class\n",
    "print(hash(ford))\n",
    "print(hash(subaru)) # hash output a numerical representation of the location in memory for the variable"
   ]
  },
  {
   "cell_type": "code",
   "execution_count": 4,
   "metadata": {},
   "outputs": [
    {
     "name": "stdout",
     "output_type": "stream",
     "text": [
      "<__main__.Animal object at 0x10e7dc6d8>\n",
      "<__main__.Animal object at 0x10e7dc5c0>\n"
     ]
    }
   ],
   "source": [
    "# exercise\n",
    "class Animal():\n",
    "    pass\n",
    "lion = Animal()\n",
    "tiger = Animal()\n",
    "print(lion)\n",
    "print(tiger)"
   ]
  },
  {
   "cell_type": "code",
   "execution_count": 6,
   "metadata": {},
   "outputs": [
    {
     "name": "stdout",
     "output_type": "stream",
     "text": [
      "<__main__.Bus object at 0x10f8ec208>\n"
     ]
    }
   ],
   "source": [
    "class Bus:\n",
    "    pass\n",
    "schoo_bus = Bus()\n",
    "print(schoo_bus)"
   ]
  },
  {
   "cell_type": "code",
   "execution_count": null,
   "metadata": {},
   "outputs": [],
   "source": []
  }
 ],
 "metadata": {
  "kernelspec": {
   "display_name": "Python 3",
   "language": "python",
   "name": "python3"
  },
  "language_info": {
   "codemirror_mode": {
    "name": "ipython",
    "version": 3
   },
   "file_extension": ".py",
   "mimetype": "text/x-python",
   "name": "python",
   "nbconvert_exporter": "python",
   "pygments_lexer": "ipython3",
   "version": "3.6.8"
  }
 },
 "nbformat": 4,
 "nbformat_minor": 2
}
