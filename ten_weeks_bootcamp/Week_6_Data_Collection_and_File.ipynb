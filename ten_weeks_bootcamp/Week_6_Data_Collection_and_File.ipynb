{
 "cells": [
  {
   "cell_type": "markdown",
   "metadata": {},
   "source": [
    "# Monday"
   ]
  },
  {
   "cell_type": "markdown",
   "metadata": {},
   "source": [
    "## Dictionaries"
   ]
  },
  {
   "cell_type": "markdown",
   "metadata": {},
   "source": [
    "### What are dictionary?\n",
    "- It is an unordered collection of data stored in key-value pairs\n",
    "- Very useful for working with large data, mapped data, CSV file, API,sending and receiving data"
   ]
  },
  {
   "cell_type": "markdown",
   "metadata": {},
   "source": [
    "### Declaring A Dictionary\n",
    "- `{}` a dictionary is created by using open and closed curly bracket. The key-value pairs is defined within the curly bracket\n",
    "- keys can be defined with only string and numbers\n",
    "-  colon separate the key from the value\n",
    "- values can be any data or even another dictionary\n",
    "- `dict()`: we can also declare dictionary with dict()"
   ]
  },
  {
   "cell_type": "code",
   "execution_count": 2,
   "metadata": {},
   "outputs": [
    {
     "name": "stdout",
     "output_type": "stream",
     "text": [
      "{'name': 'Morty', 'age': 26}\n"
     ]
    }
   ],
   "source": [
    "# declaring a dictionary variable\n",
    "empty = {} # empty dictionary\n",
    "person = {'name':\"John Smith\"} # dictionary with one key/value pair\n",
    "\n",
    "customer = {\n",
    "        \"name\":\"Morty\",\n",
    "        \"age\":26\n",
    "}             # dictionary with two key/value pair\n",
    "print(customer)"
   ]
  },
  {
   "cell_type": "markdown",
   "metadata": {},
   "source": [
    "### Accessing Dictionary Information\n",
    "- data stored within a dictionary is accessed with the key of the respective values\n",
    "- just state the name of the dictionary followed by a bracket and inside the bracket goes the key of the value you wish to retrieve"
   ]
  },
  {
   "cell_type": "code",
   "execution_count": 3,
   "metadata": {},
   "outputs": [
    {
     "name": "stdout",
     "output_type": "stream",
     "text": [
      "John\n"
     ]
    }
   ],
   "source": [
    "# Accessing dictionary information through keys\n",
    "person = {\"name\":\"John\"}\n",
    "print(person['name']) # access information through the key"
   ]
  },
  {
   "cell_type": "markdown",
   "metadata": {},
   "source": [
    "### Using the Get Method\n",
    "- Another way of retrieving data from a dictionary is the get() method. However unlike the bracket method the get()method won't display error if the key you seek doesn't exist"
   ]
  },
  {
   "cell_type": "code",
   "execution_count": 5,
   "metadata": {},
   "outputs": [
    {
     "name": "stdout",
     "output_type": "stream",
     "text": [
      "John\n",
      "Age is not available\n"
     ]
    }
   ],
   "source": [
    "# using the get method to access dictionary information\n",
    "person = {'name':'John'}\n",
    "print(person.get('name')) # retrieves value of the name key as before\n",
    "print(person.get('age', 'Age is not available')) # get is a secure way to retrieve information"
   ]
  },
  {
   "cell_type": "markdown",
   "metadata": {},
   "source": [
    "### Dictionary with lists\n"
   ]
  },
  {
   "cell_type": "code",
   "execution_count": 8,
   "metadata": {},
   "outputs": [
    {
     "name": "stdout",
     "output_type": "stream",
     "text": [
      "baseball\n",
      "baseball\n",
      "football\n",
      "hockey\n",
      "soccer\n"
     ]
    }
   ],
   "source": [
    "# storing a list within a dictionary and accessing it\n",
    "data = {'sports': ['baseball', 'football', 'hockey', 'soccer']}\n",
    "print(data['sports'][0]) # will first access the key then the index\n",
    "for i in data['sports']:\n",
    "    print(i)"
   ]
  },
  {
   "cell_type": "code",
   "execution_count": 9,
   "metadata": {},
   "outputs": [
    {
     "ename": "ValueError",
     "evalue": "dictionary update sequence element #0 has length 8; 2 is required",
     "output_type": "error",
     "traceback": [
      "\u001b[0;31m---------------------------------------------------------------------------\u001b[0m",
      "\u001b[0;31mValueError\u001b[0m                                Traceback (most recent call last)",
      "\u001b[0;32m<ipython-input-9-a792a58b8ae6>\u001b[0m in \u001b[0;36m<module>\u001b[0;34m\u001b[0m\n\u001b[1;32m      1\u001b[0m \u001b[0;31m# improperly storing a list within a dictionary\u001b[0m\u001b[0;34m\u001b[0m\u001b[0;34m\u001b[0m\u001b[0;34m\u001b[0m\u001b[0m\n\u001b[1;32m      2\u001b[0m \u001b[0msports\u001b[0m \u001b[0;34m=\u001b[0m \u001b[0;34m[\u001b[0m\u001b[0;34m'baseball'\u001b[0m\u001b[0;34m,\u001b[0m \u001b[0;34m'football'\u001b[0m\u001b[0;34m,\u001b[0m\u001b[0;34m'hockey'\u001b[0m\u001b[0;34m,\u001b[0m \u001b[0;34m'soccer'\u001b[0m\u001b[0;34m]\u001b[0m\u001b[0;34m\u001b[0m\u001b[0;34m\u001b[0m\u001b[0m\n\u001b[0;32m----> 3\u001b[0;31m \u001b[0msports_dict\u001b[0m \u001b[0;34m=\u001b[0m \u001b[0mdict\u001b[0m\u001b[0;34m(\u001b[0m\u001b[0msports\u001b[0m\u001b[0;34m)\u001b[0m \u001b[0;31m# will produce error, no key\u001b[0m\u001b[0;34m\u001b[0m\u001b[0;34m\u001b[0m\u001b[0m\n\u001b[0m",
      "\u001b[0;31mValueError\u001b[0m: dictionary update sequence element #0 has length 8; 2 is required"
     ]
    }
   ],
   "source": [
    "# improperly storing a list within a dictionary\n",
    "sports = ['baseball', 'football','hockey', 'soccer']\n",
    "sports_dict = dict(sports) # will produce error, no key"
   ]
  },
  {
   "cell_type": "code",
   "execution_count": 10,
   "metadata": {},
   "outputs": [
    {
     "name": "stdout",
     "output_type": "stream",
     "text": [
      "{'sports': ['baseball', 'football', 'hockey', 'soccer']}\n"
     ]
    }
   ],
   "source": [
    "sports_dict = dict({'sports':sports})\n",
    "print(sports_dict)"
   ]
  },
  {
   "cell_type": "markdown",
   "metadata": {},
   "source": [
    "### List with Dictionaries\n",
    "- when a list is storing a dictionary you need to access that dictionary by the index first. Then you would have access to the dictionary which can be access with the key/value pairs"
   ]
  },
  {
   "cell_type": "code",
   "execution_count": 11,
   "metadata": {},
   "outputs": [
    {
     "name": "stdout",
     "output_type": "stream",
     "text": [
      "{'name': 'Kirsten'}\n",
      "Kirsten\n"
     ]
    }
   ],
   "source": [
    "# storing a dictionary within a list\n",
    "data = ['John', 'Denis',{'name':'Kirsten'}]\n",
    "print(data[2]) # the dictionary is in index 2\n",
    "print(data[2]['name']) # first access the index, then the key"
   ]
  },
  {
   "cell_type": "markdown",
   "metadata": {},
   "source": [
    "### Dictionaries with Dictionaries\n",
    "- You can use a dictionary as a key to store another dictionary as value\n"
   ]
  },
  {
   "cell_type": "code",
   "execution_count": 13,
   "metadata": {},
   "outputs": [
    {
     "name": "stdout",
     "output_type": "stream",
     "text": [
      "{'2018': 108, '2017': 93}\n",
      "108\n"
     ]
    }
   ],
   "source": [
    "# storing a dictionary withing a dictionary and accessing it\n",
    "data = {\n",
    "    'team': 'Boston Red Sox',\n",
    "    'wins': {'2018':108, '2017':93}\n",
    "}\n",
    "print(data['wins']) # will output the dictionary within the wins key\n",
    "print(data['wins']['2018']) # first access the wins key and then the next key"
   ]
  },
  {
   "cell_type": "code",
   "execution_count": 22,
   "metadata": {},
   "outputs": [
    {
     "name": "stdout",
     "output_type": "stream",
     "text": [
      "whats your name garry aloba\n",
      "whats your age? 23\n",
      "{'name': 'Garry Aloba', 'age': '23'}\n"
     ]
    }
   ],
   "source": [
    "# exercise\n",
    "# Ask the user for their name and age and then create a dictionary with those key value pairs.output the dictionary once created\n",
    "customer_details = {}\n",
    "user_name = input('whats your name ').title()\n",
    "user_age = input('whats your age? ')\n",
    "customer_details['name'] = user_name\n",
    "customer_details['age'] = user_age\n",
    "print(customer_details)\n",
    "\n",
    "\n"
   ]
  },
  {
   "cell_type": "code",
   "execution_count": 23,
   "metadata": {},
   "outputs": [
    {
     "name": "stdout",
     "output_type": "stream",
     "text": [
      "cheese\n",
      "sausage\n",
      "peppers\n"
     ]
    }
   ],
   "source": [
    "# exercise2\n",
    "#Accessing Ingredient\n",
    "pizza = {\n",
    "    'ingredients': ['cheese', 'sausage','peppers']\n",
    "}\n",
    "for i in pizza['ingredients']:\n",
    "    print(i)"
   ]
  },
  {
   "cell_type": "markdown",
   "metadata": {},
   "source": [
    "# Tuesday"
   ]
  },
  {
   "cell_type": "markdown",
   "metadata": {},
   "source": [
    "## Working with Dictionary"
   ]
  },
  {
   "cell_type": "markdown",
   "metadata": {},
   "source": [
    "### Adding new information\n",
    "- we add new key/value pair after declaring a dictionary\n"
   ]
  },
  {
   "cell_type": "code",
   "execution_count": 2,
   "metadata": {},
   "outputs": [
    {
     "name": "stdout",
     "output_type": "stream",
     "text": [
      "Year: 2018\t Color: Blue\n"
     ]
    }
   ],
   "source": [
    "#adding new key/value pairs to a dictionary\n",
    "car = {'year':2018}\n",
    "car['color'] = 'Blue'\n",
    "print(f\"Year: {car['year']}\\t Color: {car['color']}\")"
   ]
  },
  {
   "cell_type": "markdown",
   "metadata": {},
   "source": [
    "### Changing information\n",
    "- Takes the same procedure for adding new key/value pair, if the key exist it simply overwrites the previous value"
   ]
  },
  {
   "cell_type": "code",
   "execution_count": 3,
   "metadata": {},
   "outputs": [
    {
     "name": "stdout",
     "output_type": "stream",
     "text": [
      "Year:2018\t Color: Red\n"
     ]
    }
   ],
   "source": [
    "# updating a value for a key/value pair that already exist\n",
    "car = {'year':2018, 'color':'Blue'}\n",
    "car['color'] = 'Red'\n",
    "print(f\"Year:{car['year']}\\t Color: {car['color']}\")"
   ]
  },
  {
   "cell_type": "markdown",
   "metadata": {},
   "source": [
    "### Deleting Information\n",
    "- use the `del` function"
   ]
  },
  {
   "cell_type": "code",
   "execution_count": 4,
   "metadata": {},
   "outputs": [
    {
     "name": "stdout",
     "output_type": "stream",
     "text": [
      "{}\n"
     ]
    }
   ],
   "source": [
    "# deleting a key/value pair from a dictionary \n",
    "car = {'year': 2018}\n",
    "try:\n",
    "    del car['year']\n",
    "    print(car)\n",
    "except:\n",
    "    print('That key does not exist')"
   ]
  },
  {
   "cell_type": "markdown",
   "metadata": {},
   "source": [
    "### Looping A Dictionary\n",
    "- looping is done over the key/value in three ways:`items()`,`keys()`, `values()`"
   ]
  },
  {
   "cell_type": "markdown",
   "metadata": {},
   "source": [
    "#### Looping Only Keys\n",
    "- This is also the default way of looping dictionary. The keys() method is used when you want to loop through the keys of the dictionary\n"
   ]
  },
  {
   "cell_type": "code",
   "execution_count": 5,
   "metadata": {},
   "outputs": [
    {
     "name": "stdout",
     "output_type": "stream",
     "text": [
      "name\n",
      "John\n",
      "age\n",
      "26\n"
     ]
    }
   ],
   "source": [
    "# Looping over a dictionary via the keys\n",
    "person = {'name':'John','age':26}\n",
    "for key in person.keys():\n",
    "    print(key)\n",
    "    print(person[key]) # will output the value at the current key "
   ]
  },
  {
   "cell_type": "markdown",
   "metadata": {},
   "source": [
    "#### Looping Only Values\n",
    "- to access just the value when looping the values() method is used\n"
   ]
  },
  {
   "cell_type": "code",
   "execution_count": 6,
   "metadata": {},
   "outputs": [
    {
     "name": "stdout",
     "output_type": "stream",
     "text": [
      "John\n",
      "26\n"
     ]
    }
   ],
   "source": [
    "# looping over a dictionary via the values\n",
    "person = {'name':'John', 'age':26}\n",
    "for value in person.values():\n",
    "    print(value)"
   ]
  },
  {
   "cell_type": "markdown",
   "metadata": {},
   "source": [
    "#### Looping key-value pairs\n",
    "- when you need to access the keys and values of a dictionary while looping, you use the items() method"
   ]
  },
  {
   "cell_type": "code",
   "execution_count": 7,
   "metadata": {},
   "outputs": [
    {
     "name": "stdout",
     "output_type": "stream",
     "text": [
      "name:John\n",
      "age:26\n"
     ]
    }
   ],
   "source": [
    "# looping over a dictionary via the key/value pair\n",
    "person = {'name':'John', 'age':26}\n",
    "for key, value in person.items():\n",
    "    print(f\"{key}:{value}\")"
   ]
  },
  {
   "cell_type": "code",
   "execution_count": 9,
   "metadata": {},
   "outputs": [
    {
     "name": "stdout",
     "output_type": "stream",
     "text": [
      "what your name? hedgar ajakaiye\n",
      "whats your address? 590 david jemibewon street\n",
      "what your number9093456789\n",
      "name:Hedgar Ajakaiye\n",
      "address:590 David Jemibewon Street\n",
      "number:9093456789\n"
     ]
    }
   ],
   "source": [
    "#exercise\n",
    "details = {}\n",
    "user_name = input('what your name? ').title()\n",
    "user_address = input('whats your address? ').title()\n",
    "user_number = input('what your number')\n",
    "details['name'] = user_name\n",
    "details['address'] = user_address\n",
    "details['number'] = user_number\n",
    "for k,v in details.items():\n",
    "    print(f'{k}:{v}')"
   ]
  },
  {
   "cell_type": "markdown",
   "metadata": {},
   "source": [
    "# Wednesday"
   ]
  },
  {
   "cell_type": "markdown",
   "metadata": {},
   "source": [
    "## Tuple, Sets, Frozensets"
   ]
  },
  {
   "cell_type": "markdown",
   "metadata": {},
   "source": [
    "### What are Tuples\n",
    "- They are like lists but the difference is that tuples are immutable,once declared they cant be altered\n",
    "- Tuples like list are ordered collections\n",
    "### Declaring a Tuple\n",
    "- Unlike lists, Tuple are declared with parentheses `()`\n"
   ]
  },
  {
   "cell_type": "code",
   "execution_count": 3,
   "metadata": {},
   "outputs": [
    {
     "name": "stdout",
     "output_type": "stream",
     "text": [
      "<class 'tuple'> <class 'tuple'>\n"
     ]
    },
    {
     "ename": "TypeError",
     "evalue": "'tuple' object does not support item assignment",
     "output_type": "error",
     "traceback": [
      "\u001b[0;31m---------------------------------------------------------------------------\u001b[0m",
      "\u001b[0;31mTypeError\u001b[0m                                 Traceback (most recent call last)",
      "\u001b[0;32m<ipython-input-3-5cddcf554d2d>\u001b[0m in \u001b[0;36m<module>\u001b[0;34m\u001b[0m\n\u001b[1;32m      3\u001b[0m \u001b[0mt2\u001b[0m \u001b[0;34m=\u001b[0m \u001b[0;32mTrue\u001b[0m\u001b[0;34m,\u001b[0m \u001b[0;36m1\u001b[0m \u001b[0;31m# without parenthesis\u001b[0m\u001b[0;34m\u001b[0m\u001b[0;34m\u001b[0m\u001b[0m\n\u001b[1;32m      4\u001b[0m \u001b[0mprint\u001b[0m\u001b[0;34m(\u001b[0m\u001b[0mtype\u001b[0m\u001b[0;34m(\u001b[0m\u001b[0mt1\u001b[0m\u001b[0;34m)\u001b[0m\u001b[0;34m,\u001b[0m \u001b[0mtype\u001b[0m\u001b[0;34m(\u001b[0m\u001b[0mt2\u001b[0m\u001b[0;34m)\u001b[0m\u001b[0;34m)\u001b[0m \u001b[0;31m# bothare tuples\u001b[0m\u001b[0;34m\u001b[0m\u001b[0;34m\u001b[0m\u001b[0m\n\u001b[0;32m----> 5\u001b[0;31m \u001b[0mt1\u001b[0m\u001b[0;34m[\u001b[0m\u001b[0;36m0\u001b[0m\u001b[0;34m]\u001b[0m \u001b[0;34m=\u001b[0m \u001b[0;36m1\u001b[0m \u001b[0;31m# will crash, tuples are immutable once declared\u001b[0m\u001b[0;34m\u001b[0m\u001b[0;34m\u001b[0m\u001b[0m\n\u001b[0m",
      "\u001b[0;31mTypeError\u001b[0m: 'tuple' object does not support item assignment"
     ]
    }
   ],
   "source": [
    "# declaring a tuple\n",
    "t1 = ('hello', 2, 'hello') # with parenthesis\n",
    "t2 = True, 1 # without parenthesis\n",
    "print(type(t1), type(t2)) # bothare tuples\n",
    "t1[0] = 1 # will crash, tuples are immutable once declared\n"
   ]
  },
  {
   "cell_type": "markdown",
   "metadata": {},
   "source": [
    "### What are sets\n",
    "- sets are more like list and dictionary however the major difference is that list contain unique/non-duplicate values/elements\n",
    "- sets are unordered collection\n",
    "\n",
    "### Declaring sets\n",
    "- sets are declared in two ways\n",
    "    - By using the `set` keyword followed by parenthesis and enclosing brackets\n",
    "    - By using using curly bracket"
   ]
  },
  {
   "cell_type": "code",
   "execution_count": 5,
   "metadata": {},
   "outputs": [
    {
     "name": "stdout",
     "output_type": "stream",
     "text": [
      "<class 'set'> <class 'set'>\n",
      "{2, 3, 5}\n"
     ]
    }
   ],
   "source": [
    "# declaring set\n",
    "s1 = set([1,2,3,1]) # uses the set key word and square brackets\n",
    "s2 = {4,4,5} # uses curly brackets\n",
    "print(type(s1), type(s2))\n",
    "s1.add(5) # using add method to add new items to a set\n",
    "s1.remove(1) # using the remove method to get rid of the value 1\n",
    "print(s1)"
   ]
  },
  {
   "cell_type": "markdown",
   "metadata": {},
   "source": [
    "### What are Frozensets?\n",
    "- Essentially they are the combination of set and tuples\n",
    "- frozensets are immutable, unordered and unique\n",
    "- it is an ideal way of storing sensitive information like account numbers\n",
    "\n",
    "### declaring a frozensets\n",
    "- it is declared using the key word `frozenset` followed by parenthesis and enclosing brackets"
   ]
  },
  {
   "cell_type": "code",
   "execution_count": 6,
   "metadata": {},
   "outputs": [
    {
     "name": "stdout",
     "output_type": "stream",
     "text": [
      "<class 'frozenset'>\n"
     ]
    }
   ],
   "source": [
    "# declaring A frozenset\n",
    "fset = frozenset([1,2,3,4])\n",
    "print(type(fset))"
   ]
  },
  {
   "cell_type": "code",
   "execution_count": 10,
   "metadata": {},
   "outputs": [
    {
     "name": "stdout",
     "output_type": "stream",
     "text": [
      "enter account number 23459032\n",
      "enter account number 21349087\n",
      "enter account number 209865210\n",
      "enter account number 342190843\n",
      "enter account number quit\n",
      "frozenset({'209865210', '342190843', '23459032', '21349087'})\n"
     ]
    }
   ],
   "source": [
    "#excercise\n",
    "acc_no = []\n",
    "while True:\n",
    "    get_numbers = input('enter account number ')\n",
    "    acc_no.append(get_numbers)\n",
    "    if get_numbers == 'quit':\n",
    "        break\n",
    "    safe_stoarge = frozenset(acc_no)\n",
    "print(safe_stoarge)"
   ]
  },
  {
   "cell_type": "code",
   "execution_count": 13,
   "metadata": {},
   "outputs": [
    {
     "name": "stdout",
     "output_type": "stream",
     "text": [
      "{10, 3, 4, 7}\n"
     ]
    }
   ],
   "source": [
    "nums = [3,4,3,7,10]\n",
    "unique_val = set(nums)\n",
    "print(unique_val)\n",
    "    "
   ]
  },
  {
   "cell_type": "code",
   "execution_count": null,
   "metadata": {},
   "outputs": [],
   "source": []
  }
 ],
 "metadata": {
  "kernelspec": {
   "display_name": "Python 3",
   "language": "python",
   "name": "python3"
  },
  "language_info": {
   "codemirror_mode": {
    "name": "ipython",
    "version": 3
   },
   "file_extension": ".py",
   "mimetype": "text/x-python",
   "name": "python",
   "nbconvert_exporter": "python",
   "pygments_lexer": "ipython3",
   "version": "3.6.8"
  }
 },
 "nbformat": 4,
 "nbformat_minor": 2
}
