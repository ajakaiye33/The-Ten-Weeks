{
 "cells": [
  {
   "cell_type": "markdown",
   "metadata": {},
   "source": [
    "# Monday: List Comprehension\n"
   ]
  },
  {
   "cell_type": "markdown",
   "metadata": {},
   "source": [
    "### List Comprehension\n",
    "- if anytime you wish to iterate through a list of data and append them to an empty list, you would be required to write code than is at least three lines. \n",
    "- With `list comprehension` one is able to iterate and append same to a list in just a a single line of code"
   ]
  },
  {
   "cell_type": "markdown",
   "metadata": {},
   "source": [
    "### List Comprehension Syntax\n",
    "- How list comprehension is written depend on what you wish to solve"
   ]
  },
  {
   "cell_type": "code",
   "execution_count": 1,
   "metadata": {},
   "outputs": [],
   "source": [
    "#result = [transform, iteration, filter]\n",
    "\n",
    "## syntax to populate a list\n",
    "#name_of_list = [item_to_append for item in list]\n",
    "\n",
    "## The sybtax when you want to include if statement\n",
    "#name_of_list = [item_to_append for item in list if condition]\n",
    "\n",
    "## The syntax when you wish to include an else consition\n",
    "#name_of_list = [item_to_append if condition else item_to_append for item in list]"
   ]
  },
  {
   "cell_type": "markdown",
   "metadata": {},
   "source": [
    "### Generating a list of Numbers"
   ]
  },
  {
   "cell_type": "code",
   "execution_count": 2,
   "metadata": {},
   "outputs": [
    {
     "name": "stdout",
     "output_type": "stream",
     "text": [
      "[0, 1, 2, 3, 4, 5, 6, 7, 8, 9, 10, 11, 12, 13, 14, 15, 16, 17, 18, 19, 20, 21, 22, 23, 24, 25, 26, 27, 28, 29, 30, 31, 32, 33, 34, 35, 36, 37, 38, 39, 40, 41, 42, 43, 44, 45, 46, 47, 48, 49, 50, 51, 52, 53, 54, 55, 56, 57, 58, 59, 60, 61, 62, 63, 64, 65, 66, 67, 68, 69, 70, 71, 72, 73, 74, 75, 76, 77, 78, 79, 80, 81, 82, 83, 84, 85, 86, 87, 88, 89, 90, 91, 92, 93, 94, 95, 96, 97, 98, 99]\n"
     ]
    }
   ],
   "source": [
    "# create a list of ten numbers using list comprehension\n",
    "nums = [x for x in range(100)] # generates a list from 0 up to 100\n",
    "print(nums)\n",
    "# another version\n",
    "# nums = []\n",
    "# for x in range(100):\n",
    "#     nums.append(x)"
   ]
  },
  {
   "cell_type": "markdown",
   "metadata": {},
   "source": [
    "### List Comprehension: If Statements"
   ]
  },
  {
   "cell_type": "code",
   "execution_count": 4,
   "metadata": {},
   "outputs": [
    {
     "name": "stdout",
     "output_type": "stream",
     "text": [
      "[0, 2, 4, 6, 8]\n"
     ]
    }
   ],
   "source": [
    "# Using if statement within list comprehension \n",
    "nums = [x for x in range(10) if x % 2 == 0] # generates a list of even numbers up to 10\n",
    "print(nums)\n",
    "#another version\n",
    "# nums = []\n",
    "# for x in range(10):\n",
    "#     if x % 2 == 0:\n",
    "#         nums.append(x) # we succeeded to reduce a four lines code to one line"
   ]
  },
  {
   "cell_type": "markdown",
   "metadata": {},
   "source": [
    "### List Comprehension: If-Else Statements"
   ]
  },
  {
   "cell_type": "code",
   "execution_count": 6,
   "metadata": {},
   "outputs": [
    {
     "name": "stdout",
     "output_type": "stream",
     "text": [
      "['even', 'odd', 'even', 'odd', 'even', 'odd', 'even', 'odd', 'even', 'odd']\n"
     ]
    }
   ],
   "source": [
    "# using if/else statement within list comprehension\n",
    "nums = ['even' if x % 2 == 0 else 'odd' for x in range(10)] # generate a list of even/odd string\n",
    "print(nums)\n",
    "# long version\n",
    "nums = []\n",
    "# for x in range(10):\n",
    "#     if x % 2 == 0:\n",
    "#         nums.append('Even')\n",
    "#     else:\n",
    "#         nums.append('odd') six lines reduce to one line"
   ]
  },
  {
   "cell_type": "markdown",
   "metadata": {},
   "source": [
    "### List comprehension with Variables\n",
    "- List comprehension is great at generating data from other list as well"
   ]
  },
  {
   "cell_type": "code",
   "execution_count": 8,
   "metadata": {},
   "outputs": [
    {
     "name": "stdout",
     "output_type": "stream",
     "text": [
      "[4, 16, 36, 64]\n"
     ]
    }
   ],
   "source": [
    "# creating a list of squared numbers from another list of numbers using list comprehension\n",
    "nums = [2, 4, 6, 8]\n",
    "squared_nums = [num**2 for num in nums] # creates a new list of squared numbers based on nums\n",
    "print(squared_nums)\n",
    "# long version\n",
    "# squared_nums = []\n",
    "# for num in nums:\n",
    "#     squared_nums.append(num**2) reduced three lines to one line"
   ]
  },
  {
   "cell_type": "markdown",
   "metadata": {},
   "source": [
    "### Dictionary Comprehension\n",
    "- The concept of list comprehension is not limited to list. Dictionary can also be used to effect the list comprehension"
   ]
  },
  {
   "cell_type": "code",
   "execution_count": 10,
   "metadata": {},
   "outputs": [
    {
     "name": "stdout",
     "output_type": "stream",
     "text": [
      "{0: 0, 2: 4, 4: 16, 6: 36, 8: 64}\n"
     ]
    }
   ],
   "source": [
    "# creating a dictionary of even numbers and square values using comprehension\n",
    "numbers = [x for x in range(10)]\n",
    "squares = { num: num**2 for num in numbers if num % 2 == 0}\n",
    "print(squares)"
   ]
  },
  {
   "cell_type": "code",
   "execution_count": 12,
   "metadata": {},
   "outputs": [
    {
     "name": "stdout",
     "output_type": "stream",
     "text": [
      "[53.6, 69.80000000000001, 59.0, 89.6]\n"
     ]
    }
   ],
   "source": [
    "degree = [12,21,15,32]\n",
    "fahrenheit = [celsus * (9/5) + 32 for celsus in degree]\n",
    "print(fahrenheit)"
   ]
  },
  {
   "cell_type": "code",
   "execution_count": 14,
   "metadata": {},
   "outputs": [
    {
     "name": "stdout",
     "output_type": "stream",
     "text": [
      "what is your number25\n",
      "[25, 50, 75, 100]\n"
     ]
    }
   ],
   "source": [
    "#exercise\n",
    "the_number = int(input('what is your number'))\n",
    "divisibles = [i for i in range(1,101) if i % the_number == 0]\n",
    "print(divisibles)"
   ]
  },
  {
   "cell_type": "markdown",
   "metadata": {},
   "source": [
    "# Tuesday: Lambda Functions"
   ]
  },
  {
   "cell_type": "markdown",
   "metadata": {},
   "source": [
    "### Lambda Functions\n",
    "- It's very similar to the concept of list comprehension, it's function written in one line. Also called anonymous functions\n",
    "- Lambda function are often simple function as complex function would be messy if written in lambda format"
   ]
  },
  {
   "cell_type": "markdown",
   "metadata": {},
   "source": [
    "### Lambda Function Syntax\n",
    "- `lambda` arguments:expression\n",
    "- always starts with the `lambda` key word followed by arguments then colon and on the right side of the colon comes the expression and what to be return "
   ]
  },
  {
   "cell_type": "code",
   "execution_count": 1,
   "metadata": {},
   "outputs": [],
   "source": [
    "### lambda argument:value_to_return if condition else value_to_return\n",
    "# lambda basicially use ternary operators on the right side of the colon"
   ]
  },
  {
   "cell_type": "markdown",
   "metadata": {},
   "source": [
    "### Using a Lambda\n",
    "- when using lambda without variable, the function should be in parenthesis"
   ]
  },
  {
   "cell_type": "code",
   "execution_count": 2,
   "metadata": {},
   "outputs": [
    {
     "data": {
      "text/plain": [
       "16"
      ]
     },
     "execution_count": 2,
     "metadata": {},
     "output_type": "execute_result"
    }
   ],
   "source": [
    "# using a almda to square a number\n",
    "(lambda x: x**2)(4) # takes in a 4 and returns the number squared"
   ]
  },
  {
   "cell_type": "code",
   "execution_count": 3,
   "metadata": {},
   "outputs": [
    {
     "data": {
      "text/plain": [
       "16"
      ]
     },
     "execution_count": 3,
     "metadata": {},
     "output_type": "execute_result"
    }
   ],
   "source": [
    "# the above lambda function can be written as normal function\n",
    "def square(n):\n",
    "    return n **2\n",
    "square(4)"
   ]
  },
  {
   "cell_type": "markdown",
   "metadata": {},
   "source": [
    "### Passing Multiple Arguments\n"
   ]
  },
  {
   "cell_type": "code",
   "execution_count": 4,
   "metadata": {},
   "outputs": [
    {
     "data": {
      "text/plain": [
       "50"
      ]
     },
     "execution_count": 4,
     "metadata": {},
     "output_type": "execute_result"
    }
   ],
   "source": [
    "# passing multiple arguments into a lambda\n",
    "(lambda x,y: x*y) (10,5)"
   ]
  },
  {
   "cell_type": "code",
   "execution_count": 5,
   "metadata": {},
   "outputs": [
    {
     "data": {
      "text/plain": [
       "50"
      ]
     },
     "execution_count": 5,
     "metadata": {},
     "output_type": "execute_result"
    }
   ],
   "source": [
    "# written in normal function\n",
    "def multi(x,y):\n",
    "    return x * y\n",
    "multi(10,5) # with lambda we saved a couples of lines to get the same results"
   ]
  },
  {
   "cell_type": "markdown",
   "metadata": {},
   "source": [
    "### Saving Lambda Functions\n",
    "- Lambda are called anonymous because they aren't name, they are use just once. but we can save a lambda to a variable and used it subsequently as we choose"
   ]
  },
  {
   "cell_type": "code",
   "execution_count": 6,
   "metadata": {},
   "outputs": [
    {
     "name": "stdout",
     "output_type": "stream",
     "text": [
      "<function <lambda> at 0x1079fd488>\n",
      "50\n"
     ]
    }
   ],
   "source": [
    "# saving a lambda function into a variable\n",
    "square = lambda x,y: x * y\n",
    "print(square)\n",
    "result = square(10,5) # the variable act as the function call and argument can be passed in\n",
    "print(result)"
   ]
  },
  {
   "cell_type": "markdown",
   "metadata": {},
   "source": [
    "### Conditional Statements\n",
    "- to write conditional statement in lambda formate,the `if` and `else` must be present as it must return something\n"
   ]
  },
  {
   "cell_type": "code",
   "execution_count": 7,
   "metadata": {},
   "outputs": [
    {
     "name": "stdout",
     "output_type": "stream",
     "text": [
      "10\n"
     ]
    }
   ],
   "source": [
    "#Using if/else statements within a lambda to return the greater number\n",
    "greater = lambda x,y: x if x > y else y\n",
    "result = greater(10,5)\n",
    "print(result)"
   ]
  },
  {
   "cell_type": "code",
   "execution_count": 8,
   "metadata": {},
   "outputs": [],
   "source": [
    "def greater(x,y):\n",
    "    if x > y:\n",
    "        return x\n",
    "    else:\n",
    "        return y\n",
    "result = greater(10,5) # with lambda we will save al these lines"
   ]
  },
  {
   "cell_type": "markdown",
   "metadata": {},
   "source": [
    "### Returning Lambda"
   ]
  },
  {
   "cell_type": "code",
   "execution_count": 10,
   "metadata": {},
   "outputs": [
    {
     "name": "stdout",
     "output_type": "stream",
     "text": [
      "10\n",
      "15\n"
     ]
    }
   ],
   "source": [
    "# returning a lambda function from another function\n",
    "def my_function(n):\n",
    "    return lambda x: x * n\n",
    "doubler = my_function(2) # return equivalent of lambda x:x*2\n",
    "print(doubler(5))\n",
    "tripler = my_function(3)\n",
    "print(tripler(5))"
   ]
  },
  {
   "cell_type": "code",
   "execution_count": 12,
   "metadata": {},
   "outputs": [
    {
     "data": {
      "text/plain": [
       "False"
      ]
     },
     "execution_count": 12,
     "metadata": {},
     "output_type": "execute_result"
    }
   ],
   "source": [
    "# exercise\n",
    "(lambda x: True if x > 50 else False) (30)"
   ]
  },
  {
   "cell_type": "code",
   "execution_count": null,
   "metadata": {},
   "outputs": [],
   "source": []
  }
 ],
 "metadata": {
  "kernelspec": {
   "display_name": "Python 3",
   "language": "python",
   "name": "python3"
  },
  "language_info": {
   "codemirror_mode": {
    "name": "ipython",
    "version": 3
   },
   "file_extension": ".py",
   "mimetype": "text/x-python",
   "name": "python",
   "nbconvert_exporter": "python",
   "pygments_lexer": "ipython3",
   "version": "3.6.8"
  }
 },
 "nbformat": 4,
 "nbformat_minor": 2
}
