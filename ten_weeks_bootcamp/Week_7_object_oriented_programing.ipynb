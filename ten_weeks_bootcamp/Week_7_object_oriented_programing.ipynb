{
 "cells": [
  {
   "cell_type": "markdown",
   "metadata": {},
   "source": [
    "# Monday : Creating and Instantiating a Class"
   ]
  },
  {
   "cell_type": "markdown",
   "metadata": {},
   "source": [
    "## What is an object?\n",
    "- classes are blueprints from which objects are created\n",
    "- From such a class different objects could be made\n",
    "\n",
    "## OOP Stages\n",
    "- Two stages are involve:\n",
    "    - `class definition`: like function definition, this stage is where you write the blueprint to be used when called\n",
    "    - `Instantiation`: This is the process of creating an object from the class definition. After an object is instantiated,it is known as `instance`\n",
    "\n",
    "## Creating A Class\n",
    "- The `class` key word is used like `def` in functions when a class is created\n",
    "- within the class, we can also establish `attributes` and `methods`"
   ]
  },
  {
   "cell_type": "code",
   "execution_count": 1,
   "metadata": {},
   "outputs": [],
   "source": [
    "# creating your first class\n",
    "class Car():\n",
    "    pass # simply using as a placeholder "
   ]
  },
  {
   "cell_type": "markdown",
   "metadata": {},
   "source": [
    "## Creating an Instance\n",
    "- Instance is a version of a class which is created by assigning essentially the name of a class followed by parentheses to a variable(object name)"
   ]
  },
  {
   "cell_type": "code",
   "execution_count": 2,
   "metadata": {},
   "outputs": [
    {
     "name": "stdout",
     "output_type": "stream",
     "text": [
      "<__main__.Car object at 0x10e7dc6d8>\n"
     ]
    }
   ],
   "source": [
    "# Instantiating an object from a class\n",
    "class Car(): # parent are optional here\n",
    "    pass\n",
    "ford = Car() # crreates an instance of the Car class and stores into the variable ford\n",
    "print(ford)"
   ]
  },
  {
   "cell_type": "markdown",
   "metadata": {},
   "source": [
    "## Creating Multiple Instances\n",
    "- different instances can be created from a class but each class should be assigned to a different variable"
   ]
  },
  {
   "cell_type": "code",
   "execution_count": 3,
   "metadata": {},
   "outputs": [
    {
     "name": "stdout",
     "output_type": "stream",
     "text": [
      "-9223372036571145142\n",
      "283630677\n"
     ]
    }
   ],
   "source": [
    "# instantiating multiple objects from the same class\n",
    "class Car():\n",
    "    pass\n",
    "ford = Car()\n",
    "subaru = Car() # creates another object from the car class\n",
    "print(hash(ford))\n",
    "print(hash(subaru)) # hash output a numerical representation of the location in memory for the variable"
   ]
  },
  {
   "cell_type": "code",
   "execution_count": 4,
   "metadata": {},
   "outputs": [
    {
     "name": "stdout",
     "output_type": "stream",
     "text": [
      "<__main__.Animal object at 0x10e7dc6d8>\n",
      "<__main__.Animal object at 0x10e7dc5c0>\n"
     ]
    }
   ],
   "source": [
    "# exercise\n",
    "class Animal():\n",
    "    pass\n",
    "lion = Animal()\n",
    "tiger = Animal()\n",
    "print(lion)\n",
    "print(tiger)"
   ]
  },
  {
   "cell_type": "code",
   "execution_count": 6,
   "metadata": {},
   "outputs": [
    {
     "name": "stdout",
     "output_type": "stream",
     "text": [
      "<__main__.Bus object at 0x10f8ec208>\n"
     ]
    }
   ],
   "source": [
    "class Bus:\n",
    "    pass\n",
    "schoo_bus = Bus()\n",
    "print(schoo_bus)"
   ]
  },
  {
   "cell_type": "markdown",
   "metadata": {},
   "source": [
    "# Tuesday: Attributes\n",
    "- attributes are essentially variables defined within the class. It is a source of information for an object\n"
   ]
  },
  {
   "cell_type": "markdown",
   "metadata": {},
   "source": [
    "### Declaring and accessing attributes\n",
    "- similar to variables, attributes are declared with a name and value but unlike variable they are declared within a class. To have access to the attribute an instance has to be created"
   ]
  },
  {
   "cell_type": "code",
   "execution_count": 1,
   "metadata": {},
   "outputs": [
    {
     "name": "stdout",
     "output_type": "stream",
     "text": [
      "red\n"
     ]
    }
   ],
   "source": [
    "# How to define a class attribute\n",
    "class Car():\n",
    "    sound = 'beep' # all car object will have this sound attribute and its value\n",
    "    color = 'red' # all car objects will have this color attribute and its value\n",
    "ford = Car()\n",
    "print(ford.color) # known as 'dot syntax'"
   ]
  },
  {
   "cell_type": "markdown",
   "metadata": {},
   "source": [
    "### Changing an Instance Attributes\n",
    "- an attribute may be change with the aid of the dot syntax"
   ]
  },
  {
   "cell_type": "code",
   "execution_count": 2,
   "metadata": {},
   "outputs": [
    {
     "name": "stdout",
     "output_type": "stream",
     "text": [
      "beep\n",
      "honk\n"
     ]
    }
   ],
   "source": [
    "# changing the value of an attribute\n",
    "class Car():\n",
    "    sound = 'beep'\n",
    "    color = 'red'\n",
    "ford = Car()\n",
    "print(ford.sound) # will outpu 'beep'\n",
    "ford.sound = 'honk' # from now on the value of fords sound is honk, this doesn't affect other instances\n",
    "print(ford.sound)"
   ]
  },
  {
   "cell_type": "markdown",
   "metadata": {},
   "source": [
    "### Using The __init__() Method\n",
    "- with the special init method,which is prefix and suffix with double underscores ensure personalized properties of instances"
   ]
  },
  {
   "cell_type": "code",
   "execution_count": 3,
   "metadata": {},
   "outputs": [
    {
     "name": "stdout",
     "output_type": "stream",
     "text": [
      "blue\n"
     ]
    }
   ],
   "source": [
    "# Using the init method to give instances personalized attributes upon creation\n",
    "class Car():\n",
    "    def __init__(self,color):\n",
    "        self.color = color # sets the attributes color to the value passed in\n",
    "ford = Car('blue') # instantiating a car class with the color blue\n",
    "print(ford.color)"
   ]
  },
  {
   "cell_type": "markdown",
   "metadata": {},
   "source": [
    "### The 'Self' Keyword\n",
    "- The `self` key word is a reference to the current instance of the class and is used to access variable and methods associated with that instance\n"
   ]
  },
  {
   "cell_type": "markdown",
   "metadata": {},
   "source": [
    "### Instantiating Multiple Objects with __init__()"
   ]
  },
  {
   "cell_type": "code",
   "execution_count": 4,
   "metadata": {},
   "outputs": [
    {
     "name": "stdout",
     "output_type": "stream",
     "text": [
      "blue 2016\n",
      "red 2018\n"
     ]
    }
   ],
   "source": [
    "# defining different values for multiple instances \n",
    "class Car():\n",
    "    def __init__(self, color,year):\n",
    "        self.color = color # set the attribute color to the value passed \n",
    "        self.year = year\n",
    "ford = Car('blue', 2016) # create a car object with the color blue and year 2016\n",
    "subaru = Car('red', 2018) # create a car object with the color red and year 2018\n",
    "print(ford.color, ford.year)\n",
    "print(subaru.color, subaru.year)"
   ]
  },
  {
   "cell_type": "markdown",
   "metadata": {},
   "source": [
    "### Global Attributes Vs Instance Attributes\n",
    "- when an attribute is declared withing the init method, it is `instance attribute`and can be accessed by the but when declared outside the init method it is called `global attributes`"
   ]
  },
  {
   "cell_type": "code",
   "execution_count": 5,
   "metadata": {},
   "outputs": [
    {
     "name": "stdout",
     "output_type": "stream",
     "text": [
      "beep\n",
      "beep blue\n"
     ]
    }
   ],
   "source": [
    "# using and accessing global class attributes\n",
    "class Car():\n",
    "    sound = 'beep' # global attribute, accessing through the class itself\n",
    "    def __init__(self, color):\n",
    "        self.color = 'blue' # instance specific attributes, not accessible through the class itself\n",
    "print(Car.sound)\n",
    "# print(Car.color) won't work as color is only available to instances of the Car class, not the class itself\n",
    "ford = Car('blue')\n",
    "print(ford.sound, ford.color) # color will work as this is an instance\n",
    "        "
   ]
  },
  {
   "cell_type": "code",
   "execution_count": 10,
   "metadata": {},
   "outputs": [
    {
     "name": "stdout",
     "output_type": "stream",
     "text": [
      "Sammi\n",
      "Husky\n",
      "Canine\n",
      "My first neigbour dog name is Casey and it is of the Chocolate lab bread and a species of Canine\n"
     ]
    }
   ],
   "source": [
    "# excercises\n",
    "class Dog:\n",
    "    species = 'Canine'\n",
    "    def __init__(self,name, breed):\n",
    "        self.name = name\n",
    "        self.breed = breed\n",
    "dog1 = Dog('Sammi','Husky')\n",
    "print(dog1.name)\n",
    "print(dog1.breed)\n",
    "print(dog1.species)\n",
    "dog2 = Dog('Casey', 'Chocolate lab')\n",
    "print(f'My first neigbour dog name is {dog2.name} and it is of the {dog2.breed} bread and a species of {dog1.species}')\n",
    "#print()\n",
    "#print(dog2.species)"
   ]
  },
  {
   "cell_type": "code",
   "execution_count": 15,
   "metadata": {},
   "outputs": [
    {
     "name": "stdout",
     "output_type": "stream",
     "text": [
      "what your name?Harry\n",
      "Harry\n"
     ]
    }
   ],
   "source": [
    "class Person:\n",
    "    def __init__(self, get_name):\n",
    "        self.get_name = input('what your name?')\n",
    "person1 = Person('get_name')\n",
    "print(person1.get_name)\n",
    "    "
   ]
  },
  {
   "cell_type": "markdown",
   "metadata": {},
   "source": [
    "# Wednesday:Methods\n",
    "- methods represent the action or the verb of the construct. Its basically functions within classes\n"
   ]
  },
  {
   "cell_type": "markdown",
   "metadata": {},
   "source": [
    "### Defining & Calling A Method\n",
    "- Methods are basically functions but defined within the class indentation block. \n",
    "- For method that would be accessed through instances, they must be defined with the key word `self` otherwise they may only be accessed through the class"
   ]
  },
  {
   "cell_type": "code",
   "execution_count": 2,
   "metadata": {},
   "outputs": [
    {
     "name": "stdout",
     "output_type": "stream",
     "text": [
      "bark\n"
     ]
    }
   ],
   "source": [
    "# defining and calling our firdt class method\n",
    "class Dog():\n",
    "    def makeSound(self):\n",
    "        print('bark')\n",
    "sam = Dog()\n",
    "sam.makeSound()"
   ]
  },
  {
   "cell_type": "markdown",
   "metadata": {},
   "source": [
    "### Accessing class attributes in methods\n",
    "- Method can access the attributes declared above with the self key word"
   ]
  },
  {
   "cell_type": "code",
   "execution_count": 3,
   "metadata": {},
   "outputs": [
    {
     "name": "stdout",
     "output_type": "stream",
     "text": [
      "bark\n"
     ]
    }
   ],
   "source": [
    "# using the self keyword to acces attributes within class methods\n",
    "class Dog():\n",
    "    sound = 'bark'\n",
    "    def makeSound(self):\n",
    "        print(self.sound) # self required to acces attribute defined in the class\n",
    "sam = Dog()\n",
    "sam.makeSound()"
   ]
  },
  {
   "cell_type": "markdown",
   "metadata": {},
   "source": [
    "### Method Scope\n",
    "- This is when an item of a method is only accessible through the class itself and not the instance of the class.\n",
    "- Its also called `static method`. They aren't accessible by instances of the class"
   ]
  },
  {
   "cell_type": "code",
   "execution_count": 4,
   "metadata": {},
   "outputs": [
    {
     "name": "stdout",
     "output_type": "stream",
     "text": [
      "I am a dog\n",
      "bark\n"
     ]
    }
   ],
   "source": [
    "# understanding which methods are accessible via the class itself and class instance\n",
    "class Dog():\n",
    "    sound = 'bark'\n",
    "    def makeSound(self):\n",
    "        print(self.sound)\n",
    "    def printInfo():\n",
    "        print('I am a dog')\n",
    "Dog.printInfo() # able to run printInfo method becasue it does not include self parameter\n",
    "# Dog.makeSound() would produce an error becasue self is in reference to instance only\n",
    "sam = Dog()\n",
    "sam.makeSound() # able to access because self can access the instance of sam\n",
    "# sam.printinfo() will produce error because instance of sam cannot access printinfo method without the self key word"
   ]
  },
  {
   "cell_type": "markdown",
   "metadata": {},
   "source": [
    "### Passing Arguments into methods\n",
    "- functions within a class i.e method may pass argument however the parameter need not be prefixed with self as they aren't attribute but temporary variable available to the method"
   ]
  },
  {
   "cell_type": "code",
   "execution_count": 5,
   "metadata": {},
   "outputs": [
    {
     "name": "stdout",
     "output_type": "stream",
     "text": [
      "6\n"
     ]
    }
   ],
   "source": [
    "# writing methods that accept parameters\n",
    "class Dog():\n",
    "    def showAge(self, age):\n",
    "        print(age) # does not need self as age is referencing the parameter and not an sttribute\n",
    "sam = Dog()\n",
    "sam.showAge(6) # passing the integer 6 as an argument to the showage method"
   ]
  },
  {
   "cell_type": "markdown",
   "metadata": {},
   "source": [
    "### Using Setters and Getters\n",
    "- Basically encouraging the use of method to change(`setters`) and access(`getter`) class attributes rather than directly"
   ]
  },
  {
   "cell_type": "code",
   "execution_count": 6,
   "metadata": {},
   "outputs": [
    {
     "name": "stdout",
     "output_type": "stream",
     "text": [
      "Sammi\n"
     ]
    }
   ],
   "source": [
    "# using methods to set oor return attribute values, proper programming practice\n",
    "class Dog():\n",
    "    name = '' # for testing purpose\n",
    "    def setName(self, new_name):\n",
    "        self.name = new_name # declares the new value for the name attribute (changes it accordingly)\n",
    "    def getName(self):\n",
    "        return self.name # return the value of the name attribute\n",
    "sam = Dog()\n",
    "sam.setName('Sammi')\n",
    "print(sam.getName()) # prints the return value of self.name"
   ]
  },
  {
   "cell_type": "markdown",
   "metadata": {},
   "source": [
    "### Incrementing attributes with Methods\n",
    "- As a best practice use method should you intend to decrement or increment  class attributes\n"
   ]
  },
  {
   "cell_type": "code",
   "execution_count": 7,
   "metadata": {},
   "outputs": [
    {
     "name": "stdout",
     "output_type": "stream",
     "text": [
      "6\n"
     ]
    }
   ],
   "source": [
    "# Incrementing/decrementing attribute values with methods, best programming practice\n",
    "class Dog():\n",
    "    age = 5\n",
    "    def happyBirthday(self):\n",
    "        self.age += 1\n",
    "sam = Dog()\n",
    "sam.happyBirthday() # call method to increment value by one\n",
    "print(sam.age) # You are advised to use getters in this instance instead of directl accessing"
   ]
  },
  {
   "cell_type": "markdown",
   "metadata": {},
   "source": [
    "### Method Calling Methods\n",
    "- if you must call a method from another method you must use the self key word"
   ]
  },
  {
   "cell_type": "code",
   "execution_count": 8,
   "metadata": {},
   "outputs": [
    {
     "name": "stdout",
     "output_type": "stream",
     "text": [
      "Puppy\n"
     ]
    }
   ],
   "source": [
    "# calling a class method from another method\n",
    "class Dog():\n",
    "    age = 6\n",
    "    def getAge(self):\n",
    "        return self.age\n",
    "    def printInfo(self):\n",
    "        if self.getAge() < 10: # need self to call other method for an instance\n",
    "            print('Puppy')\n",
    "sam = Dog()\n",
    "sam.printInfo()"
   ]
  },
  {
   "cell_type": "markdown",
   "metadata": {},
   "source": [
    "### Magic Methods\n",
    "- Magic methods are critical in python\n",
    "- They are methods prefix and suffix with two underscore e.g __str__ magic method for printing\n",
    "- They are equally at play when we use the various operators (+, -, /,*,==)\n"
   ]
  },
  {
   "cell_type": "code",
   "execution_count": 9,
   "metadata": {},
   "outputs": [
    {
     "name": "stdout",
     "output_type": "stream",
     "text": [
      "This is a dog class\n"
     ]
    }
   ],
   "source": [
    "# using magic method\n",
    "class Dog():\n",
    "    def __str__(self):\n",
    "        return 'This is a dog class'\n",
    "sam = Dog()\n",
    "print(sam)"
   ]
  },
  {
   "cell_type": "code",
   "execution_count": 12,
   "metadata": {},
   "outputs": [
    {
     "name": "stdout",
     "output_type": "stream",
     "text": [
      "feline\n"
     ]
    }
   ],
   "source": [
    "# exercise\n",
    "class Animal:\n",
    "    def __init__(self):\n",
    "        species = ''\n",
    "    def getSpecies(self):\n",
    "        return self.species\n",
    "    def setSpaecies(self, thespecies):\n",
    "        self.species = thespecies\n",
    "lion = Animal()\n",
    "lion.setSpaecies('feline')\n",
    "print(lion.getSpecies())"
   ]
  },
  {
   "cell_type": "code",
   "execution_count": 25,
   "metadata": {},
   "outputs": [
    {
     "name": "stdout",
     "output_type": "stream",
     "text": [
      "what is your age?64\n"
     ]
    },
    {
     "data": {
      "text/plain": [
       "'Jaiye you are 64 years old'"
      ]
     },
     "execution_count": 25,
     "metadata": {},
     "output_type": "execute_result"
    }
   ],
   "source": [
    "class Person:\n",
    "    def __init__(self, name,age):\n",
    "        self.name = name\n",
    "        self.age = 0\n",
    "    def getAge(self):\n",
    "        self.age = int(input('what is your age?'))\n",
    "        return self.age\n",
    "    def setAge(self,new_age):\n",
    "        self.age = new_age\n",
    "        \n",
    "    def printInfo(self):\n",
    "        return f'{self.name} you are {self.age} years old'\n",
    "        \n",
    "pone = Person('Jaiye',0)\n",
    "pone.getAge()\n",
    "#pone.setAge(70)\n",
    "pone.printInfo()"
   ]
  },
  {
   "cell_type": "code",
   "execution_count": null,
   "metadata": {},
   "outputs": [],
   "source": []
  }
 ],
 "metadata": {
  "kernelspec": {
   "display_name": "Python 3",
   "language": "python",
   "name": "python3"
  },
  "language_info": {
   "codemirror_mode": {
    "name": "ipython",
    "version": 3
   },
   "file_extension": ".py",
   "mimetype": "text/x-python",
   "name": "python",
   "nbconvert_exporter": "python",
   "pygments_lexer": "ipython3",
   "version": "3.6.8"
  }
 },
 "nbformat": 4,
 "nbformat_minor": 2
}
