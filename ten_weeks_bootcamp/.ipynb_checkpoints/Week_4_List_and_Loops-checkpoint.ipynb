{
 "cells": [
  {
   "cell_type": "markdown",
   "metadata": {},
   "source": [
    "# Monday\n",
    "### List"
   ]
  },
  {
   "cell_type": "markdown",
   "metadata": {},
   "source": [
    "### Objectives:\n",
    "- Understanding list data types\n",
    "- How and why to use for loops\n",
    "- How and why to use while loops\n",
    "- Understanding how to work with lists\n",
    "- Create the Hangman Game"
   ]
  },
  {
   "cell_type": "markdown",
   "metadata": {},
   "source": [
    "### What are Lists\n",
    "- Is a data structure in python that is a mutable, ordered sequence of elements\n",
    "- They are very popular data types which in other language they are often referred to as `arrays'\n",
    "- List as far as python is concern is amongst data collection\n",
    "- `[]` it's mutable because the items within it can be changed and it's ordered and sequential because the elements within it are organize according to index numbers"
   ]
  },
  {
   "cell_type": "markdown",
   "metadata": {},
   "source": [
    "### Declaring a List of Number\n",
    "- Its declared like other variable however in the case of a list a variable is may be used to refers to a bunch of thing/values within a list `[]` which could range from numbers, strings and others and which are separated with a coma"
   ]
  },
  {
   "cell_type": "code",
   "execution_count": 2,
   "metadata": {},
   "outputs": [
    {
     "name": "stdout",
     "output_type": "stream",
     "text": [
      "[5, 10, 15.2, 20]\n"
     ]
    }
   ],
   "source": [
    "## dealcaring a list of number\n",
    "nums = [5,10, 15.2, 20]\n",
    "print(nums)\n"
   ]
  },
  {
   "cell_type": "markdown",
   "metadata": {},
   "source": [
    "### Accessing Elements within a List\n",
    "- To locate element within a list you use the index and in python counting starts from `0` not `1`"
   ]
  },
  {
   "cell_type": "code",
   "execution_count": 3,
   "metadata": {},
   "outputs": [
    {
     "name": "stdout",
     "output_type": "stream",
     "text": [
      "10\n",
      "15.2\n"
     ]
    }
   ],
   "source": [
    "#accessing elements within a list\n",
    "print(nums[1])\n",
    "num = nums[2] # saves index value 2 into num\n",
    "print(num)"
   ]
  },
  {
   "cell_type": "markdown",
   "metadata": {},
   "source": [
    "### Declaring a list of mixed data type"
   ]
  },
  {
   "cell_type": "code",
   "execution_count": 7,
   "metadata": {},
   "outputs": [
    {
     "name": "stdout",
     "output_type": "stream",
     "text": [
      "[4.3, 'word', True]\n",
      "[5, 'book', [34, 'hello'], True]\n",
      "[34, 'hello']\n"
     ]
    }
   ],
   "source": [
    "# declaring a list with missed types\n",
    "num = 4.3\n",
    "data = [num, \"word\", True] # typical of a data collection\n",
    "print(data)\n",
    "\n",
    "## List with a list\n",
    "data = [5, \"book\", [34,\"hello\"], True] #it can hold any type\n",
    "print(data)\n",
    "print(data[2])"
   ]
  },
  {
   "cell_type": "markdown",
   "metadata": {},
   "source": [
    "### Accessing List within a list\n",
    "- this done with two `[][]` instead of one"
   ]
  },
  {
   "cell_type": "code",
   "execution_count": 8,
   "metadata": {},
   "outputs": [
    {
     "name": "stdout",
     "output_type": "stream",
     "text": [
      "34\n",
      "hello\n"
     ]
    }
   ],
   "source": [
    "# using double bracket notation to acces list within list\n",
    "print(data[2][0])\n",
    "inner_list = data[2]\n",
    "print(inner_list[1])"
   ]
  },
  {
   "cell_type": "markdown",
   "metadata": {},
   "source": [
    "### Changing values in a List\n",
    "- the index of the list is used in this aspect\n"
   ]
  },
  {
   "cell_type": "code",
   "execution_count": 11,
   "metadata": {},
   "outputs": [
    {
     "name": "stdout",
     "output_type": "stream",
     "text": [
      "[5, 10, 15, 20]\n",
      "[100, 10, 15, 20]\n",
      "4549563528\n",
      "a:[5, 10]\t b: [5, 10]\n",
      " Location a[0] : 4494722608\t Location b[0]:4494722608\n",
      "a: [20, 10]\t b: [20, 10]\n"
     ]
    }
   ],
   "source": [
    "#changing values in a list through index \n",
    "data = [5, 10, 15,20]\n",
    "print(data)\n",
    "data[0] = 100\n",
    "print(data)\n",
    "\n",
    "## Variable storage\n",
    "# use the id() function\n",
    "a = [5,10]\n",
    "print(id(a))\n",
    "\n",
    "## understanding how lists are stored\n",
    "a = [5, 10]\n",
    "b = a\n",
    "print(f'a:{a}\\t b: {b}')\n",
    "print(f\" Location a[0] : {id(a[0])}\\t Location b[0]:{id(b[0])}\")\n",
    "a[0] = 20\n",
    "print(f\"a: {a}\\t b: {b}\")\n",
    "\n"
   ]
  },
  {
   "cell_type": "markdown",
   "metadata": {},
   "source": [
    "### Copying a List\n",
    "- This can be done without altering the original list\n"
   ]
  },
  {
   "cell_type": "code",
   "execution_count": 12,
   "metadata": {},
   "outputs": [
    {
     "name": "stdout",
     "output_type": "stream",
     "text": [
      "data: [50, 10, 15, 20]\t data_copy: [5, 10, 15, 20]\n"
     ]
    }
   ],
   "source": [
    "# using the [:] to copy a list\n",
    "data = [5, 10, 15,20]\n",
    "data_copy = data[:] # the method .copy() can also be used to copy\n",
    "data[0] = 50\n",
    "print(f\"data: {data}\\t data_copy: {data_copy}\")"
   ]
  },
  {
   "cell_type": "code",
   "execution_count": 23,
   "metadata": {},
   "outputs": [
    {
     "name": "stdout",
     "output_type": "stream",
     "text": [
      "I like playing: Volleyball\n",
      "I like playing: soccer\n",
      "I like playing: chess\n",
      "the first letter of John is: J\t the first letter of Abraham is: A\n"
     ]
    }
   ],
   "source": [
    "#exercises\n",
    "sports = ['Volleyball', 'soccer','chess']\n",
    "print(f'I like playing: {sports[0]}')\n",
    "print(f'I like playing: {sports[1]}')\n",
    "print(f'I like playing: {sports[2]}')\n",
    "\n",
    "#exercise first letter\n",
    "names = ['John', 'Abraham', 'Sam','Kelly']\n",
    "print(f'the first letter of {names[0]} is: {names[0][0]}\\t the first letter of {names[1]} is: {names[1][0]}')"
   ]
  },
  {
   "cell_type": "markdown",
   "metadata": {},
   "source": [
    "# Tuesday"
   ]
  },
  {
   "cell_type": "markdown",
   "metadata": {},
   "source": [
    "### Loops\n",
    "- In python and all other languages, there is the ability to run the same code more than once.There are two types:\n",
    "`for loops` and `while loops`"
   ]
  },
  {
   "cell_type": "markdown",
   "metadata": {},
   "source": [
    "### For Loops\n",
    "- loops in programming is the way programmer run the same code several times however the concept of loops happens in real life. we engage in same activities over a period of time or for all our lives\n",
    "\n",
    "- `for loop` : This is primarily used to loop for a fixed period of times. it begin with the key word `for` then define a temporal variable known as counter. It also has another key word `in` followed by the object we wish to loop over"
   ]
  },
  {
   "cell_type": "code",
   "execution_count": 1,
   "metadata": {},
   "outputs": [
    {
     "name": "stdout",
     "output_type": "stream",
     "text": [
      "Values: 0\n",
      "Values: 1\n",
      "Values: 2\n",
      "Values: 3\n",
      "Values: 4\n"
     ]
    }
   ],
   "source": [
    "# writing a for loop using range function\n",
    "for num in range(5):\n",
    "    print(f'Values: {num}')"
   ]
  },
  {
   "cell_type": "markdown",
   "metadata": {},
   "source": [
    "- `range()` enable us to count from a `start` point to an `end` point as well as `by` how much increment"
   ]
  },
  {
   "cell_type": "code",
   "execution_count": 2,
   "metadata": {},
   "outputs": [
    {
     "name": "stdout",
     "output_type": "stream",
     "text": [
      "Value: 2\n",
      "Value: 4\n",
      "Value: 6\n",
      "Value: 8\n"
     ]
    }
   ],
   "source": [
    "#providing the start, stop and step for the range function\n",
    "for num in range(2,10,2): # loop from 2 to 10 by  an increment of 2\n",
    "    print(f'Value: {num}')"
   ]
  },
  {
   "cell_type": "markdown",
   "metadata": {},
   "source": [
    "### Looping By Element\n",
    "- there are some data type that are `iterable`"
   ]
  },
  {
   "cell_type": "code",
   "execution_count": 4,
   "metadata": {},
   "outputs": [
    {
     "name": "stdout",
     "output_type": "stream",
     "text": [
      "Value: J\n",
      "Value: o\n",
      "Value: h\n",
      "Value: n\n",
      "Value:  \n",
      "Value: S\n",
      "Value: m\n",
      "Value: i\n",
      "Value: t\n",
      "Value: h\n"
     ]
    }
   ],
   "source": [
    "# print all character in a name using in\n",
    "name = 'John Smith'\n",
    "for letter in name:\n",
    "    print(f'Value: {letter}')"
   ]
  },
  {
   "cell_type": "markdown",
   "metadata": {},
   "source": [
    "### Continue statement\n",
    "- `continue` this is one of the numerous statement used in loops.It essentially instruct the computer once it sees the `continue` key word, the loop should resume from there."
   ]
  },
  {
   "cell_type": "code",
   "execution_count": 5,
   "metadata": {},
   "outputs": [
    {
     "name": "stdout",
     "output_type": "stream",
     "text": [
      "0\n",
      "1\n",
      "2\n",
      "4\n"
     ]
    }
   ],
   "source": [
    "# using the continue statement within a for loop\n",
    "for num in range(5):\n",
    "    if num == 3: # jumps 3\n",
    "        continue\n",
    "    print(num)"
   ]
  },
  {
   "cell_type": "markdown",
   "metadata": {},
   "source": [
    "### Break Statement\n",
    "- `break` :This statement as the name implies, allow us to `break` out of the loop circle when a condition is fulfilled\n"
   ]
  },
  {
   "cell_type": "code",
   "execution_count": 7,
   "metadata": {},
   "outputs": [
    {
     "name": "stdout",
     "output_type": "stream",
     "text": [
      "0\n",
      "1\n",
      "2\n"
     ]
    }
   ],
   "source": [
    "# breakking out of a loop using the 'break' key word\n",
    "for num in range(5):\n",
    "    if num == 3: # stop looping at this point\n",
    "        break\n",
    "    print(num)"
   ]
  },
  {
   "cell_type": "markdown",
   "metadata": {},
   "source": [
    "### Pass Statement\n",
    "- `pass` works like a placeholder for the statement not to break especially when you are yet to determine a condition\n"
   ]
  },
  {
   "cell_type": "code",
   "execution_count": 8,
   "metadata": {},
   "outputs": [],
   "source": [
    "# setting a placeholder using 'pass' keyword\n",
    "for i in range(5):\n",
    "    #Todo: add code print number\n",
    "    pass\n"
   ]
  },
  {
   "cell_type": "code",
   "execution_count": 10,
   "metadata": {},
   "outputs": [
    {
     "name": "stdout",
     "output_type": "stream",
     "text": [
      "Number divisible by 3:3\n",
      "Number divisible by 3:6\n",
      "Number divisible by 3:9\n",
      "Number divisible by 3:12\n",
      "Number divisible by 3:15\n",
      "Number divisible by 3:18\n",
      "Number divisible by 3:21\n",
      "Number divisible by 3:24\n",
      "Number divisible by 3:27\n",
      "Number divisible by 3:30\n",
      "Number divisible by 3:33\n",
      "Number divisible by 3:36\n",
      "Number divisible by 3:39\n",
      "Number divisible by 3:42\n",
      "Number divisible by 3:45\n",
      "Number divisible by 3:48\n",
      "Number divisible by 3:51\n",
      "Number divisible by 3:54\n",
      "Number divisible by 3:57\n",
      "Number divisible by 3:60\n",
      "Number divisible by 3:63\n",
      "Number divisible by 3:66\n",
      "Number divisible by 3:69\n",
      "Number divisible by 3:72\n",
      "Number divisible by 3:75\n",
      "Number divisible by 3:78\n",
      "Number divisible by 3:81\n",
      "Number divisible by 3:84\n",
      "Number divisible by 3:87\n",
      "Number divisible by 3:90\n",
      "Number divisible by 3:93\n",
      "Number divisible by 3:96\n",
      "Number divisible by 3:99\n"
     ]
    }
   ],
   "source": [
    "#excercise\n",
    "# loop divisible by three\n",
    "for num in range(1,100):\n",
    "    if num % 3 == 0:\n",
    "        print(f'Number divisible by 3:{num}')"
   ]
  },
  {
   "cell_type": "code",
   "execution_count": 23,
   "metadata": {},
   "outputs": [
    {
     "name": "stdout",
     "output_type": "stream",
     "text": [
      "what you favorit word:hello\n",
      "hello has the following vowels:eo\n"
     ]
    }
   ],
   "source": [
    "# exercise\n",
    "# print vowel from input\n",
    "vowl = 'aeiou'\n",
    "you_v = ''\n",
    "fav_words = input('what you favorit word:')\n",
    "for vowels in fav_words:\n",
    "    if vowels in vowl:\n",
    "        you_v += vowels\n",
    "print(f'{fav_words} has the following vowels:{you_v}')"
   ]
  },
  {
   "cell_type": "markdown",
   "metadata": {},
   "source": [
    "# Wednesday"
   ]
  },
  {
   "cell_type": "markdown",
   "metadata": {},
   "source": [
    "### While Loops\n",
    "- when the loop is based on a condition than counting\n",
    "- `while` : A typical while loop starts with the  `while` key word then follow by the condition and the loop continue until this condition is no longer valid"
   ]
  },
  {
   "cell_type": "code",
   "execution_count": 2,
   "metadata": {},
   "outputs": [
    {
     "name": "stdout",
     "output_type": "stream",
     "text": [
      "10\n",
      "9\n",
      "8\n",
      "7\n",
      "6\n",
      "5\n",
      "4\n",
      "3\n",
      "2\n",
      "1\n"
     ]
    }
   ],
   "source": [
    "# first while\n",
    "health = 10\n",
    "while health > 0:\n",
    "    print(health)\n",
    "    health -= 1 # without this, the loop will run forever:infinite loop!\n",
    "\n"
   ]
  },
  {
   "cell_type": "markdown",
   "metadata": {},
   "source": [
    "### While Vs. For\n",
    "- `while` loop is a condition-base iteration but when you wish to iterate by counting, `for` loop is advised. Both loop make use of the `break`, `continue`, `pass`\n",
    "- However care must be observed to avoid infinite loop especially with `while` loop"
   ]
  },
  {
   "cell_type": "markdown",
   "metadata": {},
   "source": [
    "### Nested Loops\n",
    "- Nested loop is a loop within a loop. The inner loop must run out it course before the outer loop set in "
   ]
  },
  {
   "cell_type": "code",
   "execution_count": 4,
   "metadata": {},
   "outputs": [
    {
     "name": "stdout",
     "output_type": "stream",
     "text": [
      "0 0\n",
      "0 1\n",
      "0 2\n",
      "1 0\n",
      "1 1\n",
      "1 2\n"
     ]
    }
   ],
   "source": [
    "#Using two or more loops together \n",
    "for i in range(2):\n",
    "    for j in range(3):\n",
    "        print(i,j)"
   ]
  },
  {
   "cell_type": "code",
   "execution_count": 5,
   "metadata": {},
   "outputs": [
    {
     "name": "stdout",
     "output_type": "stream",
     "text": [
      "how old are your? 23\n",
      "how old are your? 23\n",
      "how old are your? 34\n",
      "how old are your? 45\n",
      "how old are your? quit\n"
     ]
    }
   ],
   "source": [
    "#exercises\n",
    "#quit = False\n",
    "while True:\n",
    "    age = input('how old are your? ')\n",
    "    if age == 'quit':\n",
    "        break\n",
    "    "
   ]
  },
  {
   "cell_type": "code",
   "execution_count": 15,
   "metadata": {},
   "outputs": [
    {
     "name": "stdout",
     "output_type": "stream",
     "text": [
      "3\n",
      "game over\n"
     ]
    }
   ],
   "source": [
    "game_over = False\n",
    "while True:\n",
    "    for i in range(5):\n",
    "        if i == 3:\n",
    "            break\n",
    "    print(i)\n",
    "    break\n",
    "print('game over')"
   ]
  },
  {
   "cell_type": "code",
   "execution_count": null,
   "metadata": {},
   "outputs": [],
   "source": []
  },
  {
   "cell_type": "code",
   "execution_count": null,
   "metadata": {},
   "outputs": [],
   "source": []
  }
 ],
 "metadata": {
  "kernelspec": {
   "display_name": "Python 3",
   "language": "python",
   "name": "python3"
  },
  "language_info": {
   "codemirror_mode": {
    "name": "ipython",
    "version": 3
   },
   "file_extension": ".py",
   "mimetype": "text/x-python",
   "name": "python",
   "nbconvert_exporter": "python",
   "pygments_lexer": "ipython3",
   "version": "3.6.8"
  }
 },
 "nbformat": 4,
 "nbformat_minor": 2
}
