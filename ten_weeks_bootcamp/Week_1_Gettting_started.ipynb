{
 "cells": [
  {
   "cell_type": "markdown",
   "metadata": {},
   "source": [
    "# Monday"
   ]
  },
  {
   "cell_type": "markdown",
   "metadata": {},
   "source": [
    "### Why Python; What is Python\n",
    "- Python is **interpreted**, **High level**, and **General Purpose**\n",
    "- It's love because:\n",
    "1. one of the *easier* programming language especially for those encountering programming for the first time\n",
    "2. one of the fastest growing programming language"
   ]
  },
  {
   "cell_type": "markdown",
   "metadata": {},
   "source": [
    "## What await us\n",
    "- Learn the necessary theory and concepts that a python developer is expected to know\n",
    "- And at the end of each week build a real world application\n"
   ]
  },
  {
   "cell_type": "markdown",
   "metadata": {},
   "source": [
    "# Tuesday\n",
    "- I decided to combine the activity for *Tuesday* which is setting up a work environment, with the activity for Wednesday as  I already have a befitting working environment. Without further ado, let the party begin!"
   ]
  },
  {
   "cell_type": "markdown",
   "metadata": {},
   "source": [
    "### How to use the terminal\n",
    "- We shall learn basic commands and how to use the python shell\n"
   ]
  },
  {
   "cell_type": "markdown",
   "metadata": {},
   "source": [
    "#### Changing Directories\n",
    "- *cd* This command literally means change directory and as the name imply it enable the movement from one folder to another. e.g I can change or enter into the desktop directory with this command: *cd desktop*\n",
    "- *cd ..* to move back or access the directory before my current directory\n",
    "\n",
    "#### Checking the Directory\n",
    "- *pwd* This command display your current location and the paths thereto.\n",
    "\n",
    "#### Making Directories\n",
    "- *mkdir* This command creates directory. E.g `mkdir python_project` will create the 'python_project' directory.\n",
    "\n",
    "#### Creating Files\n",
    "- *touch* This command creates files under the Linux and OSX operating system. E.g if I want to create a python file under our python_project directory to write python code, I will say: *touch python_code.py*\n",
    "\n",
    "#### Checking a version number\n",
    "- *python --version* This  is used to check version numbers of packages downloaded. E.g the preceding command will display the python version installed on my computer\n",
    "\n",
    "#### Clearing the terminal output\n",
    "- *clear* as the name implies the preceding command will clear your command interface of the output of previous command issued\n",
    "\n"
   ]
  },
  {
   "cell_type": "markdown",
   "metadata": {},
   "source": [
    "### Using the Python Shell\n",
    "- This is a python environment where you write python code. Its use for writing python code snippets. However when its a block of code going to more than five or ten lines, the python shell isn't suited for this. This is where you are required to create a python file with a *py* extension but the draw back of this is that you won't be able to run your code on the fly.\n",
    "\n",
    "- *python*. The preceding code is the key to enter the python shell\n",
    "\n",
    "#### Write first python code\n",
    "- `print(\"Hello World!\")`. This python code will print 'Hello world' a pythonic greeting to the world.\n",
    "\n",
    "#### Exiting the Python Shell\n",
    "- `exit()`. This command will exit the python shell and take you back to the terminal environment"
   ]
  },
  {
   "cell_type": "markdown",
   "metadata": {},
   "source": [
    "# Wednesday"
   ]
  },
  {
   "cell_type": "markdown",
   "metadata": {},
   "source": [
    "## Using Jupyter Notebook\n",
    "Jupyter notebook is a tool common in the data science community, nevertheless it is a critical tool to learn  and practice python. To this end it is essential to learn how to use it effectively.\n",
    "\n",
    "#### Opening Jupyter Notebook\n",
    "- `jupyter notebook`. One of the effective way of opening the jupyter notebook is through the terminal. Just navigate to the interested directory and enter the command \"`jupyter notebook`\"\n",
    "\n",
    "#### Creating a  Python Notebook\n",
    "- Under the \"New\" drop-down button select and click \"python 3\"\n",
    "- A typical notebook is made up of independent cells into which you can write python scripts and markdown text\n",
    "- There are four important shortcuts to remember as you navigate between python script and  markdown text cells:\n",
    "\n",
    "    1. `esc`: which highlight the cell and thus change it color from light green to blue. By default a cell is light green and here you can write code, this case python scripts.\n",
    "    2. `esc` + `b`: This short cut highlights the current cell and open another cell below it\n",
    "    3. `esc` + `m`: This short cut highlight the cell and turns it to the markdown environment. Enable you to write markdown text just I'm doing this moment\n",
    "    4. `esc` + `y`: This shot cut highlight the cell and turns it to the code cell. You can enter python code script"
   ]
  },
  {
   "cell_type": "markdown",
   "metadata": {},
   "source": [
    "# Thursday"
   ]
  },
  {
   "cell_type": "markdown",
   "metadata": {},
   "source": [
    "### Creating the Program\n",
    "- This is when we apply all we have learn to create small project, usually done at the end of the week. We are doing it now because we are ahead of ourselves for good reason."
   ]
  },
  {
   "cell_type": "markdown",
   "metadata": {},
   "source": [
    "### Guessing Game\n"
   ]
  },
  {
   "cell_type": "code",
   "execution_count": null,
   "metadata": {},
   "outputs": [],
   "source": [
    "from random import randint\n",
    "from IPython.display import clear_output\n",
    "\n",
    "\n",
    "guessed = False\n",
    "number = randint(0,10)\n",
    "guesses = 0\n",
    "while not guessed:\n",
    "    ans = input('Try to guess the number I am thinking of!')\n",
    "    guesses += 1\n",
    "    clear_out()\n",
    "    if int(ans)"
   ]
  }
 ],
 "metadata": {
  "kernelspec": {
   "display_name": "Python 3",
   "language": "python",
   "name": "python3"
  },
  "language_info": {
   "codemirror_mode": {
    "name": "ipython",
    "version": 3
   },
   "file_extension": ".py",
   "mimetype": "text/x-python",
   "name": "python",
   "nbconvert_exporter": "python",
   "pygments_lexer": "ipython3",
   "version": "3.6.8"
  }
 },
 "nbformat": 4,
 "nbformat_minor": 2
}
