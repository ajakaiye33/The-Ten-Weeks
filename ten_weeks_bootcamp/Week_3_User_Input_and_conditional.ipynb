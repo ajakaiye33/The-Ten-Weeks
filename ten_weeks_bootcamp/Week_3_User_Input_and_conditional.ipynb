{
 "cells": [
  {
   "cell_type": "markdown",
   "metadata": {},
   "source": [
    "# Monday"
   ]
  },
  {
   "cell_type": "markdown",
   "metadata": {},
   "source": [
    "## User Input and Type Converting\n",
    "- User input and types conversion are critical tools in introducing interactions with users into softwares\n",
    "### Accepting User Input\n",
    "- `input()`: This input functions act somewhat like the print, aside printing statements it also seeks to get instant feedback from the user\n"
   ]
  },
  {
   "cell_type": "code",
   "execution_count": 2,
   "metadata": {},
   "outputs": [],
   "source": [
    "#Accepting and outputting user input\n",
    "#print(input('what is your name'))"
   ]
  },
  {
   "cell_type": "markdown",
   "metadata": {},
   "source": [
    "### Storing User Input\n",
    "- to do anything meaningful with the input function there must be a way to store responses and feedback from users\n"
   ]
  },
  {
   "cell_type": "code",
   "execution_count": 3,
   "metadata": {},
   "outputs": [
    {
     "name": "stdout",
     "output_type": "stream",
     "text": [
      "What is your name?\n",
      "Hello !\n"
     ]
    }
   ],
   "source": [
    "#saving what the user inputs\n",
    "ans =  input('What is your name?')\n",
    "print('Hello {}!'.format(ans))"
   ]
  },
  {
   "cell_type": "markdown",
   "metadata": {},
   "source": [
    "### What is type converting\n",
    "- ability to change data type also come handing with handling user input interaction as all response from user are `strings` which may not be useful especially if you wish to carry out mathematical operations with such responses in the software\n",
    "### Checking the type\n"
   ]
  },
  {
   "cell_type": "code",
   "execution_count": 4,
   "metadata": {},
   "outputs": [
    {
     "name": "stdout",
     "output_type": "stream",
     "text": [
      "<class 'int'>\n"
     ]
    }
   ],
   "source": [
    "# How to check the data type of a variable\n",
    "num = 5\n",
    "print(type(num))"
   ]
  },
  {
   "cell_type": "markdown",
   "metadata": {},
   "source": [
    "### Converting Data Types\n",
    "- This is possible in python by simply using the respective function to coerce the type of a variable from `strings` to `integer`using `int()` However there is a limit to data type converting."
   ]
  },
  {
   "cell_type": "code",
   "execution_count": 5,
   "metadata": {},
   "outputs": [
    {
     "name": "stdout",
     "output_type": "stream",
     "text": [
      "<class 'int'>\n"
     ]
    }
   ],
   "source": [
    "# converting a variablr from one data type to another\n",
    "num = '9'\n",
    "num = int(num)\n",
    "print(type(num))"
   ]
  },
  {
   "cell_type": "markdown",
   "metadata": {},
   "source": [
    "### Converting User Input\n"
   ]
  },
  {
   "cell_type": "code",
   "execution_count": 8,
   "metadata": {},
   "outputs": [
    {
     "name": "stdout",
     "output_type": "stream",
     "text": [
      "Type a number to add:19\n",
      "<class 'str'>\n",
      "100 + 19 = 119\n"
     ]
    }
   ],
   "source": [
    "# working with user input to perform calculations\n",
    "ans = input('Type a number to add:')\n",
    "print(type(ans))\n",
    "result = 100 + int(ans)\n",
    "print(\"100 + {} = {}\".format(ans, result))"
   ]
  },
  {
   "cell_type": "markdown",
   "metadata": {},
   "source": [
    "### Handling Errors\n",
    "- we should anticipate the likely mistake that may occur with user responses and act accordingly\n",
    "- The above would output error if the response was 'Nine' because mathematical operation can be carried out\n",
    "- `try and except` blocks are use to catch errors. which works by catching errors that may occur, respond to them without necessarily stopping the working of the program"
   ]
  },
  {
   "cell_type": "code",
   "execution_count": 16,
   "metadata": {},
   "outputs": [
    {
     "name": "stdout",
     "output_type": "stream",
     "text": [
      "Type a number to add:ten\n",
      "You did not put in a valid number\n"
     ]
    }
   ],
   "source": [
    "# using the try and except blocks\n",
    "try:\n",
    "    ans = float(input('Type a number to add:'))\n",
    "    print(\"100 + {} = {}\".format(ans,  100 + ans))\n",
    "except:\n",
    "    print(\"You did not put in a valid number\")\n"
   ]
  },
  {
   "cell_type": "markdown",
   "metadata": {},
   "source": [
    "### Code Blocks and Indentation\n",
    "-`Indentation` in python is for aesthetics but functional exercise, it is used to separate blocks of codes and when not properly done, could throw up errors accordingly\n"
   ]
  },
  {
   "cell_type": "code",
   "execution_count": 22,
   "metadata": {},
   "outputs": [
    {
     "name": "stdout",
     "output_type": "stream",
     "text": [
      "Are you are Girl:true\n",
      "<class 'bool'>\n",
      "True\n"
     ]
    }
   ],
   "source": [
    "# exercises\n",
    "# converting response to boolean\n",
    "ans = input('Are you are Girl:')\n",
    "ans = bool(ans.title())\n",
    "print(type(ans))\n",
    "print(ans)\n",
    "\n"
   ]
  },
  {
   "cell_type": "code",
   "execution_count": 23,
   "metadata": {},
   "outputs": [
    {
     "name": "stdout",
     "output_type": "stream",
     "text": [
      "Indicate the first number:10\n",
      "Indicate the second number:20\n",
      "10 + 20 is 30\n"
     ]
    }
   ],
   "source": [
    "#exercise 2\n",
    "#sum of inputs\n",
    "first_num = input(\"Indicate the first number:\")\n",
    "first_num = int(first_num)\n",
    "second_num = input(\"Indicate the second number:\")\n",
    "second_num = int(second_num)\n",
    "summy = first_num + second_num\n",
    "print(\"{} + {} is {}\" .format(first_num, second_num, summy))"
   ]
  },
  {
   "cell_type": "code",
   "execution_count": null,
   "metadata": {},
   "outputs": [],
   "source": []
  }
 ],
 "metadata": {
  "kernelspec": {
   "display_name": "Python 3",
   "language": "python",
   "name": "python3"
  },
  "language_info": {
   "codemirror_mode": {
    "name": "ipython",
    "version": 3
   },
   "file_extension": ".py",
   "mimetype": "text/x-python",
   "name": "python",
   "nbconvert_exporter": "python",
   "pygments_lexer": "ipython3",
   "version": "3.6.8"
  }
 },
 "nbformat": 4,
 "nbformat_minor": 2
}
