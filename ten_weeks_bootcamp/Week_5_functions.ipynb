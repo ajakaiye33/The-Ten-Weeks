{
 "cells": [
  {
   "cell_type": "markdown",
   "metadata": {},
   "source": [
    "# Monday"
   ]
  },
  {
   "cell_type": "markdown",
   "metadata": {},
   "source": [
    "## Functions"
   ]
  },
  {
   "cell_type": "markdown",
   "metadata": {},
   "source": [
    "### Creating and Calling Function\n",
    "- Function helps store code that can only run when called\n",
    "- Function brings efficiency into the programming process as function are written to handle one single task which can be used repeatedly as needed.\n",
    "\n",
    "### Function syntax\n",
    "- Begins with the key word `def` followed by the `name` of the function, followed by a `parentheses` which may include `parameters` which then followed by a `colon`\n"
   ]
  },
  {
   "cell_type": "code",
   "execution_count": 1,
   "metadata": {},
   "outputs": [
    {
     "name": "stdout",
     "output_type": "stream",
     "text": [
      "Name: John Smith\n",
      "Age:45\n",
      "Name: John Smith\n",
      "Age:45\n"
     ]
    }
   ],
   "source": [
    "# writing your first function\n",
    "def printInfo(): # defines what the function does when called\n",
    "    print('Name: John Smith')\n",
    "    print('Age:45')\n",
    "printInfo() #calls the function to run\n",
    "printInfo() # calls the function again\n",
    "    "
   ]
  },
  {
   "cell_type": "markdown",
   "metadata": {},
   "source": [
    "### Function stages\n",
    "- `function definition`: This is where you define the name of the function,any parameters it is suppose to do in the block of code associated\n",
    "- `function call` : calling the function runs the block of code within the function\n",
    "\n",
    "### UDF Vs Built-in\n",
    "- `Built-in` function are included in python.That is came with the language because they perform essential duties.e.g range, print, len e.t.c\n",
    "- `User define functions` This is the function created by users of python language like the above function\n"
   ]
  },
  {
   "cell_type": "code",
   "execution_count": 3,
   "metadata": {},
   "outputs": [
    {
     "name": "stdout",
     "output_type": "stream",
     "text": [
      "15\n"
     ]
    }
   ],
   "source": [
    "# performing a calculation ina function\n",
    "def calc():\n",
    "    x,y = 5, 10\n",
    "    print(x + y)\n",
    "calc() # will run the block of code within calc and output 15"
   ]
  },
  {
   "cell_type": "code",
   "execution_count": 5,
   "metadata": {},
   "outputs": [
    {
     "name": "stdout",
     "output_type": "stream",
     "text": [
      "Harry\n"
     ]
    }
   ],
   "source": [
    "#exercises\n",
    "def myName():\n",
    "    print('Harry')\n",
    "myName()"
   ]
  },
  {
   "cell_type": "code",
   "execution_count": null,
   "metadata": {},
   "outputs": [],
   "source": []
  }
 ],
 "metadata": {
  "kernelspec": {
   "display_name": "Python 3",
   "language": "python",
   "name": "python3"
  },
  "language_info": {
   "codemirror_mode": {
    "name": "ipython",
    "version": 3
   },
   "file_extension": ".py",
   "mimetype": "text/x-python",
   "name": "python",
   "nbconvert_exporter": "python",
   "pygments_lexer": "ipython3",
   "version": "3.6.8"
  }
 },
 "nbformat": 4,
 "nbformat_minor": 2
}
