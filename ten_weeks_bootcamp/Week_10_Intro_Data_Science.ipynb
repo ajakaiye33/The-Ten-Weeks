{
 "cells": [
  {
   "cell_type": "markdown",
   "metadata": {},
   "source": [
    "# Monday"
   ]
  },
  {
   "cell_type": "markdown",
   "metadata": {},
   "source": [
    "### Virtual Environment and Request Module"
   ]
  },
  {
   "cell_type": "markdown",
   "metadata": {},
   "source": [
    "### Sending A Request\n",
    "- using the Github API"
   ]
  },
  {
   "cell_type": "code",
   "execution_count": 4,
   "metadata": {},
   "outputs": [
    {
     "name": "stdout",
     "output_type": "stream",
     "text": [
      "<Response [200]>\n",
      "<class 'requests.models.Response'>\n"
     ]
    }
   ],
   "source": [
    "# ssending a request and logging the response code\n",
    "import requests\n",
    "r = requests.get('https://api.github.com/users/ajakaiye33')\n",
    "print(r)\n",
    "print(type(r))"
   ]
  },
  {
   "cell_type": "markdown",
   "metadata": {},
   "source": [
    "### Accessing the Response Content\n",
    "- to access the content of the information captured in the r variable, we used the `content` method of request module"
   ]
  },
  {
   "cell_type": "code",
   "execution_count": 5,
   "metadata": {},
   "outputs": [
    {
     "name": "stdout",
     "output_type": "stream",
     "text": [
      "b'{\"login\":\"ajakaiye33\",\"id\":12386109,\"node_id\":\"MDQ6VXNlcjEyMzg2MTA5\",\"avatar_url\":\"https://avatars3.githubusercontent.com/u/12386109?v=4\",\"gravatar_id\":\"\",\"url\":\"https://api.github.com/users/ajakaiye33\",\"html_url\":\"https://github.com/ajakaiye33\",\"followers_url\":\"https://api.github.com/users/ajakaiye33/followers\",\"following_url\":\"https://api.github.com/users/ajakaiye33/following{/other_user}\",\"gists_url\":\"https://api.github.com/users/ajakaiye33/gists{/gist_id}\",\"starred_url\":\"https://api.github.com/users/ajakaiye33/starred{/owner}{/repo}\",\"subscriptions_url\":\"https://api.github.com/users/ajakaiye33/subscriptions\",\"organizations_url\":\"https://api.github.com/users/ajakaiye33/orgs\",\"repos_url\":\"https://api.github.com/users/ajakaiye33/repos\",\"events_url\":\"https://api.github.com/users/ajakaiye33/events{/privacy}\",\"received_events_url\":\"https://api.github.com/users/ajakaiye33/received_events\",\"type\":\"User\",\"site_admin\":false,\"name\":\"Hedgar \",\"company\":null,\"blog\":\"\",\"location\":\"Earth, Milky Way\",\"email\":null,\"hireable\":null,\"bio\":\"Machine Learning |Data Analysis | Cloud Technology | Python \\\\r\\\\n--\\\\r\\\\n\\\\r\\\\n\\\\r\\\\n\\\\\"Wenn ich raste, roste ich\\\\\"\",\"twitter_username\":null,\"public_repos\":50,\"public_gists\":1,\"followers\":3,\"following\":26,\"created_at\":\"2015-05-10T23:20:05Z\",\"updated_at\":\"2020-08-01T20:25:01Z\"}'\n"
     ]
    }
   ],
   "source": [
    "# accessing the content that we requested from the URL\n",
    "data = r.content\n",
    "print(data)"
   ]
  },
  {
   "cell_type": "markdown",
   "metadata": {},
   "source": [
    "### Converting the Response\n",
    "- the request object has a json() which help to convert strings to dictionary\n"
   ]
  },
  {
   "cell_type": "code",
   "execution_count": 6,
   "metadata": {},
   "outputs": [
    {
     "name": "stdout",
     "output_type": "stream",
     "text": [
      "Key: login \t Value: ajakaiye33\n",
      "Key: id \t Value: 12386109\n",
      "Key: node_id \t Value: MDQ6VXNlcjEyMzg2MTA5\n",
      "Key: avatar_url \t Value: https://avatars3.githubusercontent.com/u/12386109?v=4\n",
      "Key: gravatar_id \t Value: \n",
      "Key: url \t Value: https://api.github.com/users/ajakaiye33\n",
      "Key: html_url \t Value: https://github.com/ajakaiye33\n",
      "Key: followers_url \t Value: https://api.github.com/users/ajakaiye33/followers\n",
      "Key: following_url \t Value: https://api.github.com/users/ajakaiye33/following{/other_user}\n",
      "Key: gists_url \t Value: https://api.github.com/users/ajakaiye33/gists{/gist_id}\n",
      "Key: starred_url \t Value: https://api.github.com/users/ajakaiye33/starred{/owner}{/repo}\n",
      "Key: subscriptions_url \t Value: https://api.github.com/users/ajakaiye33/subscriptions\n",
      "Key: organizations_url \t Value: https://api.github.com/users/ajakaiye33/orgs\n",
      "Key: repos_url \t Value: https://api.github.com/users/ajakaiye33/repos\n",
      "Key: events_url \t Value: https://api.github.com/users/ajakaiye33/events{/privacy}\n",
      "Key: received_events_url \t Value: https://api.github.com/users/ajakaiye33/received_events\n",
      "Key: type \t Value: User\n",
      "Key: site_admin \t Value: False\n",
      "Key: name \t Value: Hedgar \n",
      "Key: company \t Value: None\n",
      "Key: blog \t Value: \n",
      "Key: location \t Value: Earth, Milky Way\n",
      "Key: email \t Value: None\n",
      "Key: hireable \t Value: None\n",
      "Key: bio \t Value: Machine Learning |Data Analysis | Cloud Technology | Python \r\n",
      "--\r\n",
      "\r\n",
      "\r\n",
      "\"Wenn ich raste, roste ich\"\n",
      "Key: twitter_username \t Value: None\n",
      "Key: public_repos \t Value: 50\n",
      "Key: public_gists \t Value: 1\n",
      "Key: followers \t Value: 3\n",
      "Key: following \t Value: 26\n",
      "Key: created_at \t Value: 2015-05-10T23:20:05Z\n",
      "Key: updated_at \t Value: 2020-08-01T20:25:01Z\n",
      "Hedgar \n"
     ]
    }
   ],
   "source": [
    "# converting data from JSON into Python dictionary and outputting all key-value pairs\n",
    "data = r.json() # converting the data from a string to a dictionary\n",
    "for k, v in data.items():\n",
    "    print(f'Key: {k} \\t Value: {v}')\n",
    "print(data['name']) # accessing the data directly\n"
   ]
  },
  {
   "cell_type": "markdown",
   "metadata": {},
   "source": [
    "### Passing Parameters\n",
    "\n"
   ]
  },
  {
   "cell_type": "code",
   "execution_count": 8,
   "metadata": {},
   "outputs": [
    {
     "name": "stdout",
     "output_type": "stream",
     "text": [
      "<Response [200]>\n",
      "5709106\n"
     ]
    }
   ],
   "source": [
    "# outputting specific key-value pairs from data\n",
    "r = requests.get('https://api.github.com/search/repositories?q=language:python')\n",
    "print(r)\n",
    "data = r.json()\n",
    "print(data['total_count']) # output the total number of repositories that use python\n"
   ]
  },
  {
   "cell_type": "code",
   "execution_count": 10,
   "metadata": {},
   "outputs": [
    {
     "name": "stdout",
     "output_type": "stream",
     "text": [
      "10513353\n"
     ]
    }
   ],
   "source": [
    "# exercise\n",
    "r = requests.get('https://api.github.com/search/repositories?q=language:javascript')\n",
    "data = r.json()\n",
    "print(data['total_count'])"
   ]
  },
  {
   "cell_type": "code",
   "execution_count": null,
   "metadata": {},
   "outputs": [],
   "source": []
  }
 ],
 "metadata": {
  "kernelspec": {
   "display_name": "Python 3",
   "language": "python",
   "name": "python3"
  },
  "language_info": {
   "codemirror_mode": {
    "name": "ipython",
    "version": 3
   },
   "file_extension": ".py",
   "mimetype": "text/x-python",
   "name": "python",
   "nbconvert_exporter": "python",
   "pygments_lexer": "ipython3",
   "version": "3.6.8"
  }
 },
 "nbformat": 4,
 "nbformat_minor": 2
}
